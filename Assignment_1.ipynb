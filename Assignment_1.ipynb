{
 "cells": [
  {
   "cell_type": "code",
   "execution_count": 1,
   "metadata": {},
   "outputs": [],
   "source": [
    "import warnings\n",
    "def plotit(X,Y=None,clf=None,  conts = None, ccolors = ('b','k','r'), colors = ('c','y'), markers = ('s','o'), hold = False, transform = None,extent = None,**kwargs):\n",
    "    \"\"\"\n",
    "    A function for showing data scatter plot and classification boundary\n",
    "    of a classifier for 2D data\n",
    "        X: nxd  matrix of data points\n",
    "        Y: (optional) n vector of class labels\n",
    "        clf: (optional) classification/discriminant function handle\n",
    "        conts: (optional) contours (if None, contours are drawn for each class boundary)\n",
    "        ccolors: (optional) colors for contours   \n",
    "        colors: (optional) colors for each class (sorted wrt class id)\n",
    "            can be 'scaled' or 'random' or a list/tuple of color ids\n",
    "        markers: (optional) markers for each class (sorted wrt class id)\n",
    "        hold: Whether to hold the plot or not for overlay (default: False).\n",
    "        transform: (optional) a function handle for transforming data before passing to clf\n",
    "        kwargs: any keyword arguments to be passed to clf (if any)        \n",
    "    \"\"\"\n",
    "    if clf is not None and X.shape[1]!=2:\n",
    "        warnings.warn(\"Data Dimensionality is not 2. Unable to plot.\")\n",
    "        return\n",
    "    if markers is None:\n",
    "        markers = ('.',)\n",
    "    eps=1e-6\n",
    "    d0,d1 = (0,1)\n",
    "    if extent is None:\n",
    "        minx, maxx = np.min(X[:,d0])-0.5, np.max(X[:,d0])+0.5\n",
    "        miny, maxy = np.min(X[:,d1])-0.5, np.max(X[:,d1])+0.5\n",
    "        extent = [minx,maxx,miny,maxy]\n",
    "    else:\n",
    "        [minx,maxx,miny,maxy] = extent\n",
    "    if Y is not None:\n",
    "        classes = sorted(set(Y))\n",
    "        if conts is None or len(conts)<2:\n",
    "            #conts = list(classes)\n",
    "            vmin,vmax = classes[0]-eps,classes[-1]+eps\n",
    "        else:            \n",
    "            vmin,vmax= np.min(conts)-eps,np.max(conts)+eps\n",
    "        \n",
    "    else:\n",
    "        vmin,vmax=-2-eps,2+eps\n",
    "        if conts is None or len(conts)<2:            \n",
    "            conts = sorted([-1+eps,0,1-eps])\n",
    "        else:\n",
    "            vmin,vmax= np.min(conts)-eps,np.max(conts)+eps\n",
    "        \n",
    "    if clf is not None:\n",
    "        npts = 150\n",
    "        x = np.linspace(minx,maxx,npts)\n",
    "        y = np.linspace(miny,maxy,npts)\n",
    "        t = np.array(list(itertools.product(x,y)))\n",
    "        if transform is not None:\n",
    "            t = transform(t)\n",
    "        z = clf(t,**kwargs)\n",
    "        \n",
    "        z = np.reshape(z,(npts,npts)).T        \n",
    "        \n",
    "        \n",
    "        plt.contour(x,y,z,conts,linewidths = [2],colors=ccolors,extent=extent, label='f(x)=0')\n",
    "        #plt.imshow(np.flipud(z), extent = extent, cmap=plt.cm.Purples, vmin = -2, vmax = +2); plt.colorbar()\n",
    "        plt.pcolormesh(x, y, z,cmap=plt.cm.Purples,vmin=vmin,vmax=vmax);plt.colorbar()\n",
    "        plt.axis(extent)\n",
    "    \n",
    "    if Y is not None:        \n",
    "        for i,y in enumerate(classes):\n",
    "            \n",
    "            if colors is None or colors=='scaled':\n",
    "                cc = np.array([[i,i,i]])/float(len(classes))\n",
    "            elif colors =='random':\n",
    "                cc = np.array([[np.random.rand(),np.random.rand(),np.random.rand()]])\n",
    "            else:\n",
    "                cc = colors[i%len(colors)]\n",
    "            \n",
    "            mm = markers[i%len(markers)]\n",
    "            plt.scatter(X[Y==y,d0],X[Y==y,d1], marker = mm,c = cc, s = 50)     \n",
    "         \n",
    "    else:\n",
    "        plt.scatter(X[:,d0],X[:,d1],marker = markers[0], c = 'k', s = 5)\n",
    "    plt.xlabel('$x_1$')\n",
    "    plt.ylabel('$x_2$')   \n",
    "    if not hold:\n",
    "        plt.grid()        \n",
    "        plt.show()\n",
    "    return extent"
   ]
  },
  {
   "cell_type": "code",
   "execution_count": 1,
   "metadata": {},
   "outputs": [],
   "source": [
    "import numpy as np\n",
    "\n",
    "Xtest = np.loadtxt(\"Xtest.csv\", delimiter=' ')\n",
    "Xtrain = np.loadtxt(\"Xtrain.csv\", delimiter=' ' )\n",
    "Ytrain = np.loadtxt(\"Ytrain.csv\", delimiter=' ')"
   ]
  },
  {
   "cell_type": "code",
   "execution_count": 2,
   "metadata": {},
   "outputs": [
    {
     "name": "stdout",
     "output_type": "stream",
     "text": [
      "(3000, 784)\n",
      "(3000,)\n"
     ]
    }
   ],
   "source": [
    "print(Xtrain.shape)\n",
    "print(Ytrain.shape)"
   ]
  },
  {
   "cell_type": "markdown",
   "metadata": {},
   "source": [
    "There are 3000 rows (images) with corespoinding 3000 labels. "
   ]
  },
  {
   "cell_type": "code",
   "execution_count": 4,
   "metadata": {},
   "outputs": [
    {
     "data": {
      "image/png": "[encoded data removed]",
      "text/plain": [
       "<Figure size 288x288 with 1 Axes>"
      ]
     },
     "metadata": {
      "needs_background": "light"
     },
     "output_type": "display_data"
    },
    {
     "data": {
      "image/png": "[encoded data removed]",
      "text/plain": [
       "<Figure size 288x288 with 1 Axes>"
      ]
     },
     "metadata": {
      "needs_background": "light"
     },
     "output_type": "display_data"
    },
    {
     "data": {
      "image/png": "[encoded data removed]",
      "text/plain": [
       "<Figure size 288x288 with 1 Axes>"
      ]
     },
     "metadata": {
      "needs_background": "light"
     },
     "output_type": "display_data"
    },
    {
     "data": {
      "image/png": "[encoded data removed]",
      "text/plain": [
       "<Figure size 288x288 with 1 Axes>"
      ]
     },
     "metadata": {
      "needs_background": "light"
     },
     "output_type": "display_data"
    },
    {
     "data": {
      "image/png": "[encoded data removed]",
      "text/plain": [
       "<Figure size 288x288 with 1 Axes>"
      ]
     },
     "metadata": {
      "needs_background": "light"
     },
     "output_type": "display_data"
    },
    {
     "data": {
      "image/png": "[encoded data removed]",
      "text/plain": [
       "<Figure size 288x288 with 1 Axes>"
      ]
     },
     "metadata": {
      "needs_background": "light"
     },
     "output_type": "display_data"
    },
    {
     "data": {
      "image/png": "[encoded data removed]",
      "text/plain": [
       "<Figure size 288x288 with 1 Axes>"
      ]
     },
     "metadata": {
      "needs_background": "light"
     },
     "output_type": "display_data"
    },
    {
     "data": {
      "image/png": "[encoded data removed]",
      "text/plain": [
       "<Figure size 288x288 with 1 Axes>"
      ]
     },
     "metadata": {
      "needs_background": "light"
     },
     "output_type": "display_data"
    },
    {
     "data": {
      "image/png": "[encoded data removed]",
      "text/plain": [
       "<Figure size 288x288 with 1 Axes>"
      ]
     },
     "metadata": {
      "needs_background": "light"
     },
     "output_type": "display_data"
    },
    {
     "data": {
      "image/png": "[encoded data removed]",
      "text/plain": [
       "<Figure size 288x288 with 1 Axes>"
      ]
     },
     "metadata": {
      "needs_background": "light"
     },
     "output_type": "display_data"
    }
   ],
   "source": [
    "import matplotlib.pyplot as plt\n",
    "\n",
    "pos = Xtrain[Ytrain == 1]\n",
    "neg = Xtrain[Ytrain == -1]\n",
    "for i in range(10,15): \n",
    "    image_pos = np.reshape(pos[i], (28,28))\n",
    "    image_neg = np.reshape(neg[i], (28,28))\n",
    "    plt.matshow(image_pos)\n",
    "    plt.matshow(image_neg)"
   ]
  },
  {
   "cell_type": "code",
   "execution_count": null,
   "metadata": {},
   "outputs": [],
   "source": []
  },
  {
   "cell_type": "code",
   "execution_count": null,
   "metadata": {},
   "outputs": [],
   "source": []
  },
  {
   "cell_type": "code",
   "execution_count": 5,
   "metadata": {},
   "outputs": [
    {
     "data": {
      "text/plain": [
       "(array([-1.,  1.]), array([1821, 1179]))"
      ]
     },
     "execution_count": 5,
     "metadata": {},
     "output_type": "execute_result"
    }
   ],
   "source": [
    "np.unique(Ytrain, return_counts=True)"
   ]
  },
  {
   "cell_type": "markdown",
   "metadata": {},
   "source": [
    "1821 negatives and 1179 positive labels"
   ]
  },
  {
   "cell_type": "markdown",
   "metadata": {},
   "source": [
    "1 iv) If the random classifier could at mo"
   ]
  },
  {
   "cell_type": "code",
   "execution_count": 7,
   "metadata": {},
   "outputs": [
    {
     "data": {
      "text/plain": [
       "0.522898"
      ]
     },
     "execution_count": 7,
     "metadata": {},
     "output_type": "execute_result"
    }
   ],
   "source": [
    "1821/3000 * 1821/3000  + 1179/3000 * 1179/3000"
   ]
  },
  {
   "cell_type": "code",
   "execution_count": 2,
   "metadata": {},
   "outputs": [],
   "source": [
    "from sklearn.model_selection import StratifiedKFold\n",
    "from sklearn.neighbors import KNeighborsClassifier\n",
    "from sklearn.model_selection import cross_val_score\n",
    "\n",
    "sknn = KNeighborsClassifier(n_neighbors=1)\n",
    "\n",
    "skf = StratifiedKFold(n_splits=5)\n",
    "\n",
    "scores = cross_val_score(sknn, Xtrain, Ytrain, cv=skf)"
   ]
  },
  {
   "cell_type": "code",
   "execution_count": 36,
   "metadata": {},
   "outputs": [
    {
     "name": "stdout",
     "output_type": "stream",
     "text": [
      "[0.77833333 0.75333333 0.74       0.75833333 0.74      ]\n",
      "Accuracy: 0.75 (+/- 0.03)\n",
      "0.7539999999999999 0.01416568624058385\n"
     ]
    }
   ],
   "source": [
    "print(scores)\n",
    "# Accuracy basic summary\n",
    "print(\"Accuracy: %0.2f (+/- %0.2f)\" % (scores.mean(), scores.std() * 2))\n",
    "print(scores.mean(), scores.std())"
   ]
  },
  {
   "cell_type": "code",
   "execution_count": 19,
   "metadata": {},
   "outputs": [],
   "source": [
    "# Scaling\n",
    "from sklearn import preprocessing\n",
    "scaling = preprocessing.StandardScaler().fit(Xtrain)\n",
    "Xscale = scaling.transform(Xtrain)\n",
    "\n",
    "scaled_scores = cross_val_score(sknn, Xscale, Ytrain, cv=skf)"
   ]
  },
  {
   "cell_type": "code",
   "execution_count": 33,
   "metadata": {},
   "outputs": [
    {
     "name": "stdout",
     "output_type": "stream",
     "text": [
      "[0.74333333 0.75333333 0.77       0.77833333 0.75666667]\n",
      "Accuracy: 0.76 (+/- 0.02)\n",
      "0.7603333333333333 0.012400716825158862\n"
     ]
    }
   ],
   "source": [
    "print(scaled_scores)\n",
    "print(\"Accuracy: %0.2f (+/- %0.2f)\" % (scaled_scores.mean(), scaled_scores.std() * 2))\n",
    "print(scaled_scores.mean(), scaled_scores.std())\n",
    "# Accuracy is mildly better - higer accuracy with slightly lower standard deviation."
   ]
  },
  {
   "cell_type": "code",
   "execution_count": 34,
   "metadata": {},
   "outputs": [],
   "source": [
    "# MinMax Scaler\n",
    "min_max_scaler = preprocessing.MinMaxScaler()\n",
    "Xtrain_minmax = min_max_scaler.fit_transform(Xtrain)\n",
    "\n",
    "minmax_scores = cross_val_score(sknn, Xtrain_minmax, Ytrain, cv=skf)"
   ]
  },
  {
   "cell_type": "code",
   "execution_count": 35,
   "metadata": {
    "scrolled": true
   },
   "outputs": [
    {
     "name": "stdout",
     "output_type": "stream",
     "text": [
      "[0.77166667 0.75166667 0.74       0.76       0.74      ]\n",
      "Accuracy: 0.75 (+/- 0.02)\n",
      "0.7526666666666667 0.01213809430402207\n"
     ]
    }
   ],
   "source": [
    "print(minmax_scores)\n",
    "print(\"Accuracy: %0.2f (+/- %0.2f)\" % (minmax_scores.mean(), minmax_scores.std() * 2))\n",
    "print(minmax_scores.mean(), minmax_scores.std())\n",
    "# Accuracy is no better than with the unproccessde data, yet slightly lower standard deviation. \n",
    "# Still inferior to scaling."
   ]
  },
  {
   "cell_type": "code",
   "execution_count": 38,
   "metadata": {},
   "outputs": [],
   "source": [
    "# MaxAbs Scaler - must be centered at zero a priori\n",
    "\n",
    "demeaning = preprocessing.StandardScaler(with_std=False).fit(Xtrain)\n",
    "Xdemeaned = scaling.transform(Xtrain)\n",
    "max_abs_scaler = preprocessing.MaxAbsScaler()\n",
    "Xtrain_maxabs = max_abs_scaler.fit_transform(Xdemeaned)\n",
    "\n",
    "maxabs_scores = cross_val_score(sknn, Xtrain_maxabs, Ytrain, cv=skf)"
   ]
  },
  {
   "cell_type": "code",
   "execution_count": 40,
   "metadata": {},
   "outputs": [
    {
     "name": "stdout",
     "output_type": "stream",
     "text": [
      "[0.755      0.75166667 0.74333333 0.76       0.73333333]\n",
      "Accuracy: 0.75 (+/- 0.02)\n",
      "0.7486666666666666 0.009392668535736943\n"
     ]
    }
   ],
   "source": [
    "print(maxabs_scores)\n",
    "print(\"Accuracy: %0.2f (+/- %0.2f)\" % (maxabs_scores.mean(), maxabs_scores.std() * 2))\n",
    "print(maxabs_scores.mean(), maxabs_scores.std())\n",
    "# Due to lowest mean - worse predictor, yet the smallers s.d by construction. \n",
    "# Still no real imporovement over the simple scaling. "
   ]
  },
  {
   "cell_type": "markdown",
   "metadata": {},
   "source": [
    "Data is not sparse, hence sparsity transformation will not be applied."
   ]
  },
  {
   "cell_type": "code",
   "execution_count": 59,
   "metadata": {},
   "outputs": [
    {
     "data": {
      "image/png": "[encoded data removed]",
      "text/plain": [
       "<Figure size 432x288 with 1 Axes>"
      ]
     },
     "metadata": {
      "needs_background": "light"
     },
     "output_type": "display_data"
    }
   ],
   "source": [
    "# Checking for outliers\n",
    "\n",
    "from scipy import stats\n",
    "for i in range(784):\n",
    "    print(stats.mstats.mquantiles(Xtrain[:][i])\n",
    "          \n",
    "for i in range(5):\n",
    "    plt.boxplot(Xtrain[:][i])"
   ]
  },
  {
   "cell_type": "code",
   "execution_count": 60,
   "metadata": {},
   "outputs": [],
   "source": [
    "# Robust Scaling\n",
    "robust_scaling = preprocessing.RobustScaler().fit(Xtrain)\n",
    "Xrobust = robust_scaling.transform(Xtrain)\n",
    "\n",
    "robust_scores = cross_val_score(sknn, Xrobust, Ytrain, cv=skf)"
   ]
  },
  {
   "cell_type": "code",
   "execution_count": 61,
   "metadata": {},
   "outputs": [
    {
     "name": "stdout",
     "output_type": "stream",
     "text": [
      "[0.72333333 0.76666667 0.74166667 0.735      0.75166667]\n",
      "Accuracy: 0.74 (+/- 0.03)\n",
      "0.7436666666666667 0.014734690736866903\n"
     ]
    }
   ],
   "source": [
    "print(robust_scores)\n",
    "print(\"Accuracy: %0.2f (+/- %0.2f)\" % (robust_scores.mean(), robust_scores.std() * 2))\n",
    "print(robust_scores.mean(), robust_scores.std())\n",
    "# Outliers are unlikelly given the nature of the data (pixels).\n",
    "# Returns a worse accuracy - extreme values helps to classify"
   ]
  },
  {
   "cell_type": "code",
   "execution_count": 62,
   "metadata": {},
   "outputs": [],
   "source": [
    "# Uniform distribution transformation\n",
    "\n",
    "quantile_transformer = preprocessing.QuantileTransformer(random_state=0)\n",
    "Xuniform = quantile_transformer.fit_transform(Xtrain)\n",
    "\n",
    "uniform_scores = cross_val_score(sknn, Xuniform, Ytrain, cv=skf)"
   ]
  },
  {
   "cell_type": "code",
   "execution_count": 63,
   "metadata": {},
   "outputs": [
    {
     "name": "stdout",
     "output_type": "stream",
     "text": [
      "[0.78666667 0.75666667 0.75166667 0.755      0.75833333]\n",
      "Accuracy: 0.76 (+/- 0.03)\n",
      "0.7616666666666666 0.012692955176439823\n"
     ]
    }
   ],
   "source": [
    "print(uniform_scores)\n",
    "print(\"Accuracy: %0.2f (+/- %0.2f)\" % (uniform_scores.mean(), uniform_scores.std() * 2))\n",
    "print(uniform_scores.mean(), uniform_scores.std())\n",
    "# Mildly better than scaling"
   ]
  },
  {
   "cell_type": "code",
   "execution_count": 69,
   "metadata": {},
   "outputs": [],
   "source": [
    "normal_transformer = preprocessing.QuantileTransformer(output_distribution='normal', random_state=0)\n",
    "Xnormal = normal_transformer.fit_transform(Xtrain)\n",
    "\n",
    "normal_scores = cross_val_score(sknn, Xnormal, Ytrain, cv=skf)"
   ]
  },
  {
   "cell_type": "code",
   "execution_count": 70,
   "metadata": {
    "scrolled": true
   },
   "outputs": [
    {
     "name": "stdout",
     "output_type": "stream",
     "text": [
      "[0.64333333 0.66833333 0.65666667 0.67166667 0.665     ]\n",
      "Accuracy: 0.66 (+/- 0.02)\n",
      "0.6609999999999999 0.010143416036468634\n"
     ]
    }
   ],
   "source": [
    "print(normal_scores)\n",
    "print(\"Accuracy: %0.2f (+/- %0.2f)\" % (normal_scores.mean(), normal_scores.std() * 2))\n",
    "print(normal_scores.mean(), normal_scores.std())\n",
    "# terrible"
   ]
  },
  {
   "cell_type": "code",
   "execution_count": 75,
   "metadata": {},
   "outputs": [],
   "source": [
    "BoxCox = preprocessing.PowerTransformer(method='box-cox', standardize=False)\n",
    "\n",
    "# due to the zero values in the data\n",
    "Xboxcox = BoxCox.fit_transform(Xtrain+1)\n",
    "\n",
    "boxcox_scores = cross_val_score(sknn, Xtrain, Ytrain, cv=skf)"
   ]
  },
  {
   "cell_type": "code",
   "execution_count": 76,
   "metadata": {},
   "outputs": [
    {
     "name": "stdout",
     "output_type": "stream",
     "text": [
      "[0.77833333 0.75333333 0.74       0.75833333 0.74      ]\n",
      "Accuracy: 0.75 (+/- 0.03)\n",
      "0.7539999999999999 0.01416568624058385\n"
     ]
    }
   ],
   "source": [
    "print(boxcox_scores)\n",
    "print(\"Accuracy: %0.2f (+/- %0.2f)\" % (boxcox_scores.mean(), boxcox_scores.std() * 2))\n",
    "print(boxcox_scores.mean(), boxcox_scores.std())\n",
    "# not too bad, but not better than simple scaling or uniform disribution"
   ]
  },
  {
   "cell_type": "markdown",
   "metadata": {},
   "source": [
    "Need to try normalization too."
   ]
  },
  {
   "cell_type": "code",
   "execution_count": 95,
   "metadata": {},
   "outputs": [],
   "source": [
    "# creating odd list of K for KNN\n",
    "neighbors = list(range(1, 50, 2))\n",
    "\n",
    "# empty list that will hold cv scores\n",
    "cv_scores = []\n",
    "cv_std = []\n",
    "\n",
    "for k in neighbors:\n",
    "    knn = KNeighborsClassifier(n_neighbors=k)\n",
    "    scores = cross_val_score(knn, Xscale, Ytrain, cv=skf, scoring='accuracy')\n",
    "    cv_scores.append((k,scores.mean()))\n",
    "    cv_std.append((k,scores.std()))"
   ]
  },
  {
   "cell_type": "code",
   "execution_count": 96,
   "metadata": {},
   "outputs": [
    {
     "data": {
      "image/png": "[encoded data removed]",
      "text/plain": [
       "<Figure size 432x288 with 1 Axes>"
      ]
     },
     "metadata": {
      "needs_background": "light"
     },
     "output_type": "display_data"
    }
   ],
   "source": [
    "zip(*cv_scores)\n",
    "plt.scatter(*zip(*cv_scores))\n",
    "plt.show()"
   ]
  },
  {
   "cell_type": "code",
   "execution_count": 97,
   "metadata": {},
   "outputs": [
    {
     "data": {
      "image/png": "[encoded data removed]",
      "text/plain": [
       "<Figure size 432x288 with 1 Axes>"
      ]
     },
     "metadata": {
      "needs_background": "light"
     },
     "output_type": "display_data"
    }
   ],
   "source": [
    "zip(*cv_std)\n",
    "plt.scatter(*zip(*cv_std))\n",
    "plt.show()"
   ]
  },
  {
   "cell_type": "code",
   "execution_count": 98,
   "metadata": {},
   "outputs": [],
   "source": [
    "# creating odd list of K for KNN\n",
    "neighbors = list(range(50, 100, 2))\n",
    "\n",
    "# empty list that will hold cv scores\n",
    "cv_scores_next = []\n",
    "cv_std_next = []\n",
    "\n",
    "for k in neighbors:\n",
    "    knn = KNeighborsClassifier(n_neighbors=k)\n",
    "    scores = cross_val_score(knn, Xscale, Ytrain, cv=skf, scoring='accuracy')\n",
    "    cv_scores_next.append((k,scores.mean()))\n",
    "    cv_std_next.append((k,scores.std()))"
   ]
  },
  {
   "cell_type": "code",
   "execution_count": 99,
   "metadata": {},
   "outputs": [
    {
     "data": {
      "image/png": "[encoded data removed]",
      "text/plain": [
       "<Figure size 432x288 with 1 Axes>"
      ]
     },
     "metadata": {
      "needs_background": "light"
     },
     "output_type": "display_data"
    }
   ],
   "source": [
    "zip(*cv_scores_next)\n",
    "plt.scatter(*zip(*cv_scores_next))\n",
    "plt.show()"
   ]
  },
  {
   "cell_type": "code",
   "execution_count": 100,
   "metadata": {},
   "outputs": [
    {
     "data": {
      "image/png": "[encoded data removed]",
      "text/plain": [
       "<Figure size 432x288 with 1 Axes>"
      ]
     },
     "metadata": {
      "needs_background": "light"
     },
     "output_type": "display_data"
    }
   ],
   "source": [
    "zip(*cv_std_next)\n",
    "plt.scatter(*zip(*cv_std_next))\n",
    "plt.show()"
   ]
  },
  {
   "cell_type": "code",
   "execution_count": 106,
   "metadata": {},
   "outputs": [
    {
     "name": "stdout",
     "output_type": "stream",
     "text": [
      "[(1, 0.7603333333333333), (3, 0.7516666666666667), (5, 0.7619999999999999), (7, 0.7699999999999999), (9, 0.7656666666666666), (11, 0.7676666666666667), (13, 0.772), (15, 0.7683333333333333), (17, 0.7653333333333332), (19, 0.764), (21, 0.765), (23, 0.7673333333333334), (25, 0.7673333333333334), (27, 0.7633333333333334), (29, 0.7633333333333333), (31, 0.7656666666666666), (33, 0.7623333333333333), (35, 0.7606666666666666), (37, 0.7643333333333333), (39, 0.767), (41, 0.7653333333333333), (43, 0.764), (45, 0.7596666666666666), (47, 0.7586666666666666), (49, 0.7596666666666667)]\n"
     ]
    }
   ],
   "source": [
    "print(cv_scores)"
   ]
  },
  {
   "cell_type": "markdown",
   "metadata": {},
   "source": [
    "Test 12 and 14 now. k=3 seems to be the best"
   ]
  },
  {
   "cell_type": "code",
   "execution_count": 107,
   "metadata": {},
   "outputs": [],
   "source": [
    "# creating odd list of K for KNN\n",
    "neighbors = list(range(12, 15, 1))\n",
    "\n",
    "# empty list that will hold cv scores\n",
    "cv_scores_mid = []\n",
    "cv_std_mid = []\n",
    "\n",
    "for k in neighbors:\n",
    "    knn = KNeighborsClassifier(n_neighbors=k)\n",
    "    scores = cross_val_score(knn, Xtrain, Ytrain, cv=skf, scoring='accuracy')\n",
    "    cv_scores_mid.append((k,scores.mean()))\n",
    "    cv_std_mid.append((k,scores.std()))"
   ]
  },
  {
   "cell_type": "code",
   "execution_count": 109,
   "metadata": {},
   "outputs": [
    {
     "data": {
      "image/png": "[encoded data removed]",
      "text/plain": [
       "<Figure size 432x288 with 1 Axes>"
      ]
     },
     "metadata": {
      "needs_background": "light"
     },
     "output_type": "display_data"
    },
    {
     "name": "stdout",
     "output_type": "stream",
     "text": [
      "[(12, 0.7713333333333333), (13, 0.772), (14, 0.774)]\n"
     ]
    }
   ],
   "source": [
    "zip(*cv_scores_mid)\n",
    "plt.scatter(*zip(*cv_scores_mid))\n",
    "plt.show()\n",
    "print(cv_scores_mid)"
   ]
  },
  {
   "cell_type": "markdown",
   "metadata": {},
   "source": [
    "so choose k=14"
   ]
  },
  {
   "cell_type": "code",
   "execution_count": 13,
   "metadata": {},
   "outputs": [],
   "source": [
    "# creating odd list of K for KNN\n",
    "neighbors = list(range(1, 50, 2))\n",
    "\n",
    "# empty list that will hold cv scores\n",
    "cv_scores_def = []\n",
    "cv_std_def = []\n",
    "\n",
    "for k in neighbors:\n",
    "    knn = KNeighborsClassifier(n_neighbors=k)\n",
    "    scores = cross_val_score(knn, Xtrain, Ytrain, cv=skf, scoring='accuracy')\n",
    "    cv_scores_def.append((k,scores.mean()))\n",
    "    cv_std_def.append((k,scores.std()))"
   ]
  },
  {
   "cell_type": "code",
   "execution_count": 14,
   "metadata": {},
   "outputs": [
    {
     "data": {
      "image/png": "[encoded data removed]",
      "text/plain": [
       "<Figure size 432x288 with 1 Axes>"
      ]
     },
     "metadata": {
      "needs_background": "light"
     },
     "output_type": "display_data"
    },
    {
     "name": "stdout",
     "output_type": "stream",
     "text": [
      "[(1, 0.7536536194082021), (3, 0.7573208314467539), (5, 0.7583297314714763), (7, 0.7623291823958771), (9, 0.7659947435039172), (11, 0.7649952907276595), (13, 0.7683319666628704), (15, 0.7636652944406327), (17, 0.7686630833233796), (19, 0.7643314175872711), (21, 0.7703303064730735), (23, 0.7699941981320318), (25, 0.7716569749730786), (27, 0.767329193507019), (29, 0.7636664074066872), (31, 0.767663630547122), (33, 0.7689964092492849), (35, 0.7673330777770679), (37, 0.7683314064761292), (39, 0.7659969620285982), (41, 0.762996401841857), (43, 0.7636641759190071), (45, 0.760996398138143), (47, 0.7633319574035854), (49, 0.7660008500023612)]\n"
     ]
    }
   ],
   "source": [
    "zip(*cv_scores_def)\n",
    "plt.scatter(*zip(*cv_scores_def))\n",
    "plt.show()\n",
    "print(cv_scores_def)"
   ]
  },
  {
   "cell_type": "code",
   "execution_count": 15,
   "metadata": {},
   "outputs": [],
   "source": [
    "# creating odd list of K for KNN\n",
    "neighbors = list(range(19, 28, 1))\n",
    "\n",
    "# empty list that will hold cv scores\n",
    "cv_scores_zoom = []\n",
    "cv_std_zoom = []\n",
    "\n",
    "for k in neighbors:\n",
    "    knn = KNeighborsClassifier(n_neighbors=k)\n",
    "    scores = cross_val_score(knn, Xscale, Ytrain, cv=skf, scoring='accuracy')\n",
    "    cv_scores_zoom.append((k,scores.mean()))\n",
    "    cv_std_zoom.append((k,scores.std()))"
   ]
  },
  {
   "cell_type": "code",
   "execution_count": null,
   "metadata": {},
   "outputs": [],
   "source": [
    "zip(*cv_scores_zoom)\n",
    "plt.scatter(*zip(*cv_scores_zoom))\n",
    "plt.show()\n",
    "print(cv_scores_zoom)\n",
    "# still does not match scaled k=14 performance. But close"
   ]
  },
  {
   "cell_type": "code",
   "execution_count": 20,
   "metadata": {},
   "outputs": [
    {
     "name": "stdout",
     "output_type": "stream",
     "text": [
      "0.6346668601857226 0.03916055404005618\n"
     ]
    },
    {
     "name": "stderr",
     "output_type": "stream",
     "text": [
      "/local/java/python-pip-packages.cs909/lib64/python3.6/site-packages/sklearn/linear_model/stochastic_gradient.py:166: FutureWarning: max_iter and tol parameters have been added in Perceptron in 0.19. If both are left unset, they default to max_iter=5 and tol=None. If tol is not None, max_iter defaults to max_iter=1000. From 0.21, default max_iter will be 1000, and default tol will be 1e-3.\n",
      "  FutureWarning)\n",
      "/local/java/python-pip-packages.cs909/lib64/python3.6/site-packages/sklearn/linear_model/stochastic_gradient.py:166: FutureWarning: max_iter and tol parameters have been added in Perceptron in 0.19. If both are left unset, they default to max_iter=5 and tol=None. If tol is not None, max_iter defaults to max_iter=1000. From 0.21, default max_iter will be 1000, and default tol will be 1e-3.\n",
      "  FutureWarning)\n",
      "/local/java/python-pip-packages.cs909/lib64/python3.6/site-packages/sklearn/linear_model/stochastic_gradient.py:166: FutureWarning: max_iter and tol parameters have been added in Perceptron in 0.19. If both are left unset, they default to max_iter=5 and tol=None. If tol is not None, max_iter defaults to max_iter=1000. From 0.21, default max_iter will be 1000, and default tol will be 1e-3.\n",
      "  FutureWarning)\n",
      "/local/java/python-pip-packages.cs909/lib64/python3.6/site-packages/sklearn/linear_model/stochastic_gradient.py:166: FutureWarning: max_iter and tol parameters have been added in Perceptron in 0.19. If both are left unset, they default to max_iter=5 and tol=None. If tol is not None, max_iter defaults to max_iter=1000. From 0.21, default max_iter will be 1000, and default tol will be 1e-3.\n",
      "  FutureWarning)\n",
      "/local/java/python-pip-packages.cs909/lib64/python3.6/site-packages/sklearn/linear_model/stochastic_gradient.py:166: FutureWarning: max_iter and tol parameters have been added in Perceptron in 0.19. If both are left unset, they default to max_iter=5 and tol=None. If tol is not None, max_iter defaults to max_iter=1000. From 0.21, default max_iter will be 1000, and default tol will be 1e-3.\n",
      "  FutureWarning)\n"
     ]
    }
   ],
   "source": [
    "# Perceptron\n",
    "\n",
    "from sklearn.model_selection import cross_val_score\n",
    "from sklearn.linear_model import Perceptron\n",
    "\n",
    "perceptron = Perceptron(random_state = 0)\n",
    "\n",
    "# IF y if binary or multiclass, Statified is used once cv=n is specified\n",
    "perceptron_scores = cross_val_score(perceptron, Xscale, Ytrain, cv=5)\n",
    "print(perceptron_scores.mean(), perceptron_scores.std())"
   ]
  },
  {
   "cell_type": "code",
   "execution_count": 21,
   "metadata": {},
   "outputs": [
    {
     "name": "stdout",
     "output_type": "stream",
     "text": [
      "[0.67387687 0.605      0.575      0.645      0.67445743]\n"
     ]
    }
   ],
   "source": [
    "print(perceptron_scores)"
   ]
  },
  {
   "cell_type": "code",
   "execution_count": 34,
   "metadata": {},
   "outputs": [
    {
     "name": "stdout",
     "output_type": "stream",
     "text": [
      "Train Accuracy 0.8466666666666667\n"
     ]
    }
   ],
   "source": [
    "from sklearn.svm import SVC\n",
    "\n",
    "LSVM = SVC(C = 1.0, class_weight = 'balanced', kernel = 'linear')\n",
    "\n",
    "#scores = cross_val_score(LSVM, Xtrain, Ytrain, cv=5)\n",
    "#print(scores)\n",
    "\n",
    "#Zp = LSVM.decision_function(Xtrain)\n",
    "\n",
    "print( \"Train Accuracy\", np.mean(Ypredict==Ytrain))"
   ]
  },
  {
   "cell_type": "code",
   "execution_count": null,
   "metadata": {},
   "outputs": [],
   "source": [
    "LSVM.fit(Xscale,Ytrain)\n",
    "Ypredict = LSVM.predict(Xscale)\n",
    "\n",
    "print( \"Train Accuracy\", np.mean(Ypredict==Ytrain))"
   ]
  },
  {
   "cell_type": "code",
   "execution_count": 32,
   "metadata": {},
   "outputs": [
    {
     "name": "stderr",
     "output_type": "stream",
     "text": [
      "/local/java/python-pip-packages.cs909/lib64/python3.6/site-packages/sklearn/svm/base.py:922: ConvergenceWarning: Liblinear failed to converge, increase the number of iterations.\n",
      "  \"the number of iterations.\", ConvergenceWarning)\n",
      "/local/java/python-pip-packages.cs909/lib64/python3.6/site-packages/sklearn/svm/base.py:922: ConvergenceWarning: Liblinear failed to converge, increase the number of iterations.\n",
      "  \"the number of iterations.\", ConvergenceWarning)\n",
      "/local/java/python-pip-packages.cs909/lib64/python3.6/site-packages/sklearn/svm/base.py:922: ConvergenceWarning: Liblinear failed to converge, increase the number of iterations.\n",
      "  \"the number of iterations.\", ConvergenceWarning)\n",
      "/local/java/python-pip-packages.cs909/lib64/python3.6/site-packages/sklearn/svm/base.py:922: ConvergenceWarning: Liblinear failed to converge, increase the number of iterations.\n",
      "  \"the number of iterations.\", ConvergenceWarning)\n"
     ]
    },
    {
     "name": "stdout",
     "output_type": "stream",
     "text": [
      "[0.63560732 0.65       0.64666667 0.68166667 0.68280467]\n"
     ]
    },
    {
     "name": "stderr",
     "output_type": "stream",
     "text": [
      "/local/java/python-pip-packages.cs909/lib64/python3.6/site-packages/sklearn/svm/base.py:922: ConvergenceWarning: Liblinear failed to converge, increase the number of iterations.\n",
      "  \"the number of iterations.\", ConvergenceWarning)\n"
     ]
    }
   ],
   "source": [
    "LSVMscore = cross_val_score(LSVM, Xscale, Ytrain, cv=5)\n",
    "print(LSVMscore)"
   ]
  },
  {
   "cell_type": "code",
   "execution_count": null,
   "metadata": {},
   "outputs": [],
   "source": [
    "polySVM = SVC(C = 1, kernel = 'poly', degree = 2,  class_weight = 'balanced', coef0 = 1.0)\n",
    "\n",
    "clf.fit(X,Y)"
   ]
  },
  {
   "cell_type": "code",
   "execution_count": null,
   "metadata": {},
   "outputs": [],
   "source": [
    "clf = SVC(C = 1.0, kernel = 'linear', class_weight = 'balanced')"
   ]
  },
  {
   "cell_type": "code",
   "execution_count": null,
   "metadata": {},
   "outputs": [],
   "source": []
  },
  {
   "cell_type": "code",
   "execution_count": null,
   "metadata": {},
   "outputs": [],
   "source": []
  },
  {
   "cell_type": "code",
   "execution_count": null,
   "metadata": {},
   "outputs": [],
   "source": []
  }
 ],
 "metadata": {
  "kernelspec": {
   "display_name": "Python 3",
   "language": "python",
   "name": "python3"
  },
  "language_info": {
   "codemirror_mode": {
    "name": "ipython",
    "version": 3
   },
   "file_extension": ".py",
   "mimetype": "text/x-python",
   "name": "python",
   "nbconvert_exporter": "python",
   "pygments_lexer": "ipython3",
   "version": "3.6.8"
  }
 },
 "nbformat": 4,
 "nbformat_minor": 2
}
