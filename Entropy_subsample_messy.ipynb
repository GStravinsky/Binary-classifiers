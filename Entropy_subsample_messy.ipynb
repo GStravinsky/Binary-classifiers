{
  "nbformat": 4,
  "nbformat_minor": 0,
  "metadata": {
    "colab": {
      "name": "Copy of Entropy_subsample.ipynb",
      "provenance": [],
      "collapsed_sections": [],
      "toc_visible": true,
      "include_colab_link": true
    },
    "kernelspec": {
      "display_name": "Python 3",
      "language": "python",
      "name": "python3"
    },
    "language_info": {
      "codemirror_mode": {
        "name": "ipython",
        "version": 3
      },
      "file_extension": ".py",
      "mimetype": "text/x-python",
      "name": "python",
      "nbconvert_exporter": "python",
      "pygments_lexer": "ipython3",
      "version": "3.7.4"
    },
    "toc": {
      "base_numbering": 1,
      "nav_menu": {},
      "number_sections": true,
      "sideBar": true,
      "skip_h1_title": false,
      "title_cell": "Table of Contents",
      "title_sidebar": "Contents",
      "toc_cell": false,
      "toc_position": {},
      "toc_section_display": true,
      "toc_window_display": false
    }
  },
  "cells": [
    {
      "cell_type": "markdown",
      "metadata": {
        "id": "view-in-github",
        "colab_type": "text"
      },
      "source": [
        "<a href=\"https://colab.research.google.com/github/GStravinsky/Binary-classifiers/blob/master/Entropy_subsample_messy.ipynb\" target=\"_parent\"><img src=\"https://colab.research.google.com/assets/colab-badge.svg\" alt=\"Open In Colab\"/></a>"
      ]
    },
    {
      "cell_type": "code",
      "metadata": {
        "colab_type": "code",
        "id": "FtYMZRZFRMDX",
        "colab": {}
      },
      "source": [
        "import numpy as np\n",
        "import pandas as pd \n",
        "from sklearn.decomposition import PCA\n",
        "import matplotlib.pyplot as plt\n",
        "import math\n",
        "from scipy.stats import pearsonr\n",
        "from sklearn.metrics import r2_score"
      ],
      "execution_count": 1,
      "outputs": []
    },
    {
      "cell_type": "code",
      "metadata": {
        "colab_type": "code",
        "id": "cgHzIRWCRYV4",
        "colab": {
          "base_uri": "https://localhost:8080/",
          "height": 122
        },
        "outputId": "13968725-3c2f-4f4e-9f31-ecba4a98e1a7"
      },
      "source": [
        "from google.colab import drive\n",
        "drive.mount('/content/drive')"
      ],
      "execution_count": 2,
      "outputs": [
        {
          "output_type": "stream",
          "text": [
            "Go to this URL in a browser: https://accounts.google.com/o/oauth2/auth?client_id=947318989803-6bn6qk8qdgf4n4g3pfee6491hc0brc4i.apps.googleusercontent.com&redirect_uri=urn%3aietf%3awg%3aoauth%3a2.0%3aoob&response_type=code&scope=email%20https%3a%2f%2fwww.googleapis.com%2fauth%2fdocs.test%20https%3a%2f%2fwww.googleapis.com%2fauth%2fdrive%20https%3a%2f%2fwww.googleapis.com%2fauth%2fdrive.photos.readonly%20https%3a%2f%2fwww.googleapis.com%2fauth%2fpeopleapi.readonly\n",
            "\n",
            "Enter your authorization code:\n",
            "··········\n",
            "Mounted at /content/drive\n"
          ],
          "name": "stdout"
        }
      ]
    },
    {
      "cell_type": "markdown",
      "metadata": {
        "colab_type": "text",
        "id": "ixJjUpiURMDj"
      },
      "source": [
        "# Loading all data"
      ]
    },
    {
      "cell_type": "markdown",
      "metadata": {
        "colab_type": "text",
        "id": "OlynwgMaRMDj"
      },
      "source": [
        "Loading all datasets used - main triplet data, embedded vectors generates with Poisson factotization, bridge data that connects TrackId with SongId and song genre data. "
      ]
    },
    {
      "cell_type": "code",
      "metadata": {
        "colab_type": "code",
        "id": "jxPDItebRMDk",
        "colab": {}
      },
      "source": [
        "# main triplet data\n",
        "data = pd.read_csv(\"/content/drive/My Drive/MSc Statistics/train_triplets.txt\",\n",
        "                   delimiter=\"\\t\", header=None, names= [\"UserId\", \"SongId\", \"Count\"])"
      ],
      "execution_count": 3,
      "outputs": []
    },
    {
      "cell_type": "code",
      "metadata": {
        "colab_type": "code",
        "id": "opNRe63-RMDr",
        "colab": {},
        "outputId": "194b217d-0576-4d82-8175-3ebd703ac7a4"
      },
      "source": [
        "data.head()"
      ],
      "execution_count": null,
      "outputs": [
        {
          "output_type": "execute_result",
          "data": {
            "text/html": [
              "<div>\n",
              "<style scoped>\n",
              "    .dataframe tbody tr th:only-of-type {\n",
              "        vertical-align: middle;\n",
              "    }\n",
              "\n",
              "    .dataframe tbody tr th {\n",
              "        vertical-align: top;\n",
              "    }\n",
              "\n",
              "    .dataframe thead th {\n",
              "        text-align: right;\n",
              "    }\n",
              "</style>\n",
              "<table border=\"1\" class=\"dataframe\">\n",
              "  <thead>\n",
              "    <tr style=\"text-align: right;\">\n",
              "      <th></th>\n",
              "      <th>UserId</th>\n",
              "      <th>SongId</th>\n",
              "      <th>Count</th>\n",
              "    </tr>\n",
              "  </thead>\n",
              "  <tbody>\n",
              "    <tr>\n",
              "      <th>0</th>\n",
              "      <td>b80344d063b5ccb3212f76538f3d9e43d87dca9e</td>\n",
              "      <td>SOAKIMP12A8C130995</td>\n",
              "      <td>1</td>\n",
              "    </tr>\n",
              "    <tr>\n",
              "      <th>1</th>\n",
              "      <td>b80344d063b5ccb3212f76538f3d9e43d87dca9e</td>\n",
              "      <td>SOAPDEY12A81C210A9</td>\n",
              "      <td>1</td>\n",
              "    </tr>\n",
              "    <tr>\n",
              "      <th>2</th>\n",
              "      <td>b80344d063b5ccb3212f76538f3d9e43d87dca9e</td>\n",
              "      <td>SOBBMDR12A8C13253B</td>\n",
              "      <td>2</td>\n",
              "    </tr>\n",
              "    <tr>\n",
              "      <th>3</th>\n",
              "      <td>b80344d063b5ccb3212f76538f3d9e43d87dca9e</td>\n",
              "      <td>SOBFNSP12AF72A0E22</td>\n",
              "      <td>1</td>\n",
              "    </tr>\n",
              "    <tr>\n",
              "      <th>4</th>\n",
              "      <td>b80344d063b5ccb3212f76538f3d9e43d87dca9e</td>\n",
              "      <td>SOBFOVM12A58A7D494</td>\n",
              "      <td>1</td>\n",
              "    </tr>\n",
              "  </tbody>\n",
              "</table>\n",
              "</div>"
            ],
            "text/plain": [
              "                                     UserId              SongId  Count\n",
              "0  b80344d063b5ccb3212f76538f3d9e43d87dca9e  SOAKIMP12A8C130995      1\n",
              "1  b80344d063b5ccb3212f76538f3d9e43d87dca9e  SOAPDEY12A81C210A9      1\n",
              "2  b80344d063b5ccb3212f76538f3d9e43d87dca9e  SOBBMDR12A8C13253B      2\n",
              "3  b80344d063b5ccb3212f76538f3d9e43d87dca9e  SOBFNSP12AF72A0E22      1\n",
              "4  b80344d063b5ccb3212f76538f3d9e43d87dca9e  SOBFOVM12A58A7D494      1"
            ]
          },
          "metadata": {
            "tags": []
          },
          "execution_count": 6
        }
      ]
    },
    {
      "cell_type": "code",
      "metadata": {
        "colab_type": "code",
        "id": "lAFaVL-1RMDv",
        "colab": {}
      },
      "source": [
        "# embedded vectors data\n",
        "embeds = np.load(\"/content/drive/My Drive/MSc Statistics/track-embeddings-v2.npz\", allow_pickle=True)"
      ],
      "execution_count": null,
      "outputs": []
    },
    {
      "cell_type": "markdown",
      "metadata": {
        "colab_type": "text",
        "id": "9K3NBbvwRMDy"
      },
      "source": [
        "\"beta\" part corresponds to the 100 dimensional embedded vectors and \"mapping\" - to the corresponding SongId"
      ]
    },
    {
      "cell_type": "code",
      "metadata": {
        "colab_type": "code",
        "id": "Tm7ji5zjRMDy",
        "colab": {},
        "outputId": "58bd77b5-7e63-4f40-bd0c-742e1e75c92c"
      },
      "source": [
        "#shape of the song vectors\n",
        "embeds[\"beta\"].shape"
      ],
      "execution_count": null,
      "outputs": [
        {
          "output_type": "execute_result",
          "data": {
            "text/plain": [
              "(384546, 100)"
            ]
          },
          "metadata": {
            "tags": []
          },
          "execution_count": 12
        }
      ]
    },
    {
      "cell_type": "code",
      "metadata": {
        "colab_type": "code",
        "id": "ZE-D-gYbRMD1",
        "colab": {},
        "outputId": "8e6f4d60-562c-4c05-c15e-0df05e94831a"
      },
      "source": [
        "# shape of the link vector\n",
        "embeds[\"mapping\"].shape"
      ],
      "execution_count": null,
      "outputs": [
        {
          "output_type": "execute_result",
          "data": {
            "text/plain": [
              "(384546,)"
            ]
          },
          "metadata": {
            "tags": []
          },
          "execution_count": 13
        }
      ]
    },
    {
      "cell_type": "code",
      "metadata": {
        "colab_type": "code",
        "id": "-_T7uF4LRMD5",
        "colab": {},
        "outputId": "29eeb7ab-b3ae-4797-b904-df2485e32748"
      },
      "source": [
        "# these link vectors correspond to SongId\n",
        "embeds[\"mapping\"][1]"
      ],
      "execution_count": null,
      "outputs": [
        {
          "output_type": "execute_result",
          "data": {
            "text/plain": [
              "'SOAPDEY12A81C210A9'"
            ]
          },
          "metadata": {
            "tags": []
          },
          "execution_count": 14
        }
      ]
    },
    {
      "cell_type": "code",
      "metadata": {
        "colab_type": "code",
        "id": "7tPlU80IRMED",
        "colab": {
          "base_uri": "https://localhost:8080/",
          "height": 71
        },
        "outputId": "3bc71197-e64e-4dda-e3de-2e06c59e70e0"
      },
      "source": [
        "# data to connect TrackId with SongId\n",
        "bridge = pd.read_csv(\"/content/drive/My Drive/MSc Statistics/unique_tracks.txt\",  delimiter=\"<SEP>\", header=None, \n",
        "                    names= [\"TrackId\", \"SongId\", \"Artist\", \"Song_name\"])"
      ],
      "execution_count": 7,
      "outputs": [
        {
          "output_type": "stream",
          "text": [
            "/usr/local/lib/python3.6/dist-packages/ipykernel_launcher.py:3: ParserWarning: Falling back to the 'python' engine because the 'c' engine does not support regex separators (separators > 1 char and different from '\\s+' are interpreted as regex); you can avoid this warning by specifying engine='python'.\n",
            "  This is separate from the ipykernel package so we can avoid doing imports until\n"
          ],
          "name": "stderr"
        }
      ]
    },
    {
      "cell_type": "code",
      "metadata": {
        "colab_type": "code",
        "id": "mxU0l_y7RMEH",
        "colab": {},
        "outputId": "27d48c78-59d8-471c-a244-ed083fb92366"
      },
      "source": [
        "bridge.head()"
      ],
      "execution_count": null,
      "outputs": [
        {
          "output_type": "execute_result",
          "data": {
            "text/html": [
              "<div>\n",
              "<style scoped>\n",
              "    .dataframe tbody tr th:only-of-type {\n",
              "        vertical-align: middle;\n",
              "    }\n",
              "\n",
              "    .dataframe tbody tr th {\n",
              "        vertical-align: top;\n",
              "    }\n",
              "\n",
              "    .dataframe thead th {\n",
              "        text-align: right;\n",
              "    }\n",
              "</style>\n",
              "<table border=\"1\" class=\"dataframe\">\n",
              "  <thead>\n",
              "    <tr style=\"text-align: right;\">\n",
              "      <th></th>\n",
              "      <th>TrackId</th>\n",
              "      <th>SongId</th>\n",
              "      <th>Artist</th>\n",
              "      <th>Song_name</th>\n",
              "    </tr>\n",
              "  </thead>\n",
              "  <tbody>\n",
              "    <tr>\n",
              "      <th>0</th>\n",
              "      <td>TRMMMYQ128F932D901</td>\n",
              "      <td>SOQMMHC12AB0180CB8</td>\n",
              "      <td>Faster Pussy cat</td>\n",
              "      <td>Silent Night</td>\n",
              "    </tr>\n",
              "    <tr>\n",
              "      <th>1</th>\n",
              "      <td>TRMMMKD128F425225D</td>\n",
              "      <td>SOVFVAK12A8C1350D9</td>\n",
              "      <td>Karkkiautomaatti</td>\n",
              "      <td>Tanssi vaan</td>\n",
              "    </tr>\n",
              "    <tr>\n",
              "      <th>2</th>\n",
              "      <td>TRMMMRX128F93187D9</td>\n",
              "      <td>SOGTUKN12AB017F4F1</td>\n",
              "      <td>Hudson Mohawke</td>\n",
              "      <td>No One Could Ever</td>\n",
              "    </tr>\n",
              "    <tr>\n",
              "      <th>3</th>\n",
              "      <td>TRMMMCH128F425532C</td>\n",
              "      <td>SOBNYVR12A8C13558C</td>\n",
              "      <td>Yerba Brava</td>\n",
              "      <td>Si Vos Querés</td>\n",
              "    </tr>\n",
              "    <tr>\n",
              "      <th>4</th>\n",
              "      <td>TRMMMWA128F426B589</td>\n",
              "      <td>SOHSBXH12A8C13B0DF</td>\n",
              "      <td>Der Mystic</td>\n",
              "      <td>Tangle Of Aspens</td>\n",
              "    </tr>\n",
              "  </tbody>\n",
              "</table>\n",
              "</div>"
            ],
            "text/plain": [
              "              TrackId              SongId            Artist          Song_name\n",
              "0  TRMMMYQ128F932D901  SOQMMHC12AB0180CB8  Faster Pussy cat       Silent Night\n",
              "1  TRMMMKD128F425225D  SOVFVAK12A8C1350D9  Karkkiautomaatti        Tanssi vaan\n",
              "2  TRMMMRX128F93187D9  SOGTUKN12AB017F4F1    Hudson Mohawke  No One Could Ever\n",
              "3  TRMMMCH128F425532C  SOBNYVR12A8C13558C       Yerba Brava      Si Vos Querés\n",
              "4  TRMMMWA128F426B589  SOHSBXH12A8C13B0DF        Der Mystic   Tangle Of Aspens"
            ]
          },
          "metadata": {
            "tags": []
          },
          "execution_count": 15
        }
      ]
    },
    {
      "cell_type": "code",
      "metadata": {
        "colab_type": "code",
        "id": "H97y4ayS3Wy9",
        "colab": {
          "base_uri": "https://localhost:8080/",
          "height": 34
        },
        "outputId": "d4953669-0d8f-4955-d866-f973fda1d52c"
      },
      "source": [
        "bridge.shape"
      ],
      "execution_count": null,
      "outputs": [
        {
          "output_type": "execute_result",
          "data": {
            "text/plain": [
              "(1000000, 4)"
            ]
          },
          "metadata": {
            "tags": []
          },
          "execution_count": 73
        }
      ]
    },
    {
      "cell_type": "code",
      "metadata": {
        "colab_type": "code",
        "id": "G9RKQX9xRMEM",
        "colab": {}
      },
      "source": [
        "# song genre data\n",
        "genres = pd.read_csv(\"/content/drive/My Drive/MSc Statistics/ganres.txt\",  delimiter=\"\\t\", header=None,\n",
        "                     names= [\"TrackId\", \"Main_genre\", \"Minor_genre\"])"
      ],
      "execution_count": null,
      "outputs": []
    },
    {
      "cell_type": "code",
      "metadata": {
        "colab_type": "code",
        "id": "POmwvOkoRMEV",
        "colab": {},
        "outputId": "a61ee9e4-a2ec-4efd-e29c-ce5cfa055044"
      },
      "source": [
        "genres.head()"
      ],
      "execution_count": null,
      "outputs": [
        {
          "output_type": "execute_result",
          "data": {
            "text/html": [
              "<div>\n",
              "<style scoped>\n",
              "    .dataframe tbody tr th:only-of-type {\n",
              "        vertical-align: middle;\n",
              "    }\n",
              "\n",
              "    .dataframe tbody tr th {\n",
              "        vertical-align: top;\n",
              "    }\n",
              "\n",
              "    .dataframe thead th {\n",
              "        text-align: right;\n",
              "    }\n",
              "</style>\n",
              "<table border=\"1\" class=\"dataframe\">\n",
              "  <thead>\n",
              "    <tr style=\"text-align: right;\">\n",
              "      <th></th>\n",
              "      <th>TrackId</th>\n",
              "      <th>Main_genre</th>\n",
              "      <th>Minor_genre</th>\n",
              "    </tr>\n",
              "  </thead>\n",
              "  <tbody>\n",
              "    <tr>\n",
              "      <th>0</th>\n",
              "      <td>TRAAAAK128F9318786</td>\n",
              "      <td>Rock</td>\n",
              "      <td>NaN</td>\n",
              "    </tr>\n",
              "    <tr>\n",
              "      <th>1</th>\n",
              "      <td>TRAAAAW128F429D538</td>\n",
              "      <td>Rap</td>\n",
              "      <td>NaN</td>\n",
              "    </tr>\n",
              "    <tr>\n",
              "      <th>2</th>\n",
              "      <td>TRAAABD128F429CF47</td>\n",
              "      <td>Rock</td>\n",
              "      <td>RnB</td>\n",
              "    </tr>\n",
              "    <tr>\n",
              "      <th>3</th>\n",
              "      <td>TRAAADJ128F4287B47</td>\n",
              "      <td>Rock</td>\n",
              "      <td>NaN</td>\n",
              "    </tr>\n",
              "    <tr>\n",
              "      <th>4</th>\n",
              "      <td>TRAAADZ128F9348C2E</td>\n",
              "      <td>Latin</td>\n",
              "      <td>NaN</td>\n",
              "    </tr>\n",
              "  </tbody>\n",
              "</table>\n",
              "</div>"
            ],
            "text/plain": [
              "              TrackId Main_genre Minor_genre\n",
              "0  TRAAAAK128F9318786       Rock         NaN\n",
              "1  TRAAAAW128F429D538        Rap         NaN\n",
              "2  TRAAABD128F429CF47       Rock         RnB\n",
              "3  TRAAADJ128F4287B47       Rock         NaN\n",
              "4  TRAAADZ128F9348C2E      Latin         NaN"
            ]
          },
          "metadata": {
            "tags": []
          },
          "execution_count": 18
        }
      ]
    },
    {
      "cell_type": "code",
      "metadata": {
        "colab_type": "code",
        "id": "s3EmnqJE3UCI",
        "colab": {
          "base_uri": "https://localhost:8080/",
          "height": 34
        },
        "outputId": "212e55bb-dce7-43f5-b430-bbb71539d393"
      },
      "source": [
        "genres.shape"
      ],
      "execution_count": null,
      "outputs": [
        {
          "output_type": "execute_result",
          "data": {
            "text/plain": [
              "(280831, 3)"
            ]
          },
          "metadata": {
            "tags": []
          },
          "execution_count": 72
        }
      ]
    },
    {
      "cell_type": "markdown",
      "metadata": {
        "toc-hr-collapsed": true,
        "id": "pKM45XWmUUIx",
        "colab_type": "text"
      },
      "source": [
        "# Merging the data"
      ]
    },
    {
      "cell_type": "markdown",
      "metadata": {
        "colab_type": "text",
        "id": "jHc5anD0Zi7n"
      },
      "source": [
        "Merging the data so we could connect SongId with some metadata. Conducting the same data analysis below."
      ]
    },
    {
      "cell_type": "code",
      "metadata": {
        "colab_type": "code",
        "id": "gpbdUAXdRMFB",
        "colab": {}
      },
      "source": [
        "mid_merge = pd.merge(left = genres, right = bridge, left_on=\"TrackId\", right_on=\"TrackId\")"
      ],
      "execution_count": null,
      "outputs": []
    },
    {
      "cell_type": "code",
      "metadata": {
        "colab_type": "code",
        "id": "RaEc1mx6RMFG",
        "colab": {
          "base_uri": "https://localhost:8080/",
          "height": 204
        },
        "outputId": "aeb23f8e-a966-42dc-ba21-7863792d0188"
      },
      "source": [
        "mid_merge.head()"
      ],
      "execution_count": null,
      "outputs": [
        {
          "output_type": "execute_result",
          "data": {
            "text/html": [
              "<div>\n",
              "<style scoped>\n",
              "    .dataframe tbody tr th:only-of-type {\n",
              "        vertical-align: middle;\n",
              "    }\n",
              "\n",
              "    .dataframe tbody tr th {\n",
              "        vertical-align: top;\n",
              "    }\n",
              "\n",
              "    .dataframe thead th {\n",
              "        text-align: right;\n",
              "    }\n",
              "</style>\n",
              "<table border=\"1\" class=\"dataframe\">\n",
              "  <thead>\n",
              "    <tr style=\"text-align: right;\">\n",
              "      <th></th>\n",
              "      <th>TrackId</th>\n",
              "      <th>Main_genre</th>\n",
              "      <th>Minor_genre</th>\n",
              "      <th>SongId</th>\n",
              "      <th>Artist</th>\n",
              "      <th>Song_name</th>\n",
              "    </tr>\n",
              "  </thead>\n",
              "  <tbody>\n",
              "    <tr>\n",
              "      <th>0</th>\n",
              "      <td>TRAAAAK128F9318786</td>\n",
              "      <td>Rock</td>\n",
              "      <td>NaN</td>\n",
              "      <td>SOBLFFE12AF72AA5BA</td>\n",
              "      <td>Adelitas Way</td>\n",
              "      <td>Scream</td>\n",
              "    </tr>\n",
              "    <tr>\n",
              "      <th>1</th>\n",
              "      <td>TRAAAAW128F429D538</td>\n",
              "      <td>Rap</td>\n",
              "      <td>NaN</td>\n",
              "      <td>SOMZWCG12A8C13C480</td>\n",
              "      <td>Casual</td>\n",
              "      <td>I Didn't Mean To</td>\n",
              "    </tr>\n",
              "    <tr>\n",
              "      <th>2</th>\n",
              "      <td>TRAAABD128F429CF47</td>\n",
              "      <td>Rock</td>\n",
              "      <td>RnB</td>\n",
              "      <td>SOCIWDW12A8C13D406</td>\n",
              "      <td>The Box Tops</td>\n",
              "      <td>Soul Deep</td>\n",
              "    </tr>\n",
              "    <tr>\n",
              "      <th>3</th>\n",
              "      <td>TRAAADJ128F4287B47</td>\n",
              "      <td>Rock</td>\n",
              "      <td>NaN</td>\n",
              "      <td>SOCSNVI12A8C13ECC2</td>\n",
              "      <td>Big Brother &amp; The Holding Company</td>\n",
              "      <td>Heartache People</td>\n",
              "    </tr>\n",
              "    <tr>\n",
              "      <th>4</th>\n",
              "      <td>TRAAADZ128F9348C2E</td>\n",
              "      <td>Latin</td>\n",
              "      <td>NaN</td>\n",
              "      <td>SOXVLOJ12AB0189215</td>\n",
              "      <td>Sonora Santanera</td>\n",
              "      <td>Amor De Cabaret</td>\n",
              "    </tr>\n",
              "  </tbody>\n",
              "</table>\n",
              "</div>"
            ],
            "text/plain": [
              "              TrackId  ...         Song_name\n",
              "0  TRAAAAK128F9318786  ...            Scream\n",
              "1  TRAAAAW128F429D538  ...  I Didn't Mean To\n",
              "2  TRAAABD128F429CF47  ...         Soul Deep\n",
              "3  TRAAADJ128F4287B47  ...  Heartache People\n",
              "4  TRAAADZ128F9348C2E  ...   Amor De Cabaret\n",
              "\n",
              "[5 rows x 6 columns]"
            ]
          },
          "metadata": {
            "tags": []
          },
          "execution_count": 71
        }
      ]
    },
    {
      "cell_type": "code",
      "metadata": {
        "colab_type": "code",
        "id": "A8o8UIYoRMFJ",
        "colab": {
          "base_uri": "https://localhost:8080/",
          "height": 34
        },
        "outputId": "1576a2e3-9c09-4926-e0ce-1a868b9bd1ea"
      },
      "source": [
        "print(mid_merge.shape)"
      ],
      "execution_count": null,
      "outputs": [
        {
          "output_type": "stream",
          "text": [
            "(280831, 6)\n"
          ],
          "name": "stdout"
        }
      ]
    },
    {
      "cell_type": "code",
      "metadata": {
        "colab_type": "code",
        "id": "65UX2RhvRMFN",
        "colab": {}
      },
      "source": [
        "ganre_merge = pd.merge(left = mid_merge, right = data, left_on=\"SongId\", right_on=\"SongId\")"
      ],
      "execution_count": null,
      "outputs": []
    },
    {
      "cell_type": "code",
      "metadata": {
        "colab_type": "code",
        "id": "jDSNylcNRMFS",
        "colab": {
          "base_uri": "https://localhost:8080/",
          "height": 204
        },
        "outputId": "bad77901-2489-4617-ad37-cf8e1c82690d"
      },
      "source": [
        "ganre_merge.head()"
      ],
      "execution_count": null,
      "outputs": [
        {
          "output_type": "execute_result",
          "data": {
            "text/html": [
              "<div>\n",
              "<style scoped>\n",
              "    .dataframe tbody tr th:only-of-type {\n",
              "        vertical-align: middle;\n",
              "    }\n",
              "\n",
              "    .dataframe tbody tr th {\n",
              "        vertical-align: top;\n",
              "    }\n",
              "\n",
              "    .dataframe thead th {\n",
              "        text-align: right;\n",
              "    }\n",
              "</style>\n",
              "<table border=\"1\" class=\"dataframe\">\n",
              "  <thead>\n",
              "    <tr style=\"text-align: right;\">\n",
              "      <th></th>\n",
              "      <th>TrackId</th>\n",
              "      <th>Main_genre</th>\n",
              "      <th>Minor_genre</th>\n",
              "      <th>SongId</th>\n",
              "      <th>Artist</th>\n",
              "      <th>Song_name</th>\n",
              "      <th>UserId</th>\n",
              "      <th>Count</th>\n",
              "    </tr>\n",
              "  </thead>\n",
              "  <tbody>\n",
              "    <tr>\n",
              "      <th>0</th>\n",
              "      <td>TRAAAAK128F9318786</td>\n",
              "      <td>Rock</td>\n",
              "      <td>NaN</td>\n",
              "      <td>SOBLFFE12AF72AA5BA</td>\n",
              "      <td>Adelitas Way</td>\n",
              "      <td>Scream</td>\n",
              "      <td>cf9a8225b3626e668facf9dda53a2ef3da445bf6</td>\n",
              "      <td>1</td>\n",
              "    </tr>\n",
              "    <tr>\n",
              "      <th>1</th>\n",
              "      <td>TRAAAAK128F9318786</td>\n",
              "      <td>Rock</td>\n",
              "      <td>NaN</td>\n",
              "      <td>SOBLFFE12AF72AA5BA</td>\n",
              "      <td>Adelitas Way</td>\n",
              "      <td>Scream</td>\n",
              "      <td>6776279a369a04148a92597d270ac500ddc7a27c</td>\n",
              "      <td>3</td>\n",
              "    </tr>\n",
              "    <tr>\n",
              "      <th>2</th>\n",
              "      <td>TRAAAAK128F9318786</td>\n",
              "      <td>Rock</td>\n",
              "      <td>NaN</td>\n",
              "      <td>SOBLFFE12AF72AA5BA</td>\n",
              "      <td>Adelitas Way</td>\n",
              "      <td>Scream</td>\n",
              "      <td>8c412b22910a9c9531ac72ec742913d73317782d</td>\n",
              "      <td>1</td>\n",
              "    </tr>\n",
              "    <tr>\n",
              "      <th>3</th>\n",
              "      <td>TRAAAAK128F9318786</td>\n",
              "      <td>Rock</td>\n",
              "      <td>NaN</td>\n",
              "      <td>SOBLFFE12AF72AA5BA</td>\n",
              "      <td>Adelitas Way</td>\n",
              "      <td>Scream</td>\n",
              "      <td>74230c5555c9f4e929f8e6c25344b7ee1f37d9e3</td>\n",
              "      <td>2</td>\n",
              "    </tr>\n",
              "    <tr>\n",
              "      <th>4</th>\n",
              "      <td>TRAAAAK128F9318786</td>\n",
              "      <td>Rock</td>\n",
              "      <td>NaN</td>\n",
              "      <td>SOBLFFE12AF72AA5BA</td>\n",
              "      <td>Adelitas Way</td>\n",
              "      <td>Scream</td>\n",
              "      <td>dac762704dfe74075187e98623f92268727bf749</td>\n",
              "      <td>1</td>\n",
              "    </tr>\n",
              "  </tbody>\n",
              "</table>\n",
              "</div>"
            ],
            "text/plain": [
              "              TrackId  ... Count\n",
              "0  TRAAAAK128F9318786  ...     1\n",
              "1  TRAAAAK128F9318786  ...     3\n",
              "2  TRAAAAK128F9318786  ...     1\n",
              "3  TRAAAAK128F9318786  ...     2\n",
              "4  TRAAAAK128F9318786  ...     1\n",
              "\n",
              "[5 rows x 8 columns]"
            ]
          },
          "metadata": {
            "tags": []
          },
          "execution_count": 34
        }
      ]
    },
    {
      "cell_type": "markdown",
      "metadata": {
        "colab_type": "text",
        "id": "LRy5rHeA__2V",
        "toc-hr-collapsed": true
      },
      "source": [
        "# Subsampling triplets"
      ]
    },
    {
      "cell_type": "markdown",
      "metadata": {
        "colab_type": "text",
        "id": "uxSU-lMKYpyf"
      },
      "source": [
        "Creating a 100 user subsample of dataset for quick concept checking."
      ]
    },
    {
      "cell_type": "code",
      "metadata": {
        "colab_type": "code",
        "id": "-bI51iy8AERK",
        "colab": {}
      },
      "source": [
        "toy_triplets = data['UserId'].sample(n=100, random_state=1)"
      ],
      "execution_count": 4,
      "outputs": []
    },
    {
      "cell_type": "code",
      "metadata": {
        "colab_type": "code",
        "id": "s1-__-egAVQS",
        "colab": {}
      },
      "source": [
        "toy_triplets = pd.merge(left = toy_triplets, right = data, left_on=\"UserId\", right_on=\"UserId\")"
      ],
      "execution_count": 5,
      "outputs": []
    },
    {
      "cell_type": "code",
      "metadata": {
        "colab_type": "code",
        "id": "sM23pP8NAv1R",
        "colab": {
          "base_uri": "https://localhost:8080/",
          "height": 34
        },
        "outputId": "9280af44-401a-44be-d112-1a43a9386f35"
      },
      "source": [
        "toy_triplets.shape"
      ],
      "execution_count": null,
      "outputs": [
        {
          "output_type": "execute_result",
          "data": {
            "text/plain": [
              "(16055, 3)"
            ]
          },
          "metadata": {
            "tags": []
          },
          "execution_count": 12
        }
      ]
    },
    {
      "cell_type": "code",
      "metadata": {
        "colab_type": "code",
        "id": "1YPOswpdDYt8",
        "colab": {
          "base_uri": "https://localhost:8080/",
          "height": 204
        },
        "outputId": "831d1d1a-32b1-4327-f48f-c8aa9feaf499"
      },
      "source": [
        "toy_triplets.head()"
      ],
      "execution_count": null,
      "outputs": [
        {
          "output_type": "execute_result",
          "data": {
            "text/html": [
              "<div>\n",
              "<style scoped>\n",
              "    .dataframe tbody tr th:only-of-type {\n",
              "        vertical-align: middle;\n",
              "    }\n",
              "\n",
              "    .dataframe tbody tr th {\n",
              "        vertical-align: top;\n",
              "    }\n",
              "\n",
              "    .dataframe thead th {\n",
              "        text-align: right;\n",
              "    }\n",
              "</style>\n",
              "<table border=\"1\" class=\"dataframe\">\n",
              "  <thead>\n",
              "    <tr style=\"text-align: right;\">\n",
              "      <th></th>\n",
              "      <th>UserId</th>\n",
              "      <th>SongId</th>\n",
              "      <th>Count</th>\n",
              "    </tr>\n",
              "  </thead>\n",
              "  <tbody>\n",
              "    <tr>\n",
              "      <th>0</th>\n",
              "      <td>6151509c99d22614f2ffb97693234d8c068b3b22</td>\n",
              "      <td>SOAAFAC12A67ADF7EB</td>\n",
              "      <td>2</td>\n",
              "    </tr>\n",
              "    <tr>\n",
              "      <th>1</th>\n",
              "      <td>6151509c99d22614f2ffb97693234d8c068b3b22</td>\n",
              "      <td>SOAAQWU12A8C13F908</td>\n",
              "      <td>1</td>\n",
              "    </tr>\n",
              "    <tr>\n",
              "      <th>2</th>\n",
              "      <td>6151509c99d22614f2ffb97693234d8c068b3b22</td>\n",
              "      <td>SOACHXA12A58A7BE3E</td>\n",
              "      <td>1</td>\n",
              "    </tr>\n",
              "    <tr>\n",
              "      <th>3</th>\n",
              "      <td>6151509c99d22614f2ffb97693234d8c068b3b22</td>\n",
              "      <td>SOACJLF12A6D4F657D</td>\n",
              "      <td>1</td>\n",
              "    </tr>\n",
              "    <tr>\n",
              "      <th>4</th>\n",
              "      <td>6151509c99d22614f2ffb97693234d8c068b3b22</td>\n",
              "      <td>SOACYUL12A6D4F9C79</td>\n",
              "      <td>1</td>\n",
              "    </tr>\n",
              "  </tbody>\n",
              "</table>\n",
              "</div>"
            ],
            "text/plain": [
              "                                     UserId              SongId  Count\n",
              "0  6151509c99d22614f2ffb97693234d8c068b3b22  SOAAFAC12A67ADF7EB      2\n",
              "1  6151509c99d22614f2ffb97693234d8c068b3b22  SOAAQWU12A8C13F908      1\n",
              "2  6151509c99d22614f2ffb97693234d8c068b3b22  SOACHXA12A58A7BE3E      1\n",
              "3  6151509c99d22614f2ffb97693234d8c068b3b22  SOACJLF12A6D4F657D      1\n",
              "4  6151509c99d22614f2ffb97693234d8c068b3b22  SOACYUL12A6D4F9C79      1"
            ]
          },
          "metadata": {
            "tags": []
          },
          "execution_count": 107
        }
      ]
    },
    {
      "cell_type": "code",
      "metadata": {
        "colab_type": "code",
        "id": "LTBmYYoyA3qd",
        "colab": {
          "base_uri": "https://localhost:8080/",
          "height": 34
        },
        "outputId": "3774deab-7e10-4c29-d56d-a74472fdde27"
      },
      "source": [
        "print(\"Number of unique users:\", len(toy_triplets[\"UserId\"].unique().tolist()), \",\",\n",
        "\"Number of unique songs:\", len(toy_triplets[\"SongId\"].unique().tolist()))"
      ],
      "execution_count": null,
      "outputs": [
        {
          "output_type": "stream",
          "text": [
            "Number of unique users: 100 Number of unique songs: 12572\n"
          ],
          "name": "stdout"
        }
      ]
    },
    {
      "cell_type": "code",
      "metadata": {
        "id": "4ykEYlAEZOjT",
        "colab_type": "code",
        "colab": {}
      },
      "source": [
        "toy_artist_merge = pd.merge(left = toy_triplets, right = bridge, left_on=\"SongId\", right_on=\"SongId\")"
      ],
      "execution_count": 8,
      "outputs": []
    },
    {
      "cell_type": "markdown",
      "metadata": {
        "colab_type": "text",
        "id": "dLyulv0ZWYgF"
      },
      "source": [
        "#Entropy implementation"
      ]
    },
    {
      "cell_type": "markdown",
      "metadata": {
        "colab_type": "text",
        "id": "top8hrOiWd-q"
      },
      "source": [
        "## Shannon Entropy\n"
      ]
    },
    {
      "cell_type": "code",
      "metadata": {
        "colab_type": "code",
        "id": "MB2wqYcQA7bC",
        "colab": {}
      },
      "source": [
        "def entropy_me(p):\n",
        "    c = []\n",
        "    for i in p:\n",
        "        if i == 0:\n",
        "            b = 0\n",
        "        else:\n",
        "            b = -i*math.log2(i)\n",
        "        c.append(b)\n",
        "    d = sum(c)\n",
        "    return d"
      ],
      "execution_count": 9,
      "outputs": []
    },
    {
      "cell_type": "code",
      "metadata": {
        "colab_type": "code",
        "id": "BrCu-_tRB5ST",
        "colab": {}
      },
      "source": [
        "# getting a list of unique UserIds\n",
        "users = toy_triplets[\"UserId\"].unique().tolist()\n",
        "\n",
        "# calculating the Shannon entropy for each user separatelly and stacking\n",
        "# everything into the list \"shannon\"\n",
        "shannon = []\n",
        "for i in users:\n",
        "  b = toy_triplets[\"Count\"][toy_triplets[\"UserId\"]==i]/(np.sum(toy_triplets[\"Count\"][toy_triplets[\"UserId\"]==i]))\n",
        "  a = entropy_me(b)\n",
        "  shannon.append(a)"
      ],
      "execution_count": 10,
      "outputs": []
    },
    {
      "cell_type": "code",
      "metadata": {
        "colab_type": "code",
        "id": "mDP5iBeQHlDs",
        "colab": {
          "base_uri": "https://localhost:8080/",
          "height": 486
        },
        "outputId": "54c5c742-75af-4769-f3f7-7e67d4afddc6"
      },
      "source": [
        "# histograms\n",
        "plt.hist(shannon, bins=40)"
      ],
      "execution_count": null,
      "outputs": [
        {
          "output_type": "execute_result",
          "data": {
            "text/plain": [
              "(array([1., 0., 0., 2., 1., 1., 4., 2., 0., 1., 2., 3., 2., 3., 5., 4., 4.,\n",
              "        5., 6., 7., 2., 7., 5., 4., 9., 3., 2., 4., 1., 1., 2., 1., 2., 1.,\n",
              "        0., 0., 1., 0., 0., 2.]),\n",
              " array([ 2.46843341,  2.65722974,  2.84602606,  3.03482239,  3.22361872,\n",
              "         3.41241505,  3.60121138,  3.79000771,  3.97880404,  4.16760037,\n",
              "         4.35639669,  4.54519302,  4.73398935,  4.92278568,  5.11158201,\n",
              "         5.30037834,  5.48917467,  5.677971  ,  5.86676732,  6.05556365,\n",
              "         6.24435998,  6.43315631,  6.62195264,  6.81074897,  6.9995453 ,\n",
              "         7.18834163,  7.37713795,  7.56593428,  7.75473061,  7.94352694,\n",
              "         8.13232327,  8.3211196 ,  8.50991593,  8.69871226,  8.88750858,\n",
              "         9.07630491,  9.26510124,  9.45389757,  9.6426939 ,  9.83149023,\n",
              "        10.02028656]),\n",
              " <a list of 40 Patch objects>)"
            ]
          },
          "metadata": {
            "tags": []
          },
          "execution_count": 10
        },
        {
          "output_type": "display_data",
          "data": {
            "image/png": "[encoded data removed]",
            "text/plain": [
              "<Figure size 432x288 with 1 Axes>"
            ]
          },
          "metadata": {
            "tags": [],
            "needs_background": "light"
          }
        }
      ]
    },
    {
      "cell_type": "markdown",
      "metadata": {
        "colab_type": "text",
        "id": "kFYqxyY4ZcUs"
      },
      "source": [
        "Gaussian resemblence which might become more apparent with all the data. Overall, a nice spread of entropies - might be easier to decide on a threshold of specialist vs generialist."
      ]
    },
    {
      "cell_type": "markdown",
      "metadata": {
        "id": "mAnRS8M6VA7q",
        "colab_type": "text"
      },
      "source": [
        "### Further vizualisations\n",
        "\n"
      ]
    },
    {
      "cell_type": "markdown",
      "metadata": {
        "id": "qKbwh_DpyBd7",
        "colab_type": "text"
      },
      "source": [
        "We will examine the relationship between the Shannon entropy score and total playcount, coverage (number of distinct songs, artist) and popularity."
      ]
    },
    {
      "cell_type": "code",
      "metadata": {
        "id": "x48geQDlVFp9",
        "colab_type": "code",
        "colab": {}
      },
      "source": [
        "# total playcount\n",
        "total_playcount = []\n",
        "for i in users:\n",
        "  total_playcount.append(np.sum(toy_triplets[\"Count\"][toy_triplets[\"UserId\"]==i]))"
      ],
      "execution_count": 11,
      "outputs": []
    },
    {
      "cell_type": "code",
      "metadata": {
        "id": "86h1Xa6jVbCl",
        "colab_type": "code",
        "colab": {
          "base_uri": "https://localhost:8080/",
          "height": 282
        },
        "outputId": "2d89823f-dbff-4884-eea9-27f9acf4e2c5"
      },
      "source": [
        "plt.scatter(total_playcount, shannon)\n",
        "print(pearsonr(total_playcount, shannon))"
      ],
      "execution_count": null,
      "outputs": [
        {
          "output_type": "stream",
          "text": [
            "(0.718952533730592, 3.653280304870321e-17)\n"
          ],
          "name": "stdout"
        },
        {
          "output_type": "display_data",
          "data": {
            "image/png": "[encoded data removed]",
            "text/plain": [
              "<Figure size 432x288 with 1 Axes>"
            ]
          },
          "metadata": {
            "tags": [],
            "needs_background": "light"
          }
        }
      ]
    },
    {
      "cell_type": "code",
      "metadata": {
        "id": "KTl8sbIsV1w_",
        "colab_type": "code",
        "colab": {}
      },
      "source": [
        "# song coverage\n",
        "distinct_songs = []\n",
        "for i in users:\n",
        "  distinct_songs.append(np.sum(toy_triplets[\"UserId\"]==i))"
      ],
      "execution_count": 12,
      "outputs": []
    },
    {
      "cell_type": "code",
      "metadata": {
        "id": "mOGkEvWUWJyd",
        "colab_type": "code",
        "colab": {
          "base_uri": "https://localhost:8080/",
          "height": 282
        },
        "outputId": "5db7a29f-c81d-4726-9e48-fc04997b901b"
      },
      "source": [
        "plt.scatter(distinct_songs, shannon)\n",
        "print(pearsonr(distinct_songs, shannon))"
      ],
      "execution_count": null,
      "outputs": [
        {
          "output_type": "stream",
          "text": [
            "(0.7858892372070285, 3.542961574559916e-22)\n"
          ],
          "name": "stdout"
        },
        {
          "output_type": "display_data",
          "data": {
            "image/png": "[encoded data removed]",
            "text/plain": [
              "<Figure size 432x288 with 1 Axes>"
            ]
          },
          "metadata": {
            "tags": [],
            "needs_background": "light"
          }
        }
      ]
    },
    {
      "cell_type": "code",
      "metadata": {
        "id": "h5i9Fem-yU9a",
        "colab_type": "code",
        "colab": {}
      },
      "source": [
        "# artist coverage\n",
        "distinct_artists = []\n",
        "for i in users:\n",
        "  a = len(toy_artist_merge[\"Artist\"][toy_artist_merge[\"UserId\"]==i].unique().tolist())\n",
        "  distinct_artists.append(a)"
      ],
      "execution_count": 13,
      "outputs": []
    },
    {
      "cell_type": "code",
      "metadata": {
        "id": "KtfsueWWzIhr",
        "colab_type": "code",
        "colab": {
          "base_uri": "https://localhost:8080/",
          "height": 282
        },
        "outputId": "cea2532e-1f92-4da5-e7ac-f6723f9df889"
      },
      "source": [
        "plt.scatter(distinct_artists, shannon)\n",
        "print(pearsonr(distinct_artists, shannon))"
      ],
      "execution_count": null,
      "outputs": [
        {
          "output_type": "stream",
          "text": [
            "(0.7857757340836375, 3.6253732956698524e-22)\n"
          ],
          "name": "stdout"
        },
        {
          "output_type": "display_data",
          "data": {
            "image/png": "[encoded data removed]",
            "text/plain": [
              "<Figure size 432x288 with 1 Axes>"
            ]
          },
          "metadata": {
            "tags": [],
            "needs_background": "light"
          }
        }
      ]
    },
    {
      "cell_type": "code",
      "metadata": {
        "id": "D_7YTuuuZoL-",
        "colab_type": "code",
        "colab": {}
      },
      "source": [
        "# popularity measure - refer to notes.\n",
        "# Consructing a synthetic user who listens only to the song which at least 10%\n",
        "# of the population listened to at least once\n",
        "\n",
        "\n",
        "# getting Q - a user who listens only to popular songs\n",
        "\n",
        "# getting a list of unique SongId\n",
        "songs = toy_triplets[\"SongId\"].unique().tolist()\n",
        "\n",
        "# define q^1 - each instance of song being played at least onces corresponds to\n",
        "# a one count in q^1\n",
        "Q = []\n",
        "for i in songs:\n",
        "  a = np.sum(toy_triplets[\"SongId\"]==i)\n",
        "  Q.append(a)\n",
        "\n",
        "Q_id = {\"SongId\": songs, \"Freq_q\": Q}\n",
        "Q_id = pd.DataFrame(Q_id, columns = [\"SongId\", \"Freq_q\"]) "
      ],
      "execution_count": 14,
      "outputs": []
    },
    {
      "cell_type": "code",
      "metadata": {
        "id": "AB10K2Rrcn-B",
        "colab_type": "code",
        "colab": {}
      },
      "source": [
        "# Now we want to retain songs that are listened by the 10% of the population\n",
        "Q_max = Q_id[Q_id[\"Freq_q\"]>10]"
      ],
      "execution_count": 15,
      "outputs": []
    },
    {
      "cell_type": "code",
      "metadata": {
        "id": "vFYAJKBvdI2A",
        "colab_type": "code",
        "colab": {}
      },
      "source": [
        "pop_score = []\n",
        "for i in users:\n",
        "  b = []\n",
        "  for j in Q_max[\"SongId\"]:\n",
        "    if j in toy_triplets[\"SongId\"][toy_triplets[\"UserId\"]==i].values:\n",
        "      b.append(1)\n",
        "    else:\n",
        "      b.append(0)\n",
        "  pop_score.append(np.sum(b))   "
      ],
      "execution_count": 16,
      "outputs": []
    },
    {
      "cell_type": "code",
      "metadata": {
        "id": "gM59MfMWiDg-",
        "colab_type": "code",
        "colab": {
          "base_uri": "https://localhost:8080/",
          "height": 282
        },
        "outputId": "d3979945-85a4-4557-be31-62949168eeeb"
      },
      "source": [
        "plt.scatter(pop_score, shannon)\n",
        "print(pearsonr(pop_score, shannon))"
      ],
      "execution_count": null,
      "outputs": [
        {
          "output_type": "stream",
          "text": [
            "(0.20099319509564387, 0.04494438102856411)\n"
          ],
          "name": "stdout"
        },
        {
          "output_type": "display_data",
          "data": {
            "image/png": "[encoded data removed]",
            "text/plain": [
              "<Figure size 432x288 with 1 Axes>"
            ]
          },
          "metadata": {
            "tags": [],
            "needs_background": "light"
          }
        }
      ]
    },
    {
      "cell_type": "markdown",
      "metadata": {
        "colab_type": "text",
        "id": "tEAIGDCDIhM7"
      },
      "source": [
        "## Kulback-Leibler divergence"
      ]
    },
    {
      "cell_type": "code",
      "metadata": {
        "colab_type": "code",
        "id": "1PVsMdrjKj3d",
        "colab": {}
      },
      "source": [
        "# Kullback-Leibner divergence function\n",
        "def KL(p,q):\n",
        "    c = []\n",
        "    for i, j in zip(p,q):\n",
        "        if i == 0:\n",
        "            b = 0\n",
        "        else:\n",
        "            b = -i*math.log2(i/j)\n",
        "        c.append(b)\n",
        "    d = sum(c)\n",
        "    return d"
      ],
      "execution_count": 17,
      "outputs": []
    },
    {
      "cell_type": "code",
      "metadata": {
        "colab_type": "code",
        "id": "cNHXEiYIWn6Y",
        "colab": {}
      },
      "source": [
        "# getting Q - theoretical distribution\n",
        "\n",
        "# getting a list of unique SongId\n",
        "songs = toy_triplets[\"SongId\"].unique().tolist()\n",
        "\n",
        "# define q^1 - each instance of song being played at least onces corresponds to\n",
        "# a one count in q^1\n",
        "#Q = []\n",
        "#for i in songs:\n",
        "  # a = np.sum(toy_triplets[\"SongId\"]==i)\n",
        "  # Q.append(a)\n",
        "\n",
        "# shaping into probabilities\n",
        "Q_p = Q/sum(Q)\n",
        "\n",
        "# placing into pandas\n",
        "Q_joint = {\"SongId\": songs, \"Freq_q\": Q_p}\n",
        "Q_joint = pd.DataFrame(Q_joint, columns = [\"SongId\", \"Freq_q\"])"
      ],
      "execution_count": 18,
      "outputs": []
    },
    {
      "cell_type": "code",
      "metadata": {
        "colab_type": "code",
        "id": "ki3PlsvnLTe3",
        "colab": {}
      },
      "source": [
        "# list users from above (Shannon entropy)\n",
        "relative = []\n",
        "for u in users:\n",
        "  # subset the Count and SongID data for each user\n",
        "  p = toy_triplets[toy_triplets[\"UserId\"] == u]\n",
        "  # merge with Q so that the absent songs would disappear (p_ij = 0 contributes\n",
        "  # 0 to KL, hence it is equivalent to discard it a priori)\n",
        "  mid = pd.merge(left = p, right = Q_joint, left_on = \"SongId\", \n",
        "                 right_on = \"SongId\")\n",
        "  # defining a p_ij variable as a percentage \n",
        "  a = mid[\"Count\"]/np.sum(mid[\"Count\"])\n",
        "  # KL function aggregate\n",
        "  relative.append(KL(a, mid[\"Freq_q\"]))"
      ],
      "execution_count": 19,
      "outputs": []
    },
    {
      "cell_type": "code",
      "metadata": {
        "colab_type": "code",
        "id": "rm11WKHYQWow",
        "colab": {
          "base_uri": "https://localhost:8080/",
          "height": 520
        },
        "outputId": "2be64480-0b4a-4397-9c64-2722c914ef50"
      },
      "source": [
        "plt.hist(relative, bins=40)"
      ],
      "execution_count": null,
      "outputs": [
        {
          "output_type": "execute_result",
          "data": {
            "text/plain": [
              "(array([1., 0., 0., 0., 0., 4., 1., 1., 0., 0., 1., 3., 2., 1., 6., 2., 5.,\n",
              "        4., 3., 6., 6., 4., 7., 2., 9., 2., 5., 2., 3., 3., 4., 4., 1., 3.,\n",
              "        2., 0., 0., 1., 0., 2.]),\n",
              " array([-11.24423712, -11.05336221, -10.8624873 , -10.67161239,\n",
              "        -10.48073748, -10.28986257, -10.09898766,  -9.90811275,\n",
              "         -9.71723783,  -9.52636292,  -9.33548801,  -9.1446131 ,\n",
              "         -8.95373819,  -8.76286328,  -8.57198837,  -8.38111346,\n",
              "         -8.19023855,  -7.99936364,  -7.80848872,  -7.61761381,\n",
              "         -7.4267389 ,  -7.23586399,  -7.04498908,  -6.85411417,\n",
              "         -6.66323926,  -6.47236435,  -6.28148944,  -6.09061453,\n",
              "         -5.89973961,  -5.7088647 ,  -5.51798979,  -5.32711488,\n",
              "         -5.13623997,  -4.94536506,  -4.75449015,  -4.56361524,\n",
              "         -4.37274033,  -4.18186542,  -3.99099051,  -3.80011559,\n",
              "         -3.60924068]),\n",
              " <a list of 40 Patch objects>)"
            ]
          },
          "metadata": {
            "tags": []
          },
          "execution_count": 72
        },
        {
          "output_type": "display_data",
          "data": {
            "image/png": "[encoded data removed]",
            "text/plain": [
              "<Figure size 432x288 with 1 Axes>"
            ]
          },
          "metadata": {
            "tags": [],
            "needs_background": "light"
          }
        }
      ]
    },
    {
      "cell_type": "markdown",
      "metadata": {
        "colab_type": "text",
        "id": "AXJk9-3hcuHC"
      },
      "source": [
        "Similar shape as Shannon entropy. Nice spread too. Now checking the correlation"
      ]
    },
    {
      "cell_type": "markdown",
      "metadata": {
        "id": "FoyTdZ8S0l-S",
        "colab_type": "text"
      },
      "source": [
        "### Further vizualisations"
      ]
    },
    {
      "cell_type": "code",
      "metadata": {
        "colab_type": "code",
        "id": "miJXW2jDCfNR",
        "colab": {
          "base_uri": "https://localhost:8080/",
          "height": 282
        },
        "outputId": "6fe41f16-1a2c-4853-892a-8d201151897f"
      },
      "source": [
        "plt.scatter(shannon, relative)"
      ],
      "execution_count": null,
      "outputs": [
        {
          "output_type": "execute_result",
          "data": {
            "text/plain": [
              "<matplotlib.collections.PathCollection at 0x7f6c9f160588>"
            ]
          },
          "metadata": {
            "tags": []
          },
          "execution_count": 73
        },
        {
          "output_type": "display_data",
          "data": {
            "image/png": "[encoded data removed]",
            "text/plain": [
              "<Figure size 432x288 with 1 Axes>"
            ]
          },
          "metadata": {
            "tags": [],
            "needs_background": "light"
          }
        }
      ]
    },
    {
      "cell_type": "code",
      "metadata": {
        "colab_type": "code",
        "id": "76sqluQNDAgB",
        "colab": {
          "base_uri": "https://localhost:8080/",
          "height": 282
        },
        "outputId": "56e1cd82-142c-44cc-9255-97c1731b9968"
      },
      "source": [
        "plt.scatter(total_playcount, relative)\n",
        "print(pearsonr(total_playcount, relative))"
      ],
      "execution_count": null,
      "outputs": [
        {
          "output_type": "stream",
          "text": [
            "(0.6503166981530246, 2.4390516311126865e-13)\n"
          ],
          "name": "stdout"
        },
        {
          "output_type": "display_data",
          "data": {
            "image/png": "[encoded data removed]",
            "text/plain": [
              "<Figure size 432x288 with 1 Axes>"
            ]
          },
          "metadata": {
            "tags": [],
            "needs_background": "light"
          }
        }
      ]
    },
    {
      "cell_type": "code",
      "metadata": {
        "id": "R8DraHHE0z8N",
        "colab_type": "code",
        "colab": {
          "base_uri": "https://localhost:8080/",
          "height": 282
        },
        "outputId": "3613b634-79a0-4744-f7ab-e5857603a86e"
      },
      "source": [
        "plt.scatter(distinct_songs, relative)\n",
        "print(pearsonr(distinct_songs, relative))"
      ],
      "execution_count": null,
      "outputs": [
        {
          "output_type": "stream",
          "text": [
            "(0.6953520529205681, 9.961851248773004e-16)\n"
          ],
          "name": "stdout"
        },
        {
          "output_type": "display_data",
          "data": {
            "image/png": "[encoded data removed]",
            "text/plain": [
              "<Figure size 432x288 with 1 Axes>"
            ]
          },
          "metadata": {
            "tags": [],
            "needs_background": "light"
          }
        }
      ]
    },
    {
      "cell_type": "code",
      "metadata": {
        "id": "bQKvrD5P09ia",
        "colab_type": "code",
        "colab": {
          "base_uri": "https://localhost:8080/",
          "height": 282
        },
        "outputId": "11c656e5-5fcf-43e3-cd6b-ac9b47d94c71"
      },
      "source": [
        "plt.scatter(distinct_artists, relative)\n",
        "print(pearsonr(distinct_artists, relative))"
      ],
      "execution_count": null,
      "outputs": [
        {
          "output_type": "stream",
          "text": [
            "(0.7284076602276596, 8.824766787315398e-18)\n"
          ],
          "name": "stdout"
        },
        {
          "output_type": "display_data",
          "data": {
            "image/png": "[encoded data removed]",
            "text/plain": [
              "<Figure size 432x288 with 1 Axes>"
            ]
          },
          "metadata": {
            "tags": [],
            "needs_background": "light"
          }
        }
      ]
    },
    {
      "cell_type": "code",
      "metadata": {
        "id": "RdvLR1qfj8a3",
        "colab_type": "code",
        "colab": {
          "base_uri": "https://localhost:8080/",
          "height": 282
        },
        "outputId": "70d696b0-9899-49c1-e3b1-1a4d1bbc9f51"
      },
      "source": [
        "plt.scatter(pop_score, relative)\n",
        "print(pearsonr(pop_score, relative))"
      ],
      "execution_count": null,
      "outputs": [
        {
          "output_type": "stream",
          "text": [
            "(0.5029489869189632, 9.673880863338638e-08)\n"
          ],
          "name": "stdout"
        },
        {
          "output_type": "display_data",
          "data": {
            "image/png": "[encoded data removed]",
            "text/plain": [
              "<Figure size 432x288 with 1 Axes>"
            ]
          },
          "metadata": {
            "tags": [],
            "needs_background": "light"
          }
        }
      ]
    },
    {
      "cell_type": "markdown",
      "metadata": {
        "colab_type": "text",
        "id": "PjnbfgGcc4W_"
      },
      "source": [
        "Strong positive correlation as expected. There is some tendency for the users to have relativelly higher KL divergence score than the Shannon entropy score meaning that some users might be seen more mainstream generalist than they are seen generalist"
      ]
    },
    {
      "cell_type": "markdown",
      "metadata": {
        "colab_type": "text",
        "id": "pgiZZklXEXro"
      },
      "source": [
        "## Gini-index\n"
      ]
    },
    {
      "cell_type": "code",
      "metadata": {
        "colab_type": "code",
        "id": "ylHe3--tEaQD",
        "colab": {}
      },
      "source": [
        "# Gini function\n",
        "def gini(p):\n",
        "    c = []\n",
        "    for i in p:\n",
        "        b = i**2\n",
        "        c.append(b)\n",
        "    d = 1 - sum(c)    \n",
        "    return d"
      ],
      "execution_count": 20,
      "outputs": []
    },
    {
      "cell_type": "code",
      "metadata": {
        "colab_type": "code",
        "id": "kMLmubp4E1QS",
        "colab": {}
      },
      "source": [
        "# getting gini index for each user independently\n",
        "gini_index = []\n",
        "for i in users:\n",
        "  b = toy_triplets[\"Count\"][toy_triplets[\"UserId\"]==i]/(np.sum(toy_triplets[\"Count\"][toy_triplets[\"UserId\"]==i]))\n",
        "  a = gini(b)\n",
        "  gini_index.append(a)"
      ],
      "execution_count": 21,
      "outputs": []
    },
    {
      "cell_type": "code",
      "metadata": {
        "colab_type": "code",
        "id": "X-17w3OEE_67",
        "colab": {
          "base_uri": "https://localhost:8080/",
          "height": 503
        },
        "outputId": "7f75ea98-f203-4add-c41f-a4c25a463c5c"
      },
      "source": [
        "plt.hist(gini_index, bins = 40)"
      ],
      "execution_count": null,
      "outputs": [
        {
          "output_type": "execute_result",
          "data": {
            "text/plain": [
              "(array([ 1.,  0.,  0.,  0.,  0.,  0.,  0.,  0.,  0.,  0.,  0.,  0.,  0.,\n",
              "         0.,  0.,  0.,  0.,  0.,  0.,  0.,  0.,  0.,  0.,  0.,  0.,  5.,\n",
              "         0.,  1.,  1.,  2.,  2.,  2.,  2.,  3.,  2.,  4., 10., 13., 26.,\n",
              "        26.]),\n",
              " array([0.64724246, 0.65603315, 0.66482384, 0.67361453, 0.68240522,\n",
              "        0.69119591, 0.6999866 , 0.70877729, 0.71756798, 0.72635867,\n",
              "        0.73514936, 0.74394005, 0.75273074, 0.76152143, 0.77031212,\n",
              "        0.77910281, 0.7878935 , 0.79668419, 0.80547488, 0.81426557,\n",
              "        0.82305626, 0.83184695, 0.84063764, 0.84942833, 0.85821902,\n",
              "        0.86700971, 0.8758004 , 0.88459109, 0.89338178, 0.90217247,\n",
              "        0.91096316, 0.91975385, 0.92854454, 0.93733523, 0.94612592,\n",
              "        0.95491661, 0.9637073 , 0.97249799, 0.98128868, 0.99007937,\n",
              "        0.99887006]),\n",
              " <a list of 40 Patch objects>)"
            ]
          },
          "metadata": {
            "tags": []
          },
          "execution_count": 98
        },
        {
          "output_type": "display_data",
          "data": {
            "image/png": "[encoded data removed]",
            "text/plain": [
              "<Figure size 432x288 with 1 Axes>"
            ]
          },
          "metadata": {
            "tags": [],
            "needs_background": "light"
          }
        }
      ]
    },
    {
      "cell_type": "markdown",
      "metadata": {
        "colab_type": "text",
        "id": "rztvB80vdlyr"
      },
      "source": [
        "Most of the values are large - inbetween 0.9 and 1 indicating that according to Gini index, most of the users are rather generalist - the probability of two random draws with replacement to be different is large. The data spread is limited and that is an issue. I suppose this is due to the very small probabilities $p_{ij}$."
      ]
    },
    {
      "cell_type": "markdown",
      "metadata": {
        "id": "GAh9TxLq30T-",
        "colab_type": "text"
      },
      "source": [
        "### Further vizualisations"
      ]
    },
    {
      "cell_type": "code",
      "metadata": {
        "colab_type": "code",
        "id": "aRomcApjFb1u",
        "colab": {
          "base_uri": "https://localhost:8080/",
          "height": 282
        },
        "outputId": "8419116d-a061-4adf-a997-61e0f4e4a174"
      },
      "source": [
        "plt.scatter(shannon, gini_index)"
      ],
      "execution_count": null,
      "outputs": [
        {
          "output_type": "execute_result",
          "data": {
            "text/plain": [
              "<matplotlib.collections.PathCollection at 0x7f6cc6384470>"
            ]
          },
          "metadata": {
            "tags": []
          },
          "execution_count": 92
        },
        {
          "output_type": "display_data",
          "data": {
            "image/png": "[encoded data removed]",
            "text/plain": [
              "<Figure size 432x288 with 1 Axes>"
            ]
          },
          "metadata": {
            "tags": [],
            "needs_background": "light"
          }
        }
      ]
    },
    {
      "cell_type": "code",
      "metadata": {
        "colab_type": "code",
        "id": "2H3AEkDyGVsU",
        "colab": {
          "base_uri": "https://localhost:8080/",
          "height": 34
        },
        "outputId": "ff05e141-5ce1-40f8-c5c2-fdd7c54c0cf5"
      },
      "source": [
        "pearsonr(shannon, gini_index)"
      ],
      "execution_count": null,
      "outputs": [
        {
          "output_type": "execute_result",
          "data": {
            "text/plain": [
              "(0.7569033232483608, 8.294982060204223e-20)"
            ]
          },
          "metadata": {
            "tags": []
          },
          "execution_count": 93
        }
      ]
    },
    {
      "cell_type": "markdown",
      "metadata": {
        "colab_type": "text",
        "id": "vYpzzAz_d33B"
      },
      "source": [
        "Correlation between Gini index and Shannon entropy is lower thant that between the latter and the relative entropy. Also, we see a concave quadratic relationship between the Shannon entropy and Gini index. It is still positive."
      ]
    },
    {
      "cell_type": "code",
      "metadata": {
        "colab_type": "code",
        "id": "VmH6dg6xjWNJ",
        "colab": {
          "base_uri": "https://localhost:8080/",
          "height": 282
        },
        "outputId": "c9696d47-9dd3-4819-a2e1-ff58de4e3fb5"
      },
      "source": [
        "plt.scatter(relative, gini_index)"
      ],
      "execution_count": null,
      "outputs": [
        {
          "output_type": "execute_result",
          "data": {
            "text/plain": [
              "<matplotlib.collections.PathCollection at 0x7fe2b72dd7f0>"
            ]
          },
          "metadata": {
            "tags": []
          },
          "execution_count": 25
        },
        {
          "output_type": "display_data",
          "data": {
            "image/png": "[encoded data removed]",
            "text/plain": [
              "<Figure size 432x288 with 1 Axes>"
            ]
          },
          "metadata": {
            "tags": [],
            "needs_background": "light"
          }
        }
      ]
    },
    {
      "cell_type": "markdown",
      "metadata": {
        "colab_type": "text",
        "id": "1ldqdPaxjbeH"
      },
      "source": [
        "Relationship between the Gini index and the KL divergence is very similar to the one between Gini and Shannon entropy with more noise added due to the different benchmark measurement of the KL divergence."
      ]
    },
    {
      "cell_type": "code",
      "metadata": {
        "id": "9ZiWjr-A35wr",
        "colab_type": "code",
        "colab": {
          "base_uri": "https://localhost:8080/",
          "height": 282
        },
        "outputId": "78330f48-0655-45ec-c2e1-8b7edea10747"
      },
      "source": [
        "plt.scatter(total_playcount, gini_index)\n",
        "print(pearsonr(total_playcount, gini_index))"
      ],
      "execution_count": null,
      "outputs": [
        {
          "output_type": "stream",
          "text": [
            "(0.3623331572356941, 0.00021182079939306535)\n"
          ],
          "name": "stdout"
        },
        {
          "output_type": "display_data",
          "data": {
            "image/png": "[encoded data removed]",
            "text/plain": [
              "<Figure size 432x288 with 1 Axes>"
            ]
          },
          "metadata": {
            "tags": [],
            "needs_background": "light"
          }
        }
      ]
    },
    {
      "cell_type": "code",
      "metadata": {
        "id": "aow2w-Y-4FLD",
        "colab_type": "code",
        "colab": {
          "base_uri": "https://localhost:8080/",
          "height": 282
        },
        "outputId": "c9d0016e-b347-43c3-df6e-925d87cd38fa"
      },
      "source": [
        "plt.scatter(distinct_songs, gini_index)\n",
        "print(pearsonr(distinct_songs, gini_index))"
      ],
      "execution_count": null,
      "outputs": [
        {
          "output_type": "stream",
          "text": [
            "(0.36844405429677524, 0.00016213438786873586)\n"
          ],
          "name": "stdout"
        },
        {
          "output_type": "display_data",
          "data": {
            "image/png": "[encoded data removed]",
            "text/plain": [
              "<Figure size 432x288 with 1 Axes>"
            ]
          },
          "metadata": {
            "tags": [],
            "needs_background": "light"
          }
        }
      ]
    },
    {
      "cell_type": "code",
      "metadata": {
        "id": "5UKw8aXT4Nzp",
        "colab_type": "code",
        "colab": {
          "base_uri": "https://localhost:8080/",
          "height": 282
        },
        "outputId": "9ae0b03e-5836-4312-c715-cb0fdacd694f"
      },
      "source": [
        "plt.scatter(distinct_artists, gini_index)\n",
        "print(pearsonr(distinct_artists, gini_index))"
      ],
      "execution_count": null,
      "outputs": [
        {
          "output_type": "stream",
          "text": [
            "(0.4007877269958482, 3.5947305173808e-05)\n"
          ],
          "name": "stdout"
        },
        {
          "output_type": "display_data",
          "data": {
            "image/png": "[encoded data removed]",
            "text/plain": [
              "<Figure size 432x288 with 1 Axes>"
            ]
          },
          "metadata": {
            "tags": [],
            "needs_background": "light"
          }
        }
      ]
    },
    {
      "cell_type": "code",
      "metadata": {
        "id": "JqpeKahj4SvD",
        "colab_type": "code",
        "colab": {
          "base_uri": "https://localhost:8080/",
          "height": 282
        },
        "outputId": "298d943c-df7f-40cf-d177-9be636cbb238"
      },
      "source": [
        "plt.scatter(pop_score, gini_index)\n",
        "print(pearsonr(pop_score, gini_index))"
      ],
      "execution_count": null,
      "outputs": [
        {
          "output_type": "stream",
          "text": [
            "(0.1890081970222846, 0.05965539491488829)\n"
          ],
          "name": "stdout"
        },
        {
          "output_type": "display_data",
          "data": {
            "image/png": "[encoded data removed]",
            "text/plain": [
              "<Figure size 432x288 with 1 Axes>"
            ]
          },
          "metadata": {
            "tags": [],
            "needs_background": "light"
          }
        }
      ]
    },
    {
      "cell_type": "markdown",
      "metadata": {
        "colab_type": "text",
        "id": "8Hqp98CrII1T"
      },
      "source": [
        "## Hill number\n"
      ]
    },
    {
      "cell_type": "code",
      "metadata": {
        "colab_type": "code",
        "id": "dM9e9q6kIL6a",
        "colab": {}
      },
      "source": [
        "# Hill number function\n",
        "def hill(p,q):\n",
        "    c =[]\n",
        "    for i in p:\n",
        "        b = i**q\n",
        "        c.append(b)\n",
        "    d = sum(c)**(1/(1-q))   \n",
        "    return d"
      ],
      "execution_count": 22,
      "outputs": []
    },
    {
      "cell_type": "code",
      "metadata": {
        "colab_type": "code",
        "id": "n-cMPcjgIPg0",
        "colab": {}
      },
      "source": [
        "# implementation for each user and then aggregating in list \"hill_no\"\n",
        "hill_no = []\n",
        "for i in users:\n",
        "  b = toy_triplets[\"Count\"][toy_triplets[\"UserId\"]==i]/(np.sum(toy_triplets[\"Count\"][toy_triplets[\"UserId\"]==i]))\n",
        "  a = hill(b,2)\n",
        "  hill_no.append(a)"
      ],
      "execution_count": 102,
      "outputs": []
    },
    {
      "cell_type": "code",
      "metadata": {
        "colab_type": "code",
        "id": "piLugM3-Iauz",
        "colab": {
          "base_uri": "https://localhost:8080/",
          "height": 506
        },
        "outputId": "9ba08cd7-8857-4bb7-9723-908cab770a86"
      },
      "source": [
        "plt.hist(hill_no, bins = 40)"
      ],
      "execution_count": null,
      "outputs": [
        {
          "output_type": "execute_result",
          "data": {
            "text/plain": [
              "(array([24., 24., 15., 10.,  8.,  5.,  4.,  1.,  1.,  3.,  0.,  0.,  1.,\n",
              "         1.,  0.,  0.,  0.,  0.,  0.,  0.,  0.,  1.,  0.,  0.,  1.,  0.,\n",
              "         0.,  0.,  0.,  0.,  0.,  0.,  0.,  0.,  0.,  0.,  0.,  0.,  0.,\n",
              "         1.]), array([  2.25645923,  20.47331002,  38.6901608 ,  56.90701158,\n",
              "         75.12386237,  93.34071315, 111.55756393, 129.77441472,\n",
              "        147.9912655 , 166.20811628, 184.42496706, 202.64181785,\n",
              "        220.85866863, 239.07551941, 257.2923702 , 275.50922098,\n",
              "        293.72607176, 311.94292255, 330.15977333, 348.37662411,\n",
              "        366.5934749 , 384.81032568, 403.02717646, 421.24402724,\n",
              "        439.46087803, 457.67772881, 475.89457959, 494.11143038,\n",
              "        512.32828116, 530.54513194, 548.76198273, 566.97883351,\n",
              "        585.19568429, 603.41253508, 621.62938586, 639.84623664,\n",
              "        658.06308742, 676.27993821, 694.49678899, 712.71363977,\n",
              "        730.93049056]), <a list of 40 Patch objects>)"
            ]
          },
          "metadata": {
            "tags": []
          },
          "execution_count": 105
        },
        {
          "output_type": "display_data",
          "data": {
            "image/png": "[encoded data removed]",
            "text/plain": [
              "<Figure size 432x288 with 1 Axes>"
            ]
          },
          "metadata": {
            "tags": [],
            "needs_background": "light"
          }
        }
      ]
    },
    {
      "cell_type": "markdown",
      "metadata": {
        "colab_type": "text",
        "id": "Q_v5uTd9fJxx"
      },
      "source": [
        "There is somewhat more spread than with the Gini index with most of the Hill values ranging from 2 to just bellow 200 categories indicating that it would be easier to define a threashold for the specialist/ generialist labeling."
      ]
    },
    {
      "cell_type": "markdown",
      "metadata": {
        "id": "hXeF3hKg4en3",
        "colab_type": "text"
      },
      "source": [
        "### Further vizualisations"
      ]
    },
    {
      "cell_type": "code",
      "metadata": {
        "colab_type": "code",
        "id": "z2Yvw-8sfYiX",
        "colab": {
          "base_uri": "https://localhost:8080/",
          "height": 282
        },
        "outputId": "bef06286-5938-407c-cd34-2489b6c3f0e7"
      },
      "source": [
        "plt.scatter(shannon, hill_no)"
      ],
      "execution_count": null,
      "outputs": [
        {
          "output_type": "execute_result",
          "data": {
            "text/plain": [
              "<matplotlib.collections.PathCollection at 0x7fe2b7e85320>"
            ]
          },
          "metadata": {
            "tags": []
          },
          "execution_count": 10
        },
        {
          "output_type": "display_data",
          "data": {
            "image/png": "[encoded data removed]",
            "text/plain": [
              "<Figure size 432x288 with 1 Axes>"
            ]
          },
          "metadata": {
            "tags": [],
            "needs_background": "light"
          }
        }
      ]
    },
    {
      "cell_type": "code",
      "metadata": {
        "colab_type": "code",
        "id": "n3LrAsfxgoIB",
        "colab": {
          "base_uri": "https://localhost:8080/",
          "height": 34
        },
        "outputId": "e31cf13c-cf9e-4cd2-acd0-bd176cb61f33"
      },
      "source": [
        "pearsonr(shannon, hill_no)"
      ],
      "execution_count": null,
      "outputs": [
        {
          "output_type": "execute_result",
          "data": {
            "text/plain": [
              "(0.7286355815928001, 8.521424069815568e-18)"
            ]
          },
          "metadata": {
            "tags": []
          },
          "execution_count": 11
        }
      ]
    },
    {
      "cell_type": "markdown",
      "metadata": {
        "colab_type": "text",
        "id": "D1wzDxd7gdxp"
      },
      "source": [
        "Now we have positive quadratic convex relationship. The data spread is clearly better than with Gini index. The correlation with the Shannon entropy is, however smaller. It seems that users with large entropy values tend to require fewer equifrequent songs that one would expect under the linear relationship case. "
      ]
    },
    {
      "cell_type": "code",
      "metadata": {
        "colab_type": "code",
        "id": "1ArdPAklhQYp",
        "colab": {
          "base_uri": "https://localhost:8080/",
          "height": 282
        },
        "outputId": "d1652bd5-67cc-4197-aba8-f49a66b296dc"
      },
      "source": [
        "plt.scatter(hill_no, gini_index)"
      ],
      "execution_count": null,
      "outputs": [
        {
          "output_type": "execute_result",
          "data": {
            "text/plain": [
              "<matplotlib.collections.PathCollection at 0x7fe2b73e86a0>"
            ]
          },
          "metadata": {
            "tags": []
          },
          "execution_count": 19
        },
        {
          "output_type": "display_data",
          "data": {
            "image/png": "[encoded data removed]",
            "text/plain": [
              "<Figure size 432x288 with 1 Axes>"
            ]
          },
          "metadata": {
            "tags": [],
            "needs_background": "light"
          }
        }
      ]
    },
    {
      "cell_type": "code",
      "metadata": {
        "colab_type": "code",
        "id": "aCxzb1YShxdK",
        "colab": {
          "base_uri": "https://localhost:8080/",
          "height": 34
        },
        "outputId": "fdb8b7f2-7122-46bb-cdb9-9cfc83844d5d"
      },
      "source": [
        "pearsonr(hill_no, gini_index)"
      ],
      "execution_count": null,
      "outputs": [
        {
          "output_type": "execute_result",
          "data": {
            "text/plain": [
              "(0.354661385886188, 0.0002940824874292938)"
            ]
          },
          "metadata": {
            "tags": []
          },
          "execution_count": 20
        }
      ]
    },
    {
      "cell_type": "markdown",
      "metadata": {
        "colab_type": "text",
        "id": "O-sNUJLSh3lg"
      },
      "source": [
        "Extremelly low correlation between Hill number and Gini index and a rather non-sensial scatter plots indicates that these two measures are rather different and capture different aspect of the data."
      ]
    },
    {
      "cell_type": "code",
      "metadata": {
        "colab_type": "code",
        "id": "qfjFOnaEiR5v",
        "colab": {
          "base_uri": "https://localhost:8080/",
          "height": 282
        },
        "outputId": "a37edffa-ef92-4a87-a0af-09bb464f8016"
      },
      "source": [
        "plt.scatter(relative, hill_no)"
      ],
      "execution_count": null,
      "outputs": [
        {
          "output_type": "execute_result",
          "data": {
            "text/plain": [
              "<matplotlib.collections.PathCollection at 0x7fe2b736bf98>"
            ]
          },
          "metadata": {
            "tags": []
          },
          "execution_count": 24
        },
        {
          "output_type": "display_data",
          "data": {
            "image/png": "[encoded data removed]",
            "text/plain": [
              "<Figure size 432x288 with 1 Axes>"
            ]
          },
          "metadata": {
            "tags": [],
            "needs_background": "light"
          }
        }
      ]
    },
    {
      "cell_type": "markdown",
      "metadata": {
        "colab_type": "text",
        "id": "Z9ftoKnkiY-N"
      },
      "source": [
        "The relationship between the Hill number and KL divergence is rather similar to the one between the former and the Shannon entropy, yet with more noise potentialy arising due to the KL divergence measuring similarity to the mainstream generalist as opposed to the overall generalist"
      ]
    },
    {
      "cell_type": "code",
      "metadata": {
        "id": "nXwxj-sw4ibj",
        "colab_type": "code",
        "colab": {
          "base_uri": "https://localhost:8080/",
          "height": 282
        },
        "outputId": "7061c072-8f1f-4a89-8a42-66e858bfc17c"
      },
      "source": [
        "plt.scatter(total_playcount, hill_no)\n",
        "print(pearsonr(total_playcount, hill_no))"
      ],
      "execution_count": null,
      "outputs": [
        {
          "output_type": "stream",
          "text": [
            "(0.7296702659829094, 7.267025789410607e-18)\n"
          ],
          "name": "stdout"
        },
        {
          "output_type": "display_data",
          "data": {
            "image/png": "[encoded data removed]",
            "text/plain": [
              "<Figure size 432x288 with 1 Axes>"
            ]
          },
          "metadata": {
            "tags": [],
            "needs_background": "light"
          }
        }
      ]
    },
    {
      "cell_type": "code",
      "metadata": {
        "id": "ry42ub054vuM",
        "colab_type": "code",
        "colab": {
          "base_uri": "https://localhost:8080/",
          "height": 282
        },
        "outputId": "ea23195d-7628-4f4e-9ba3-a977c1640f0b"
      },
      "source": [
        "plt.scatter(distinct_songs, hill_no)\n",
        "print(pearsonr(distinct_songs, hill_no))"
      ],
      "execution_count": null,
      "outputs": [
        {
          "output_type": "stream",
          "text": [
            "(0.9243580114756229, 8.472933454673683e-43)\n"
          ],
          "name": "stdout"
        },
        {
          "output_type": "display_data",
          "data": {
            "image/png": "[encoded data removed]",
            "text/plain": [
              "<Figure size 432x288 with 1 Axes>"
            ]
          },
          "metadata": {
            "tags": [],
            "needs_background": "light"
          }
        }
      ]
    },
    {
      "cell_type": "code",
      "metadata": {
        "id": "mWkwDRSD4417",
        "colab_type": "code",
        "colab": {
          "base_uri": "https://localhost:8080/",
          "height": 282
        },
        "outputId": "9c5fd15e-e305-4c49-bc67-5dc0d6ac68b4"
      },
      "source": [
        "plt.scatter(distinct_artists, hill_no)\n",
        "print(pearsonr(distinct_artists, hill_no))"
      ],
      "execution_count": null,
      "outputs": [
        {
          "output_type": "stream",
          "text": [
            "(0.7563008853508721, 9.215584375707458e-20)\n"
          ],
          "name": "stdout"
        },
        {
          "output_type": "display_data",
          "data": {
            "image/png": "[encoded data removed]",
            "text/plain": [
              "<Figure size 432x288 with 1 Axes>"
            ]
          },
          "metadata": {
            "tags": [],
            "needs_background": "light"
          }
        }
      ]
    },
    {
      "cell_type": "code",
      "metadata": {
        "id": "UM-r_kv95Caa",
        "colab_type": "code",
        "colab": {
          "base_uri": "https://localhost:8080/",
          "height": 282
        },
        "outputId": "e705e301-a371-4cac-8c5e-851beb96a6dc"
      },
      "source": [
        "plt.scatter(pop_score, hill_no)\n",
        "print(pearsonr(pop_score, hill_no))"
      ],
      "execution_count": null,
      "outputs": [
        {
          "output_type": "stream",
          "text": [
            "(0.08073294240675358, 0.42458975538770616)\n"
          ],
          "name": "stdout"
        },
        {
          "output_type": "display_data",
          "data": {
            "image/png": "[encoded data removed]",
            "text/plain": [
              "<Figure size 432x288 with 1 Axes>"
            ]
          },
          "metadata": {
            "tags": [],
            "needs_background": "light"
          }
        }
      ]
    },
    {
      "cell_type": "markdown",
      "metadata": {
        "id": "IA0jlbNh5hIp",
        "colab_type": "text"
      },
      "source": [
        "# Entropy concordance"
      ]
    },
    {
      "cell_type": "code",
      "metadata": {
        "id": "suzwsJHTLnWs",
        "colab_type": "code",
        "colab": {}
      },
      "source": [
        "toy_with_pop = pd.merge(left = toy_artist_merge, right = Q_id, right_on = \"SongId\", left_on = \"SongId\")"
      ],
      "execution_count": 24,
      "outputs": []
    },
    {
      "cell_type": "code",
      "metadata": {
        "id": "zd0GmslE50Ma",
        "colab_type": "code",
        "colab": {}
      },
      "source": [
        "a = np.array(shannon) - (np.array(relative))"
      ],
      "execution_count": 25,
      "outputs": []
    },
    {
      "cell_type": "code",
      "metadata": {
        "id": "vnujrTW26y9_",
        "colab_type": "code",
        "colab": {}
      },
      "source": [
        "import scipy.stats as stats\n",
        "\n",
        "tau, p_value = stats.kendalltau(shannon, relative)"
      ],
      "execution_count": 28,
      "outputs": []
    },
    {
      "cell_type": "code",
      "metadata": {
        "id": "bbcjT6_g8DNq",
        "colab_type": "code",
        "colab": {
          "base_uri": "https://localhost:8080/",
          "height": 34
        },
        "outputId": "e3b0533d-a8ad-4c3e-9817-36332ed40bbd"
      },
      "source": [
        "tau"
      ],
      "execution_count": null,
      "outputs": [
        {
          "output_type": "execute_result",
          "data": {
            "text/plain": [
              "0.7563636363636365"
            ]
          },
          "metadata": {
            "tags": []
          },
          "execution_count": 171
        }
      ]
    },
    {
      "cell_type": "code",
      "metadata": {
        "id": "mfHlwH4p8R_W",
        "colab_type": "code",
        "colab": {}
      },
      "source": [
        "shannon_r = stats.rankdata(shannon, method=\"min\")\n",
        "relative_r = stats.rankdata(relative, method=\"min\")"
      ],
      "execution_count": 29,
      "outputs": []
    },
    {
      "cell_type": "code",
      "metadata": {
        "id": "Id-U_h6z8Y3T",
        "colab_type": "code",
        "colab": {}
      },
      "source": [
        "tau, p_value = stats.kendalltau(shannon_r, relative_r)"
      ],
      "execution_count": null,
      "outputs": []
    },
    {
      "cell_type": "code",
      "metadata": {
        "id": "VURLnpHo8kxP",
        "colab_type": "code",
        "colab": {
          "base_uri": "https://localhost:8080/",
          "height": 34
        },
        "outputId": "7fe93086-a6f7-41bf-f8d2-0aab8aa95fa3"
      },
      "source": [
        "tau"
      ],
      "execution_count": null,
      "outputs": [
        {
          "output_type": "execute_result",
          "data": {
            "text/plain": [
              "0.7563636363636365"
            ]
          },
          "metadata": {
            "tags": []
          },
          "execution_count": 179
        }
      ]
    },
    {
      "cell_type": "code",
      "metadata": {
        "id": "URNE1bOO8pE6",
        "colab_type": "code",
        "colab": {}
      },
      "source": [
        "a = shannon_r-relative_r"
      ],
      "execution_count": 30,
      "outputs": []
    },
    {
      "cell_type": "code",
      "metadata": {
        "id": "J37IhdTG8tIk",
        "colab_type": "code",
        "colab": {
          "base_uri": "https://localhost:8080/",
          "height": 435
        },
        "outputId": "ccecd469-a58d-497c-857c-43ddf6e6ae26"
      },
      "source": [
        "plt.hist(a, bins = 40)"
      ],
      "execution_count": 31,
      "outputs": [
        {
          "output_type": "execute_result",
          "data": {
            "text/plain": [
              "(array([ 1.,  1.,  1.,  1.,  0.,  0.,  0.,  0.,  1.,  0.,  0.,  0.,  1.,\n",
              "         0.,  1.,  0.,  3.,  2.,  0.,  0.,  0.,  1.,  1.,  1.,  0.,  2.,\n",
              "         7.,  1.,  9.,  8.,  6.,  9.,  6.,  4.,  4., 14.,  8.,  3.,  3.,\n",
              "         1.]),\n",
              " array([-47. , -45.4, -43.8, -42.2, -40.6, -39. , -37.4, -35.8, -34.2,\n",
              "        -32.6, -31. , -29.4, -27.8, -26.2, -24.6, -23. , -21.4, -19.8,\n",
              "        -18.2, -16.6, -15. , -13.4, -11.8, -10.2,  -8.6,  -7. ,  -5.4,\n",
              "         -3.8,  -2.2,  -0.6,   1. ,   2.6,   4.2,   5.8,   7.4,   9. ,\n",
              "         10.6,  12.2,  13.8,  15.4,  17. ]),\n",
              " <a list of 40 Patch objects>)"
            ]
          },
          "metadata": {
            "tags": []
          },
          "execution_count": 31
        },
        {
          "output_type": "display_data",
          "data": {
            "image/png": "[encoded data removed]",
            "text/plain": [
              "<Figure size 432x288 with 1 Axes>"
            ]
          },
          "metadata": {
            "tags": [],
            "needs_background": "light"
          }
        }
      ]
    },
    {
      "cell_type": "code",
      "metadata": {
        "id": "KZlm1Y8n89ZJ",
        "colab_type": "code",
        "colab": {
          "base_uri": "https://localhost:8080/",
          "height": 405
        },
        "outputId": "08ea86be-d07b-4f53-ef20-e6fbb95e6d89"
      },
      "source": [
        "plt.boxplot(a)"
      ],
      "execution_count": null,
      "outputs": [
        {
          "output_type": "execute_result",
          "data": {
            "text/plain": [
              "{'boxes': [<matplotlib.lines.Line2D at 0x7fb374251f60>],\n",
              " 'caps': [<matplotlib.lines.Line2D at 0x7fb3741d7978>,\n",
              "  <matplotlib.lines.Line2D at 0x7fb3741d7d30>],\n",
              " 'fliers': [<matplotlib.lines.Line2D at 0x7fb3741f1668>],\n",
              " 'means': [],\n",
              " 'medians': [<matplotlib.lines.Line2D at 0x7fb3741f11d0>],\n",
              " 'whiskers': [<matplotlib.lines.Line2D at 0x7fb3741d70f0>,\n",
              "  <matplotlib.lines.Line2D at 0x7fb3741d74e0>]}"
            ]
          },
          "metadata": {
            "tags": []
          },
          "execution_count": 188
        },
        {
          "output_type": "display_data",
          "data": {
            "image/png": "[encoded data removed]",
            "text/plain": [
              "<Figure size 432x288 with 1 Axes>"
            ]
          },
          "metadata": {
            "tags": [],
            "needs_background": "light"
          }
        }
      ]
    },
    {
      "cell_type": "code",
      "metadata": {
        "id": "iX3kpM-i9FBa",
        "colab_type": "code",
        "colab": {
          "base_uri": "https://localhost:8080/",
          "height": 297
        },
        "outputId": "6522987c-e9da-48e5-ec5b-448d2dfc5b5b"
      },
      "source": [
        "pd.DataFrame(a).describe()"
      ],
      "execution_count": null,
      "outputs": [
        {
          "output_type": "execute_result",
          "data": {
            "text/html": [
              "<div>\n",
              "<style scoped>\n",
              "    .dataframe tbody tr th:only-of-type {\n",
              "        vertical-align: middle;\n",
              "    }\n",
              "\n",
              "    .dataframe tbody tr th {\n",
              "        vertical-align: top;\n",
              "    }\n",
              "\n",
              "    .dataframe thead th {\n",
              "        text-align: right;\n",
              "    }\n",
              "</style>\n",
              "<table border=\"1\" class=\"dataframe\">\n",
              "  <thead>\n",
              "    <tr style=\"text-align: right;\">\n",
              "      <th></th>\n",
              "      <th>0</th>\n",
              "    </tr>\n",
              "  </thead>\n",
              "  <tbody>\n",
              "    <tr>\n",
              "      <th>count</th>\n",
              "      <td>100.000000</td>\n",
              "    </tr>\n",
              "    <tr>\n",
              "      <th>mean</th>\n",
              "      <td>0.000000</td>\n",
              "    </tr>\n",
              "    <tr>\n",
              "      <th>std</th>\n",
              "      <td>13.179415</td>\n",
              "    </tr>\n",
              "    <tr>\n",
              "      <th>min</th>\n",
              "      <td>-47.000000</td>\n",
              "    </tr>\n",
              "    <tr>\n",
              "      <th>25%</th>\n",
              "      <td>-2.250000</td>\n",
              "    </tr>\n",
              "    <tr>\n",
              "      <th>50%</th>\n",
              "      <td>3.000000</td>\n",
              "    </tr>\n",
              "    <tr>\n",
              "      <th>75%</th>\n",
              "      <td>9.000000</td>\n",
              "    </tr>\n",
              "    <tr>\n",
              "      <th>max</th>\n",
              "      <td>17.000000</td>\n",
              "    </tr>\n",
              "  </tbody>\n",
              "</table>\n",
              "</div>"
            ],
            "text/plain": [
              "                0\n",
              "count  100.000000\n",
              "mean     0.000000\n",
              "std     13.179415\n",
              "min    -47.000000\n",
              "25%     -2.250000\n",
              "50%      3.000000\n",
              "75%      9.000000\n",
              "max     17.000000"
            ]
          },
          "metadata": {
            "tags": []
          },
          "execution_count": 184
        }
      ]
    },
    {
      "cell_type": "code",
      "metadata": {
        "id": "e3oW1y2j9h5J",
        "colab_type": "code",
        "colab": {
          "base_uri": "https://localhost:8080/",
          "height": 297
        },
        "outputId": "85b9a0e2-c033-4df3-b2aa-7f1c9f96c323"
      },
      "source": [
        ""
      ],
      "execution_count": null,
      "outputs": [
        {
          "output_type": "execute_result",
          "data": {
            "text/html": [
              "<div>\n",
              "<style scoped>\n",
              "    .dataframe tbody tr th:only-of-type {\n",
              "        vertical-align: middle;\n",
              "    }\n",
              "\n",
              "    .dataframe tbody tr th {\n",
              "        vertical-align: top;\n",
              "    }\n",
              "\n",
              "    .dataframe thead th {\n",
              "        text-align: right;\n",
              "    }\n",
              "</style>\n",
              "<table border=\"1\" class=\"dataframe\">\n",
              "  <thead>\n",
              "    <tr style=\"text-align: right;\">\n",
              "      <th></th>\n",
              "      <th>0</th>\n",
              "    </tr>\n",
              "  </thead>\n",
              "  <tbody>\n",
              "    <tr>\n",
              "      <th>count</th>\n",
              "      <td>100.000000</td>\n",
              "    </tr>\n",
              "    <tr>\n",
              "      <th>mean</th>\n",
              "      <td>6.140856</td>\n",
              "    </tr>\n",
              "    <tr>\n",
              "      <th>std</th>\n",
              "      <td>1.490102</td>\n",
              "    </tr>\n",
              "    <tr>\n",
              "      <th>min</th>\n",
              "      <td>2.468433</td>\n",
              "    </tr>\n",
              "    <tr>\n",
              "      <th>25%</th>\n",
              "      <td>5.252517</td>\n",
              "    </tr>\n",
              "    <tr>\n",
              "      <th>50%</th>\n",
              "      <td>6.155510</td>\n",
              "    </tr>\n",
              "    <tr>\n",
              "      <th>75%</th>\n",
              "      <td>7.083454</td>\n",
              "    </tr>\n",
              "    <tr>\n",
              "      <th>max</th>\n",
              "      <td>10.020287</td>\n",
              "    </tr>\n",
              "  </tbody>\n",
              "</table>\n",
              "</div>"
            ],
            "text/plain": [
              "                0\n",
              "count  100.000000\n",
              "mean     6.140856\n",
              "std      1.490102\n",
              "min      2.468433\n",
              "25%      5.252517\n",
              "50%      6.155510\n",
              "75%      7.083454\n",
              "max     10.020287"
            ]
          },
          "metadata": {
            "tags": []
          },
          "execution_count": 186
        }
      ]
    },
    {
      "cell_type": "code",
      "metadata": {
        "id": "ddIIrGUlJiV6",
        "colab_type": "code",
        "colab": {
          "base_uri": "https://localhost:8080/",
          "height": 34
        },
        "outputId": "c1ec13f0-9b75-4b22-8403-c0abcc959abc"
      },
      "source": [
        "# check where values are more than 10\n",
        "np.where(a == 17)"
      ],
      "execution_count": null,
      "outputs": [
        {
          "output_type": "execute_result",
          "data": {
            "text/plain": [
              "(array([28]),)"
            ]
          },
          "metadata": {
            "tags": []
          },
          "execution_count": 207
        }
      ]
    },
    {
      "cell_type": "code",
      "metadata": {
        "id": "rCUHIZp2KDwc",
        "colab_type": "code",
        "colab": {
          "base_uri": "https://localhost:8080/",
          "height": 745
        },
        "outputId": "4aed1b3a-a29a-462d-d022-d41ffbc9d10b"
      },
      "source": [
        "toy_with_pop[toy_with_pop[\"UserId\"] == users[28]]"
      ],
      "execution_count": null,
      "outputs": [
        {
          "output_type": "execute_result",
          "data": {
            "text/html": [
              "<div>\n",
              "<style scoped>\n",
              "    .dataframe tbody tr th:only-of-type {\n",
              "        vertical-align: middle;\n",
              "    }\n",
              "\n",
              "    .dataframe tbody tr th {\n",
              "        vertical-align: top;\n",
              "    }\n",
              "\n",
              "    .dataframe thead th {\n",
              "        text-align: right;\n",
              "    }\n",
              "</style>\n",
              "<table border=\"1\" class=\"dataframe\">\n",
              "  <thead>\n",
              "    <tr style=\"text-align: right;\">\n",
              "      <th></th>\n",
              "      <th>UserId</th>\n",
              "      <th>SongId</th>\n",
              "      <th>Count</th>\n",
              "      <th>TrackId</th>\n",
              "      <th>Artist</th>\n",
              "      <th>Song_name</th>\n",
              "      <th>Freq_q</th>\n",
              "    </tr>\n",
              "  </thead>\n",
              "  <tbody>\n",
              "    <tr>\n",
              "      <th>836</th>\n",
              "      <td>ac006af6edb9b4b5345b8c268c3d205bc1b15001</td>\n",
              "      <td>SOQTPLM12B0B809575</td>\n",
              "      <td>1</td>\n",
              "      <td>TRAJNLN128F427D137</td>\n",
              "      <td>The Black Keys</td>\n",
              "      <td>Strange Times</td>\n",
              "      <td>3</td>\n",
              "    </tr>\n",
              "    <tr>\n",
              "      <th>983</th>\n",
              "      <td>ac006af6edb9b4b5345b8c268c3d205bc1b15001</td>\n",
              "      <td>SOTEPSZ12AB018C99D</td>\n",
              "      <td>1</td>\n",
              "      <td>TRKSEEY12903CCD312</td>\n",
              "      <td>The Black Keys</td>\n",
              "      <td>Ten Cent Pistol</td>\n",
              "      <td>3</td>\n",
              "    </tr>\n",
              "    <tr>\n",
              "      <th>3320</th>\n",
              "      <td>ac006af6edb9b4b5345b8c268c3d205bc1b15001</td>\n",
              "      <td>SOXGXKY12A8C13A405</td>\n",
              "      <td>2</td>\n",
              "      <td>TRRJFXX128F427A71F</td>\n",
              "      <td>The Black Keys</td>\n",
              "      <td>Remember When (Side A)</td>\n",
              "      <td>2</td>\n",
              "    </tr>\n",
              "    <tr>\n",
              "      <th>3532</th>\n",
              "      <td>ac006af6edb9b4b5345b8c268c3d205bc1b15001</td>\n",
              "      <td>SOITRTA12A6D4F8261</td>\n",
              "      <td>7</td>\n",
              "      <td>TRDRTNQ128F93313A3</td>\n",
              "      <td>Metallica</td>\n",
              "      <td>Ride The Lightning</td>\n",
              "      <td>3</td>\n",
              "    </tr>\n",
              "    <tr>\n",
              "      <th>4718</th>\n",
              "      <td>ac006af6edb9b4b5345b8c268c3d205bc1b15001</td>\n",
              "      <td>SOMRTUH12AB0185650</td>\n",
              "      <td>1</td>\n",
              "      <td>TRSVTRT12903CB450E</td>\n",
              "      <td>The Black Keys</td>\n",
              "      <td>The Lengths</td>\n",
              "      <td>2</td>\n",
              "    </tr>\n",
              "    <tr>\n",
              "      <th>...</th>\n",
              "      <td>...</td>\n",
              "      <td>...</td>\n",
              "      <td>...</td>\n",
              "      <td>...</td>\n",
              "      <td>...</td>\n",
              "      <td>...</td>\n",
              "      <td>...</td>\n",
              "    </tr>\n",
              "    <tr>\n",
              "      <th>7408</th>\n",
              "      <td>ac006af6edb9b4b5345b8c268c3d205bc1b15001</td>\n",
              "      <td>SOYKZMF12A8C132C30</td>\n",
              "      <td>1</td>\n",
              "      <td>TRIFTWF128F426ADD7</td>\n",
              "      <td>John Denver</td>\n",
              "      <td>Eagles And Horses</td>\n",
              "      <td>1</td>\n",
              "    </tr>\n",
              "    <tr>\n",
              "      <th>7409</th>\n",
              "      <td>ac006af6edb9b4b5345b8c268c3d205bc1b15001</td>\n",
              "      <td>SOYXSUQ12A8C13BC13</td>\n",
              "      <td>1</td>\n",
              "      <td>TRGOZHU128F427F9A5</td>\n",
              "      <td>Mariana Aydar</td>\n",
              "      <td>Maior É Deus</td>\n",
              "      <td>1</td>\n",
              "    </tr>\n",
              "    <tr>\n",
              "      <th>7410</th>\n",
              "      <td>ac006af6edb9b4b5345b8c268c3d205bc1b15001</td>\n",
              "      <td>SOZKXKH12A8C131FFB</td>\n",
              "      <td>1</td>\n",
              "      <td>TRIMNTB128F424E2C2</td>\n",
              "      <td>Ultraje A Rigor</td>\n",
              "      <td>Nós Vamos Invadir Sua Praia</td>\n",
              "      <td>1</td>\n",
              "    </tr>\n",
              "    <tr>\n",
              "      <th>7411</th>\n",
              "      <td>ac006af6edb9b4b5345b8c268c3d205bc1b15001</td>\n",
              "      <td>SOZODMP12AB018061F</td>\n",
              "      <td>12</td>\n",
              "      <td>TROQOJH128F92EFDD4</td>\n",
              "      <td>Major Lazer / Mr. Lex / Santigold</td>\n",
              "      <td>Hold The Line</td>\n",
              "      <td>2</td>\n",
              "    </tr>\n",
              "    <tr>\n",
              "      <th>7413</th>\n",
              "      <td>ac006af6edb9b4b5345b8c268c3d205bc1b15001</td>\n",
              "      <td>SOZPLIC12A8C13F391</td>\n",
              "      <td>5</td>\n",
              "      <td>TRTGCLJ128F92CFEB0</td>\n",
              "      <td>Mariana Aydar</td>\n",
              "      <td>Tudo Que Eu Trago No Bolso</td>\n",
              "      <td>1</td>\n",
              "    </tr>\n",
              "  </tbody>\n",
              "</table>\n",
              "<p>129 rows × 7 columns</p>\n",
              "</div>"
            ],
            "text/plain": [
              "                                        UserId  ... Freq_q\n",
              "836   ac006af6edb9b4b5345b8c268c3d205bc1b15001  ...      3\n",
              "983   ac006af6edb9b4b5345b8c268c3d205bc1b15001  ...      3\n",
              "3320  ac006af6edb9b4b5345b8c268c3d205bc1b15001  ...      2\n",
              "3532  ac006af6edb9b4b5345b8c268c3d205bc1b15001  ...      3\n",
              "4718  ac006af6edb9b4b5345b8c268c3d205bc1b15001  ...      2\n",
              "...                                        ...  ...    ...\n",
              "7408  ac006af6edb9b4b5345b8c268c3d205bc1b15001  ...      1\n",
              "7409  ac006af6edb9b4b5345b8c268c3d205bc1b15001  ...      1\n",
              "7410  ac006af6edb9b4b5345b8c268c3d205bc1b15001  ...      1\n",
              "7411  ac006af6edb9b4b5345b8c268c3d205bc1b15001  ...      2\n",
              "7413  ac006af6edb9b4b5345b8c268c3d205bc1b15001  ...      1\n",
              "\n",
              "[129 rows x 7 columns]"
            ]
          },
          "metadata": {
            "tags": []
          },
          "execution_count": 214
        }
      ]
    },
    {
      "cell_type": "code",
      "metadata": {
        "id": "A9bKogKLKoty",
        "colab_type": "code",
        "colab": {
          "base_uri": "https://localhost:8080/",
          "height": 34
        },
        "outputId": "d890461e-85f6-44d3-83f7-3da2e78c6b7b"
      },
      "source": [
        "print(shannon_r[28], relative_r[28], \n",
        "      shannon[28], relative[28])"
      ],
      "execution_count": 38,
      "outputs": [
        {
          "output_type": "stream",
          "text": [
            "59 42 6.481286056696259 -7.356461018722857\n"
          ],
          "name": "stdout"
        }
      ]
    },
    {
      "cell_type": "code",
      "metadata": {
        "id": "x1kNJUjH4D-z",
        "colab_type": "code",
        "colab": {
          "base_uri": "https://localhost:8080/",
          "height": 34
        },
        "outputId": "1ff0f33a-f836-4ffb-e344-297fb473f9c0"
      },
      "source": [
        "print(total_playcount[28], distinct_songs[28], distinct_artists[28], pop_score[28])"
      ],
      "execution_count": 37,
      "outputs": [
        {
          "output_type": "stream",
          "text": [
            "373 129 68 0\n"
          ],
          "name": "stdout"
        }
      ]
    },
    {
      "cell_type": "code",
      "metadata": {
        "id": "q6z6-3dC8AwU",
        "colab_type": "code",
        "colab": {
          "base_uri": "https://localhost:8080/",
          "height": 546
        },
        "outputId": "60c5ce39-5bf0-422f-ea24-a4a72c2f8af5"
      },
      "source": [
        "plt.hist(total_playcount)\n",
        "pd.DataFrame(total_playcount).describe()"
      ],
      "execution_count": 39,
      "outputs": [
        {
          "output_type": "execute_result",
          "data": {
            "text/html": [
              "<div>\n",
              "<style scoped>\n",
              "    .dataframe tbody tr th:only-of-type {\n",
              "        vertical-align: middle;\n",
              "    }\n",
              "\n",
              "    .dataframe tbody tr th {\n",
              "        vertical-align: top;\n",
              "    }\n",
              "\n",
              "    .dataframe thead th {\n",
              "        text-align: right;\n",
              "    }\n",
              "</style>\n",
              "<table border=\"1\" class=\"dataframe\">\n",
              "  <thead>\n",
              "    <tr style=\"text-align: right;\">\n",
              "      <th></th>\n",
              "      <th>0</th>\n",
              "    </tr>\n",
              "  </thead>\n",
              "  <tbody>\n",
              "    <tr>\n",
              "      <th>count</th>\n",
              "      <td>100.000000</td>\n",
              "    </tr>\n",
              "    <tr>\n",
              "      <th>mean</th>\n",
              "      <td>343.080000</td>\n",
              "    </tr>\n",
              "    <tr>\n",
              "      <th>std</th>\n",
              "      <td>364.844195</td>\n",
              "    </tr>\n",
              "    <tr>\n",
              "      <th>min</th>\n",
              "      <td>16.000000</td>\n",
              "    </tr>\n",
              "    <tr>\n",
              "      <th>25%</th>\n",
              "      <td>110.750000</td>\n",
              "    </tr>\n",
              "    <tr>\n",
              "      <th>50%</th>\n",
              "      <td>225.000000</td>\n",
              "    </tr>\n",
              "    <tr>\n",
              "      <th>75%</th>\n",
              "      <td>436.000000</td>\n",
              "    </tr>\n",
              "    <tr>\n",
              "      <th>max</th>\n",
              "      <td>2409.000000</td>\n",
              "    </tr>\n",
              "  </tbody>\n",
              "</table>\n",
              "</div>"
            ],
            "text/plain": [
              "                 0\n",
              "count   100.000000\n",
              "mean    343.080000\n",
              "std     364.844195\n",
              "min      16.000000\n",
              "25%     110.750000\n",
              "50%     225.000000\n",
              "75%     436.000000\n",
              "max    2409.000000"
            ]
          },
          "metadata": {
            "tags": []
          },
          "execution_count": 39
        },
        {
          "output_type": "display_data",
          "data": {
            "image/png": "[encoded data removed]",
            "text/plain": [
              "<Figure size 432x288 with 1 Axes>"
            ]
          },
          "metadata": {
            "tags": [],
            "needs_background": "light"
          }
        }
      ]
    },
    {
      "cell_type": "code",
      "metadata": {
        "id": "ow_v0ppd8ZO5",
        "colab_type": "code",
        "colab": {
          "base_uri": "https://localhost:8080/",
          "height": 545
        },
        "outputId": "bc4032ab-cb02-482e-a13f-2d00dd0220f5"
      },
      "source": [
        "plt.hist(distinct_songs)\n",
        "pd.DataFrame(distinct_songs).describe()"
      ],
      "execution_count": 40,
      "outputs": [
        {
          "output_type": "execute_result",
          "data": {
            "text/html": [
              "<div>\n",
              "<style scoped>\n",
              "    .dataframe tbody tr th:only-of-type {\n",
              "        vertical-align: middle;\n",
              "    }\n",
              "\n",
              "    .dataframe tbody tr th {\n",
              "        vertical-align: top;\n",
              "    }\n",
              "\n",
              "    .dataframe thead th {\n",
              "        text-align: right;\n",
              "    }\n",
              "</style>\n",
              "<table border=\"1\" class=\"dataframe\">\n",
              "  <thead>\n",
              "    <tr style=\"text-align: right;\">\n",
              "      <th></th>\n",
              "      <th>0</th>\n",
              "    </tr>\n",
              "  </thead>\n",
              "  <tbody>\n",
              "    <tr>\n",
              "      <th>count</th>\n",
              "      <td>100.000000</td>\n",
              "    </tr>\n",
              "    <tr>\n",
              "      <th>mean</th>\n",
              "      <td>160.550000</td>\n",
              "    </tr>\n",
              "    <tr>\n",
              "      <th>std</th>\n",
              "      <td>201.392846</td>\n",
              "    </tr>\n",
              "    <tr>\n",
              "      <th>min</th>\n",
              "      <td>10.000000</td>\n",
              "    </tr>\n",
              "    <tr>\n",
              "      <th>25%</th>\n",
              "      <td>53.250000</td>\n",
              "    </tr>\n",
              "    <tr>\n",
              "      <th>50%</th>\n",
              "      <td>104.500000</td>\n",
              "    </tr>\n",
              "    <tr>\n",
              "      <th>75%</th>\n",
              "      <td>173.750000</td>\n",
              "    </tr>\n",
              "    <tr>\n",
              "      <th>max</th>\n",
              "      <td>1267.000000</td>\n",
              "    </tr>\n",
              "  </tbody>\n",
              "</table>\n",
              "</div>"
            ],
            "text/plain": [
              "                 0\n",
              "count   100.000000\n",
              "mean    160.550000\n",
              "std     201.392846\n",
              "min      10.000000\n",
              "25%      53.250000\n",
              "50%     104.500000\n",
              "75%     173.750000\n",
              "max    1267.000000"
            ]
          },
          "metadata": {
            "tags": []
          },
          "execution_count": 40
        },
        {
          "output_type": "display_data",
          "data": {
            "image/png": "[encoded data removed]",
            "text/plain": [
              "<Figure size 432x288 with 1 Axes>"
            ]
          },
          "metadata": {
            "tags": [],
            "needs_background": "light"
          }
        }
      ]
    },
    {
      "cell_type": "code",
      "metadata": {
        "id": "y08WS2vh8cD1",
        "colab_type": "code",
        "colab": {
          "base_uri": "https://localhost:8080/",
          "height": 545
        },
        "outputId": "2f621ff0-a144-4298-cd3b-eeba0167f7ab"
      },
      "source": [
        "plt.hist(distinct_artists)\n",
        "pd.DataFrame(distinct_artists).describe()"
      ],
      "execution_count": 41,
      "outputs": [
        {
          "output_type": "execute_result",
          "data": {
            "text/html": [
              "<div>\n",
              "<style scoped>\n",
              "    .dataframe tbody tr th:only-of-type {\n",
              "        vertical-align: middle;\n",
              "    }\n",
              "\n",
              "    .dataframe tbody tr th {\n",
              "        vertical-align: top;\n",
              "    }\n",
              "\n",
              "    .dataframe thead th {\n",
              "        text-align: right;\n",
              "    }\n",
              "</style>\n",
              "<table border=\"1\" class=\"dataframe\">\n",
              "  <thead>\n",
              "    <tr style=\"text-align: right;\">\n",
              "      <th></th>\n",
              "      <th>0</th>\n",
              "    </tr>\n",
              "  </thead>\n",
              "  <tbody>\n",
              "    <tr>\n",
              "      <th>count</th>\n",
              "      <td>100.000000</td>\n",
              "    </tr>\n",
              "    <tr>\n",
              "      <th>mean</th>\n",
              "      <td>81.100000</td>\n",
              "    </tr>\n",
              "    <tr>\n",
              "      <th>std</th>\n",
              "      <td>81.199654</td>\n",
              "    </tr>\n",
              "    <tr>\n",
              "      <th>min</th>\n",
              "      <td>4.000000</td>\n",
              "    </tr>\n",
              "    <tr>\n",
              "      <th>25%</th>\n",
              "      <td>28.750000</td>\n",
              "    </tr>\n",
              "    <tr>\n",
              "      <th>50%</th>\n",
              "      <td>57.500000</td>\n",
              "    </tr>\n",
              "    <tr>\n",
              "      <th>75%</th>\n",
              "      <td>102.250000</td>\n",
              "    </tr>\n",
              "    <tr>\n",
              "      <th>max</th>\n",
              "      <td>434.000000</td>\n",
              "    </tr>\n",
              "  </tbody>\n",
              "</table>\n",
              "</div>"
            ],
            "text/plain": [
              "                0\n",
              "count  100.000000\n",
              "mean    81.100000\n",
              "std     81.199654\n",
              "min      4.000000\n",
              "25%     28.750000\n",
              "50%     57.500000\n",
              "75%    102.250000\n",
              "max    434.000000"
            ]
          },
          "metadata": {
            "tags": []
          },
          "execution_count": 41
        },
        {
          "output_type": "display_data",
          "data": {
            "image/png": "[encoded data removed]",
            "text/plain": [
              "<Figure size 432x288 with 1 Axes>"
            ]
          },
          "metadata": {
            "tags": [],
            "needs_background": "light"
          }
        }
      ]
    },
    {
      "cell_type": "code",
      "metadata": {
        "id": "tIYoDpBx8gmM",
        "colab_type": "code",
        "colab": {
          "base_uri": "https://localhost:8080/",
          "height": 545
        },
        "outputId": "6010d089-9f4d-4833-9398-13b7f08db0fd"
      },
      "source": [
        "plt.hist(pop_score)\n",
        "pd.DataFrame(pop_score).describe()"
      ],
      "execution_count": 42,
      "outputs": [
        {
          "output_type": "execute_result",
          "data": {
            "text/html": [
              "<div>\n",
              "<style scoped>\n",
              "    .dataframe tbody tr th:only-of-type {\n",
              "        vertical-align: middle;\n",
              "    }\n",
              "\n",
              "    .dataframe tbody tr th {\n",
              "        vertical-align: top;\n",
              "    }\n",
              "\n",
              "    .dataframe thead th {\n",
              "        text-align: right;\n",
              "    }\n",
              "</style>\n",
              "<table border=\"1\" class=\"dataframe\">\n",
              "  <thead>\n",
              "    <tr style=\"text-align: right;\">\n",
              "      <th></th>\n",
              "      <th>0</th>\n",
              "    </tr>\n",
              "  </thead>\n",
              "  <tbody>\n",
              "    <tr>\n",
              "      <th>count</th>\n",
              "      <td>100.000000</td>\n",
              "    </tr>\n",
              "    <tr>\n",
              "      <th>mean</th>\n",
              "      <td>3.410000</td>\n",
              "    </tr>\n",
              "    <tr>\n",
              "      <th>std</th>\n",
              "      <td>5.759656</td>\n",
              "    </tr>\n",
              "    <tr>\n",
              "      <th>min</th>\n",
              "      <td>0.000000</td>\n",
              "    </tr>\n",
              "    <tr>\n",
              "      <th>25%</th>\n",
              "      <td>0.000000</td>\n",
              "    </tr>\n",
              "    <tr>\n",
              "      <th>50%</th>\n",
              "      <td>1.000000</td>\n",
              "    </tr>\n",
              "    <tr>\n",
              "      <th>75%</th>\n",
              "      <td>3.250000</td>\n",
              "    </tr>\n",
              "    <tr>\n",
              "      <th>max</th>\n",
              "      <td>23.000000</td>\n",
              "    </tr>\n",
              "  </tbody>\n",
              "</table>\n",
              "</div>"
            ],
            "text/plain": [
              "                0\n",
              "count  100.000000\n",
              "mean     3.410000\n",
              "std      5.759656\n",
              "min      0.000000\n",
              "25%      0.000000\n",
              "50%      1.000000\n",
              "75%      3.250000\n",
              "max     23.000000"
            ]
          },
          "metadata": {
            "tags": []
          },
          "execution_count": 42
        },
        {
          "output_type": "display_data",
          "data": {
            "image/png": "[encoded data removed]",
            "text/plain": [
              "<Figure size 432x288 with 1 Axes>"
            ]
          },
          "metadata": {
            "tags": [],
            "needs_background": "light"
          }
        }
      ]
    },
    {
      "cell_type": "code",
      "metadata": {
        "id": "XF88ZILXIkMO",
        "colab_type": "code",
        "colab": {
          "base_uri": "https://localhost:8080/",
          "height": 34
        },
        "outputId": "9161df95-8cdb-4d0d-9549-2b4528c49951"
      },
      "source": [
        "# check where values are more than 10\n",
        "np.where(a == -47)"
      ],
      "execution_count": 43,
      "outputs": [
        {
          "output_type": "execute_result",
          "data": {
            "text/plain": [
              "(array([57]),)"
            ]
          },
          "metadata": {
            "tags": []
          },
          "execution_count": 43
        }
      ]
    },
    {
      "cell_type": "code",
      "metadata": {
        "id": "0qjgEqIqIpGt",
        "colab_type": "code",
        "colab": {
          "base_uri": "https://localhost:8080/",
          "height": 34
        },
        "outputId": "7bce33dd-e6b1-493b-b738-57df2f194719"
      },
      "source": [
        "print(shannon_r[57], relative_r[57], \n",
        "      shannon[57], relative[57])"
      ],
      "execution_count": 44,
      "outputs": [
        {
          "output_type": "stream",
          "text": [
            "39 86 5.801164626079563 -5.404896860761347\n"
          ],
          "name": "stdout"
        }
      ]
    },
    {
      "cell_type": "code",
      "metadata": {
        "id": "dy8TErF-I4jS",
        "colab_type": "code",
        "colab": {
          "base_uri": "https://localhost:8080/",
          "height": 34
        },
        "outputId": "0e935dab-f30e-426a-8542-2ffce9b3284a"
      },
      "source": [
        "print(total_playcount[57], distinct_songs[57], distinct_artists[57], pop_score[57])"
      ],
      "execution_count": 45,
      "outputs": [
        {
          "output_type": "stream",
          "text": [
            "167 76 61 22\n"
          ],
          "name": "stdout"
        }
      ]
    },
    {
      "cell_type": "markdown",
      "metadata": {
        "id": "limIYjVDJTyf",
        "colab_type": "text"
      },
      "source": [
        "So Shannon vs KL divergence is pure popularity difference."
      ]
    },
    {
      "cell_type": "markdown",
      "metadata": {
        "id": "bwroLuYaJXmG",
        "colab_type": "text"
      },
      "source": [
        "## Shannon - Hill number"
      ]
    },
    {
      "cell_type": "code",
      "metadata": {
        "id": "NnnU7BnwJc2H",
        "colab_type": "code",
        "colab": {}
      },
      "source": [
        "hill_no_r = stats.rankdata(hill_no, method = \"min\")"
      ],
      "execution_count": 103,
      "outputs": []
    },
    {
      "cell_type": "code",
      "metadata": {
        "id": "L2Jkk7lDJqvP",
        "colab_type": "code",
        "colab": {}
      },
      "source": [
        "tau, p_value = stats.kendalltau(shannon_r, hill_no_r)"
      ],
      "execution_count": 104,
      "outputs": []
    },
    {
      "cell_type": "code",
      "metadata": {
        "id": "0VUwc31UJwyG",
        "colab_type": "code",
        "colab": {
          "base_uri": "https://localhost:8080/",
          "height": 34
        },
        "outputId": "a6fef0a8-c8b5-4e78-9ebd-d1b8a2afecdf"
      },
      "source": [
        "print(tau, p_value)"
      ],
      "execution_count": 105,
      "outputs": [
        {
          "output_type": "stream",
          "text": [
            "0.8630303030303031 4.4335715544411205e-37\n"
          ],
          "name": "stdout"
        }
      ]
    },
    {
      "cell_type": "code",
      "metadata": {
        "id": "t1BDw-xKJ2nB",
        "colab_type": "code",
        "colab": {}
      },
      "source": [
        "diff_b = np.array(shannon_r)-np.array(hill_no_r) "
      ],
      "execution_count": 106,
      "outputs": []
    },
    {
      "cell_type": "code",
      "metadata": {
        "id": "p_AB8Zh9KD4f",
        "colab_type": "code",
        "colab": {
          "base_uri": "https://localhost:8080/",
          "height": 333
        },
        "outputId": "df027f6f-1909-4fb0-d4f4-29a9b5a8b0fb"
      },
      "source": [
        "plt.hist(diff_b)"
      ],
      "execution_count": 107,
      "outputs": [
        {
          "output_type": "execute_result",
          "data": {
            "text/plain": [
              "(array([ 3.,  7., 12., 28., 23., 13.,  4.,  4.,  3.,  3.]),\n",
              " array([-15. , -11.4,  -7.8,  -4.2,  -0.6,   3. ,   6.6,  10.2,  13.8,\n",
              "         17.4,  21. ]),\n",
              " <a list of 10 Patch objects>)"
            ]
          },
          "metadata": {
            "tags": []
          },
          "execution_count": 107
        },
        {
          "output_type": "display_data",
          "data": {
            "image/png": "[encoded data removed]",
            "text/plain": [
              "<Figure size 432x288 with 1 Axes>"
            ]
          },
          "metadata": {
            "tags": [],
            "needs_background": "light"
          }
        }
      ]
    },
    {
      "cell_type": "code",
      "metadata": {
        "id": "m9Z6rAWLKJmn",
        "colab_type": "code",
        "colab": {
          "base_uri": "https://localhost:8080/",
          "height": 297
        },
        "outputId": "2ba6de11-de07-420c-b991-863962b28e86"
      },
      "source": [
        "pd.DataFrame(diff_b).describe()"
      ],
      "execution_count": 108,
      "outputs": [
        {
          "output_type": "execute_result",
          "data": {
            "text/html": [
              "<div>\n",
              "<style scoped>\n",
              "    .dataframe tbody tr th:only-of-type {\n",
              "        vertical-align: middle;\n",
              "    }\n",
              "\n",
              "    .dataframe tbody tr th {\n",
              "        vertical-align: top;\n",
              "    }\n",
              "\n",
              "    .dataframe thead th {\n",
              "        text-align: right;\n",
              "    }\n",
              "</style>\n",
              "<table border=\"1\" class=\"dataframe\">\n",
              "  <thead>\n",
              "    <tr style=\"text-align: right;\">\n",
              "      <th></th>\n",
              "      <th>0</th>\n",
              "    </tr>\n",
              "  </thead>\n",
              "  <tbody>\n",
              "    <tr>\n",
              "      <th>count</th>\n",
              "      <td>100.000000</td>\n",
              "    </tr>\n",
              "    <tr>\n",
              "      <th>mean</th>\n",
              "      <td>0.000000</td>\n",
              "    </tr>\n",
              "    <tr>\n",
              "      <th>std</th>\n",
              "      <td>6.928203</td>\n",
              "    </tr>\n",
              "    <tr>\n",
              "      <th>min</th>\n",
              "      <td>-15.000000</td>\n",
              "    </tr>\n",
              "    <tr>\n",
              "      <th>25%</th>\n",
              "      <td>-4.000000</td>\n",
              "    </tr>\n",
              "    <tr>\n",
              "      <th>50%</th>\n",
              "      <td>-0.500000</td>\n",
              "    </tr>\n",
              "    <tr>\n",
              "      <th>75%</th>\n",
              "      <td>3.000000</td>\n",
              "    </tr>\n",
              "    <tr>\n",
              "      <th>max</th>\n",
              "      <td>21.000000</td>\n",
              "    </tr>\n",
              "  </tbody>\n",
              "</table>\n",
              "</div>"
            ],
            "text/plain": [
              "                0\n",
              "count  100.000000\n",
              "mean     0.000000\n",
              "std      6.928203\n",
              "min    -15.000000\n",
              "25%     -4.000000\n",
              "50%     -0.500000\n",
              "75%      3.000000\n",
              "max     21.000000"
            ]
          },
          "metadata": {
            "tags": []
          },
          "execution_count": 108
        }
      ]
    },
    {
      "cell_type": "code",
      "metadata": {
        "id": "TCc50qCXKWwm",
        "colab_type": "code",
        "colab": {
          "base_uri": "https://localhost:8080/",
          "height": 34
        },
        "outputId": "241ca757-20b8-4658-f074-dcf6c2541e9c"
      },
      "source": [
        "print(np.where(diff_b == 21), np.where(diff_b==-15))"
      ],
      "execution_count": 109,
      "outputs": [
        {
          "output_type": "stream",
          "text": [
            "(array([55]),) (array([32]),)\n"
          ],
          "name": "stdout"
        }
      ]
    },
    {
      "cell_type": "code",
      "metadata": {
        "id": "wJbseElLKpts",
        "colab_type": "code",
        "colab": {
          "base_uri": "https://localhost:8080/",
          "height": 34
        },
        "outputId": "2c21e2b7-368f-479a-dc02-2f2029761f95"
      },
      "source": [
        "print(shannon_r[21], hill_no_r[21], \n",
        "      shannon[21], hill_no[21])"
      ],
      "execution_count": 99,
      "outputs": [
        {
          "output_type": "stream",
          "text": [
            "64 41 6.641596465690961 33.890953891150104\n"
          ],
          "name": "stdout"
        }
      ]
    },
    {
      "cell_type": "code",
      "metadata": {
        "id": "z31lTqYSKkGf",
        "colab_type": "code",
        "colab": {
          "base_uri": "https://localhost:8080/",
          "height": 34
        },
        "outputId": "717078fe-4af1-427e-ee4b-6d551455897a"
      },
      "source": [
        "print(total_playcount[55], distinct_songs[55], distinct_artists[55], pop_score[55])"
      ],
      "execution_count": 100,
      "outputs": [
        {
          "output_type": "stream",
          "text": [
            "448 209 154 0\n"
          ],
          "name": "stdout"
        }
      ]
    },
    {
      "cell_type": "code",
      "metadata": {
        "id": "o-4miOZQPSP2",
        "colab_type": "code",
        "colab": {
          "base_uri": "https://localhost:8080/",
          "height": 711
        },
        "outputId": "5dfe4044-f0d6-4cc1-e1ed-69675970e5fa"
      },
      "source": [
        "toy_artist_merge[toy_artist_merge[\"UserId\"]==users[55]]"
      ],
      "execution_count": 101,
      "outputs": [
        {
          "output_type": "execute_result",
          "data": {
            "text/html": [
              "<div>\n",
              "<style scoped>\n",
              "    .dataframe tbody tr th:only-of-type {\n",
              "        vertical-align: middle;\n",
              "    }\n",
              "\n",
              "    .dataframe tbody tr th {\n",
              "        vertical-align: top;\n",
              "    }\n",
              "\n",
              "    .dataframe thead th {\n",
              "        text-align: right;\n",
              "    }\n",
              "</style>\n",
              "<table border=\"1\" class=\"dataframe\">\n",
              "  <thead>\n",
              "    <tr style=\"text-align: right;\">\n",
              "      <th></th>\n",
              "      <th>UserId</th>\n",
              "      <th>SongId</th>\n",
              "      <th>Count</th>\n",
              "      <th>TrackId</th>\n",
              "      <th>Artist</th>\n",
              "      <th>Song_name</th>\n",
              "    </tr>\n",
              "  </thead>\n",
              "  <tbody>\n",
              "    <tr>\n",
              "      <th>1397</th>\n",
              "      <td>9d633fa5e6c1e6c4304d3394a1c1802d04e9d5e2</td>\n",
              "      <td>SOTUYFC12A8C13AE26</td>\n",
              "      <td>1</td>\n",
              "      <td>TRTAEKL128F92F8DB8</td>\n",
              "      <td>Noosa Head Feat. Marshall Jefferson</td>\n",
              "      <td>Mushrooms</td>\n",
              "    </tr>\n",
              "    <tr>\n",
              "      <th>3155</th>\n",
              "      <td>9d633fa5e6c1e6c4304d3394a1c1802d04e9d5e2</td>\n",
              "      <td>SOSJDQJ12A8C13D4A9</td>\n",
              "      <td>1</td>\n",
              "      <td>TRABOVH128F427D3B4</td>\n",
              "      <td>Chromeo</td>\n",
              "      <td>Fancy Footwork</td>\n",
              "    </tr>\n",
              "    <tr>\n",
              "      <th>3299</th>\n",
              "      <td>9d633fa5e6c1e6c4304d3394a1c1802d04e9d5e2</td>\n",
              "      <td>SOWRTJD12A8C132704</td>\n",
              "      <td>1</td>\n",
              "      <td>TRXIOUQ128F4269099</td>\n",
              "      <td>Aerosmith</td>\n",
              "      <td>Dream On</td>\n",
              "    </tr>\n",
              "    <tr>\n",
              "      <th>3341</th>\n",
              "      <td>9d633fa5e6c1e6c4304d3394a1c1802d04e9d5e2</td>\n",
              "      <td>SOZVCRW12A67ADA0B7</td>\n",
              "      <td>1</td>\n",
              "      <td>TRNTALF128EF343800</td>\n",
              "      <td>The Killers</td>\n",
              "      <td>When You Were Young</td>\n",
              "    </tr>\n",
              "    <tr>\n",
              "      <th>3460</th>\n",
              "      <td>9d633fa5e6c1e6c4304d3394a1c1802d04e9d5e2</td>\n",
              "      <td>SOFFQBG12A6D4F9793</td>\n",
              "      <td>2</td>\n",
              "      <td>TREIHZT128F146E229</td>\n",
              "      <td>Juanes</td>\n",
              "      <td>La Camisa Negra</td>\n",
              "    </tr>\n",
              "    <tr>\n",
              "      <th>...</th>\n",
              "      <td>...</td>\n",
              "      <td>...</td>\n",
              "      <td>...</td>\n",
              "      <td>...</td>\n",
              "      <td>...</td>\n",
              "      <td>...</td>\n",
              "    </tr>\n",
              "    <tr>\n",
              "      <th>10973</th>\n",
              "      <td>9d633fa5e6c1e6c4304d3394a1c1802d04e9d5e2</td>\n",
              "      <td>SOZJEAW12A58A761DB</td>\n",
              "      <td>5</td>\n",
              "      <td>TRRAXZJ128F92F56A8</td>\n",
              "      <td>Wilson Pickett</td>\n",
              "      <td>Land Of 1000 Dances</td>\n",
              "    </tr>\n",
              "    <tr>\n",
              "      <th>10974</th>\n",
              "      <td>9d633fa5e6c1e6c4304d3394a1c1802d04e9d5e2</td>\n",
              "      <td>SOZNBUK12A8C1383E3</td>\n",
              "      <td>1</td>\n",
              "      <td>TRMSIRD128F427EEFD</td>\n",
              "      <td>Sufjan Stevens</td>\n",
              "      <td>Sleeping Bear_ Sault Saint Marie</td>\n",
              "    </tr>\n",
              "    <tr>\n",
              "      <th>10975</th>\n",
              "      <td>9d633fa5e6c1e6c4304d3394a1c1802d04e9d5e2</td>\n",
              "      <td>SOZNMYQ12A6D4F837E</td>\n",
              "      <td>2</td>\n",
              "      <td>TRNGMZZ128F1469CFE</td>\n",
              "      <td>Wagon Christ</td>\n",
              "      <td>Piano Playa Hata</td>\n",
              "    </tr>\n",
              "    <tr>\n",
              "      <th>10976</th>\n",
              "      <td>9d633fa5e6c1e6c4304d3394a1c1802d04e9d5e2</td>\n",
              "      <td>SOZSNXB12A6310E141</td>\n",
              "      <td>1</td>\n",
              "      <td>TRQACSU128F1460103</td>\n",
              "      <td>Bentley Rhythm Ace</td>\n",
              "      <td>Jim'll Twist It</td>\n",
              "    </tr>\n",
              "    <tr>\n",
              "      <th>10977</th>\n",
              "      <td>9d633fa5e6c1e6c4304d3394a1c1802d04e9d5e2</td>\n",
              "      <td>SOZTQAP12A8C136F56</td>\n",
              "      <td>1</td>\n",
              "      <td>TRNPRQF128F425C707</td>\n",
              "      <td>Michael Gettel</td>\n",
              "      <td>Flight</td>\n",
              "    </tr>\n",
              "  </tbody>\n",
              "</table>\n",
              "<p>210 rows × 6 columns</p>\n",
              "</div>"
            ],
            "text/plain": [
              "                                         UserId  ...                         Song_name\n",
              "1397   9d633fa5e6c1e6c4304d3394a1c1802d04e9d5e2  ...                         Mushrooms\n",
              "3155   9d633fa5e6c1e6c4304d3394a1c1802d04e9d5e2  ...                    Fancy Footwork\n",
              "3299   9d633fa5e6c1e6c4304d3394a1c1802d04e9d5e2  ...                          Dream On\n",
              "3341   9d633fa5e6c1e6c4304d3394a1c1802d04e9d5e2  ...               When You Were Young\n",
              "3460   9d633fa5e6c1e6c4304d3394a1c1802d04e9d5e2  ...                   La Camisa Negra\n",
              "...                                         ...  ...                               ...\n",
              "10973  9d633fa5e6c1e6c4304d3394a1c1802d04e9d5e2  ...               Land Of 1000 Dances\n",
              "10974  9d633fa5e6c1e6c4304d3394a1c1802d04e9d5e2  ...  Sleeping Bear_ Sault Saint Marie\n",
              "10975  9d633fa5e6c1e6c4304d3394a1c1802d04e9d5e2  ...                  Piano Playa Hata\n",
              "10976  9d633fa5e6c1e6c4304d3394a1c1802d04e9d5e2  ...                   Jim'll Twist It\n",
              "10977  9d633fa5e6c1e6c4304d3394a1c1802d04e9d5e2  ...                            Flight\n",
              "\n",
              "[210 rows x 6 columns]"
            ]
          },
          "metadata": {
            "tags": []
          },
          "execution_count": 101
        }
      ]
    },
    {
      "cell_type": "code",
      "metadata": {
        "id": "ZR_xug6cLfo0",
        "colab_type": "code",
        "colab": {
          "base_uri": "https://localhost:8080/",
          "height": 452
        },
        "outputId": "d6fdc06f-f7dd-499e-88de-7e94c66c0cc0"
      },
      "source": [
        "plt.hist(toy_artist_merge[\"Count\"][toy_artist_merge[\"UserId\"]==users[55]], bins = 40)"
      ],
      "execution_count": 98,
      "outputs": [
        {
          "output_type": "execute_result",
          "data": {
            "text/plain": [
              "(array([150.,  25.,  10.,   6.,   6.,   2.,   4.,   1.,   0.,   0.,   1.,\n",
              "          0.,   0.,   0.,   2.,   0.,   0.,   1.,   0.,   0.,   0.,   0.,\n",
              "          0.,   1.,   0.,   0.,   0.,   0.,   0.,   0.,   0.,   0.,   0.,\n",
              "          0.,   0.,   0.,   0.,   0.,   0.,   1.]),\n",
              " array([ 1.   ,  1.925,  2.85 ,  3.775,  4.7  ,  5.625,  6.55 ,  7.475,\n",
              "         8.4  ,  9.325, 10.25 , 11.175, 12.1  , 13.025, 13.95 , 14.875,\n",
              "        15.8  , 16.725, 17.65 , 18.575, 19.5  , 20.425, 21.35 , 22.275,\n",
              "        23.2  , 24.125, 25.05 , 25.975, 26.9  , 27.825, 28.75 , 29.675,\n",
              "        30.6  , 31.525, 32.45 , 33.375, 34.3  , 35.225, 36.15 , 37.075,\n",
              "        38.   ]),\n",
              " <a list of 40 Patch objects>)"
            ]
          },
          "metadata": {
            "tags": []
          },
          "execution_count": 98
        },
        {
          "output_type": "display_data",
          "data": {
            "image/png": "[encoded data removed]",
            "text/plain": [
              "<Figure size 432x288 with 1 Axes>"
            ]
          },
          "metadata": {
            "tags": [],
            "needs_background": "light"
          }
        }
      ]
    },
    {
      "cell_type": "markdown",
      "metadata": {
        "id": "wkT2IeoPONx5",
        "colab_type": "text"
      },
      "source": [
        "Ranking difference among those who have large count songs.  This is because frequent songs contribute only very small number to the Hill's number. This means that user 55, who according his behaviour should be listened as a strong generalist due to her playcount, number of artist and song stemming from classic rock to electornic and classical music is labelled as specialist because he has a few songs with relativelly high counts. Maybe we should do Hill q = 2? Hill CAN put more emphasis on more abundand categories. This might be useful. When changed to q = 2, the disconcordance decreased (Kendel's Tau rose to 0.86), yet the two most extreme values remained the same - 55 and 32.\n"
      ]
    }
  ]
}