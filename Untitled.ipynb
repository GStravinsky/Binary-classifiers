{
 "cells": [
  {
   "cell_type": "code",
   "execution_count": 3,
   "metadata": {},
   "outputs": [
    {
     "name": "stderr",
     "output_type": "stream",
     "text": [
      "Using TensorFlow backend.\n"
     ]
    },
    {
     "name": "stdout",
     "output_type": "stream",
     "text": [
      "Downloading data from http://fashion-mnist.s3-website.eu-central-1.amazonaws.com/train-labels-idx1-ubyte.gz\n",
      "32768/29515 [=================================] - 0s 1us/step\n",
      "Downloading data from http://fashion-mnist.s3-website.eu-central-1.amazonaws.com/train-images-idx3-ubyte.gz\n",
      "26427392/26421880 [==============================] - 4s 0us/step\n",
      "Downloading data from http://fashion-mnist.s3-website.eu-central-1.amazonaws.com/t10k-labels-idx1-ubyte.gz\n",
      "8192/5148 [===============================================] - 0s 0us/step\n",
      "Downloading data from http://fashion-mnist.s3-website.eu-central-1.amazonaws.com/t10k-images-idx3-ubyte.gz\n",
      "4423680/4422102 [==============================] - 1s 0us/step\n"
     ]
    }
   ],
   "source": [
    "from keras.datasets import fashion_mnist\n",
    "(train_X,train_Y), (test_X,test_Y) = fashion_mnist.load_data()"
   ]
  },
  {
   "cell_type": "code",
   "execution_count": null,
   "metadata": {},
   "outputs": [],
   "source": [
    "# Alternative for lower sklearn versions\n",
    "\n",
    "A = []\n",
    "for i,(tr_idx, v_idx) in enumerate(skf.split(Xtrain, Ytrain)):\n",
    "    Xtr, Xv = Xtrain[tr_idx], Xtrain[v_idx]\n",
    "    ytr, yv = Ytrain[tr_idx], Ytrain[v_idx] \n",
    "    sknn.fit(Xtr,ytr)\n",
    "    z = sknn.predict_proba(Xv)[:,1]\n",
    "    roc_auc = plotROC(yv,z,pstr = 'Validation Fold: '+str(i))\n",
    "    A.append(roc_auc)\n",
    "    print('Fold ',i,'AUC ROC:',roc_auc)\n",
    "\n",
    "print('Fold-Wise AUC',A)\n",
    "print('Mean AUC',np.mean(A))\n",
    "print('Stdev AUC',np.std(A))"
   ]
  },
  {
   "cell_type": "code",
   "execution_count": null,
   "metadata": {},
   "outputs": [],
   "source": [
    "# alternative for lower sklearn versions\n",
    "\n",
    "A = []\n",
    "for i,(tr_idx, v_idx) in enumerate(skf.split(Xtrain, Ytrain)):\n",
    "    Xtr, Xv = Xtrain[tr_idx], Xtrain[v_idx]\n",
    "    ytr, yv = Ytrain[tr_idx], Ytrain[v_idx] \n",
    "    sknn.fit(Xtr,ytr)\n",
    "    z = sknn.predict_proba(Xv)[:,1]\n",
    "    roc_auc = plotPRC(yv,z,pstr = 'Validation Fold: '+str(i))\n",
    "    A.append(roc_auc)\n",
    "    print('Fold ',i,'AUC ROC:',roc_auc)\n",
    "\n",
    "print('Fold-Wise AUC',A)\n",
    "print('Mean AUC',np.mean(A))\n",
    "print('Stdev AUC',np.std(A))"
   ]
  },
  {
   "cell_type": "code",
   "execution_count": 5,
   "metadata": {},
   "outputs": [],
   "source": [
    "import numpy as np\n",
    "rng = np.random.RandomState(1)\n",
    "X = rng.randint(5, size=(6, 100))\n",
    "Y = np.array([1, 2, 3, 4, 4, 5])"
   ]
  },
  {
   "cell_type": "code",
   "execution_count": 7,
   "metadata": {},
   "outputs": [
    {
     "data": {
      "text/plain": [
       "array([1, 2, 3, 4, 4, 5])"
      ]
     },
     "execution_count": 7,
     "metadata": {},
     "output_type": "execute_result"
    }
   ],
   "source": [
    "# creating a list of column names.\n",
    "pcs = []\n",
    "for i in range(1,166):\n",
    "    pcs.append('PC'+str(i))\n",
    "\n"
   ]
  }
 ],
 "metadata": {
  "kernelspec": {
   "display_name": "Python 3",
   "language": "python",
   "name": "python3"
  },
  "language_info": {
   "codemirror_mode": {
    "name": "ipython",
    "version": 3
   },
   "file_extension": ".py",
   "mimetype": "text/x-python",
   "name": "python",
   "nbconvert_exporter": "python",
   "pygments_lexer": "ipython3",
   "version": "3.7.4"
  },
  "toc": {
   "base_numbering": 1,
   "nav_menu": {},
   "number_sections": true,
   "sideBar": true,
   "skip_h1_title": false,
   "title_cell": "Table of Contents",
   "title_sidebar": "Contents",
   "toc_cell": false,
   "toc_position": {},
   "toc_section_display": true,
   "toc_window_display": false
  }
 },
 "nbformat": 4,
 "nbformat_minor": 2
}
