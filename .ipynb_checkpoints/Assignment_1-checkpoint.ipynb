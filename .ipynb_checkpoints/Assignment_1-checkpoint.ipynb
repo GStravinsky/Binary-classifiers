{
 "cells": [
  {
   "cell_type": "code",
   "execution_count": 358,
   "metadata": {},
   "outputs": [],
   "source": [
    "import numpy as np\n",
    "import matplotlib.pyplot as plt\n",
    "from sklearn.model_selection import StratifiedKFold\n",
    "from sklearn.neighbors import KNeighborsClassifier\n",
    "from sklearn.model_selection import cross_val_score\n",
    "from sklearn.metrics import plot_roc_curve\n",
    "from scipy import interp\n",
    "from sklearn.metrics import plot_precision_recall_curve\n",
    "from sklearn.metrics import average_precision_score\n",
    "from sklearn.metrics import roc_auc_score\n",
    "from sklearn import preprocessing\n",
    "import pandas as pd\n",
    "from sklearn.linear_model import Perceptron\n",
    "from sklearn.svm import SVC\n",
    "from sklearn.model_selection import GridSearchCV\n",
    "from sklearn.metrics import roc_curve, auc, precision_recall_curve\n",
    "from sklearn.linear_model import LogisticRegression\n",
    "from sklearn.naive_bayes import GaussianNB\n",
    "from sklearn.naive_bayes import ComplementNB\n",
    "from sklearn.naive_bayes import BernoulliNB\n",
    "from sklearn.naive_bayes import MultinomialNB\n",
    "\n",
    "\n",
    "Xtest = np.loadtxt(\"Xtest.csv\", delimiter=' ')\n",
    "Xtrain = np.loadtxt(\"Xtrain.csv\", delimiter=' ' )\n",
    "Ytrain = np.loadtxt(\"Ytrain.csv\", delimiter=' ')"
   ]
  },
  {
   "cell_type": "code",
   "execution_count": 283,
   "metadata": {},
   "outputs": [],
   "source": [
    "## ROC-AUC, accuracy and AUC-PR metrics in one\n",
    "\n",
    "def evaluation_metrics(X, classifier, print_summary = True, has_decision_function = False):\n",
    "    # INPUT: \n",
    "    # X - the design matrix.\n",
    "    # classifier - the predefined classifier/model\n",
    "    # print_summary - a concise mean, standard deviation report will be returned\n",
    "    #                 including the results for all the folds.\n",
    "    # has_decision_function - probabilistic models such as perceptron, SVM in sklearn have \n",
    "    #                 inbuilt decision_function to define threshold. It is prefered to use that.\n",
    "    # OUTPUT:\n",
    "    # 2 dictionaries for means and standard deviations of all the metrics taken across all folds.\n",
    "    \n",
    "    # lists to contain the results for all 3 classifiers\n",
    "    roc =[]\n",
    "    pr = []\n",
    "    accuracy = []\n",
    "   \n",
    "    for i, (train, test) in enumerate(skf.split(X, Ytrain)):\n",
    "        classifier.fit(X[train], Ytrain[train])\n",
    "        \n",
    "        # checking which attribute to use to define the threshold\n",
    "        if has_decision_function == False:\n",
    "            probs = classifier.predict_proba(X[test])\n",
    "            preds = probs[:,1]\n",
    "        elif has_decision_function == True:\n",
    "            preds = classifier.decision_function(X[test])\n",
    "        \n",
    "        # calculating ROC-AUC score\n",
    "        fpr,tpr,tt = roc_curve(Ytrain[test], preds)\n",
    "        roc_score = auc(fpr, tpr)\n",
    "        \n",
    "        # calculating PR-AUC score\n",
    "        pr_score = average_precision_score(Ytrain[test], preds)\n",
    "        \n",
    "        # manually defining accuracy\n",
    "        accuracy_score = np.mean(Ytrain[test] == classifier.predict(X[test]))\n",
    "        \n",
    "        # storing the values for each fold\n",
    "        roc.append(roc_score)\n",
    "        pr.append(pr_score)\n",
    "        accuracy.append(accuracy_score)\n",
    "    \n",
    "    # creating dictionaries for means and standard deviations of the performance metrics\n",
    "    means = {'roc':np.mean(roc),'pr': np.mean(pr),'accuracy':np.mean(accuracy)}\n",
    "    stds ={'roc':np.std(roc),'pr': np.std(pr),'accuracy':np.std(accuracy)}\n",
    "    \n",
    "    # a \"wordy\" summary\n",
    "    if print_summary == True:\n",
    "        print(roc)\n",
    "        print(\"AUC-ROC: %0.2f (+/- %0.2f)\" % (np.mean(roc), np.std(roc) * 2))\n",
    "        print(pr)\n",
    "        print(\"AUC-PR: %0.2f (+/- %0.2f)\" % (np.mean(pr), np.std(pr) * 2))\n",
    "        print(accuracy)\n",
    "        print(\"Accuracy: %0.2f (+/- %0.2f)\" % (np.mean(accuracy), np.std(accuracy) * 2))\n",
    "        \n",
    "    return means, stds"
   ]
  },
  {
   "cell_type": "code",
   "execution_count": 206,
   "metadata": {},
   "outputs": [],
   "source": [
    "# plotting ROC function if sklearn 22.1 is not available\n",
    "\n",
    "def plotROC(y,z,pstr = ''):\n",
    "    fpr,tpr,tt = roc_curve(y, z)\n",
    "    roc_auc = auc(fpr, tpr)\n",
    "    plt.figure()\n",
    "    plt.plot(tt,fpr,'o-',tt,tpr,'x-');plt.xlabel('threshold');plt.ylabel('Percentage');plt.legend(['FPR','TPR']);plt.grid();plt.title(pstr)\n",
    "    plt.figure()\n",
    "    plt.plot(fpr,tpr,'o-');plt.xlabel('FPR');plt.ylabel('TPR');plt.grid();plt.title('ROC '+pstr+' AUC: '+str(roc_auc))\n",
    "    return roc_auc"
   ]
  },
  {
   "cell_type": "code",
   "execution_count": 211,
   "metadata": {},
   "outputs": [],
   "source": [
    "# plotting ROC function if sklearn 22.1 is not available\n",
    "\n",
    "def plotPRC(y,z,pstr = ''):\n",
    "    P,R,tt = precision_recall_curve(y, z)\n",
    "    pr_auc = average_precision_score(y, z)\n",
    "    plt.figure()\n",
    "    plt.plot(tt,R[:-1],'o-',tt,P[:-1],'x-');plt.xlabel('threshold');plt.ylabel('Percentage');plt.legend(['Recall','Precision']);plt.grid();plt.title(pstr)\n",
    "    plt.figure()\n",
    "    plt.plot(R,P,'o-');plt.xlabel('Recall');plt.ylabel('Precision');plt.grid();plt.title('PRC '+pstr+' AUC: '+str(pr_auc))\n",
    "    return pr_auc"
   ]
  },
  {
   "cell_type": "markdown",
   "metadata": {},
   "source": [
    "### i) \n",
    "\n",
    "There are 3000 rows (images) of training data with corespoinding 3000 labels. "
   ]
  },
  {
   "cell_type": "code",
   "execution_count": 2,
   "metadata": {
    "scrolled": true
   },
   "outputs": [
    {
     "name": "stdout",
     "output_type": "stream",
     "text": [
      "(3000, 784)\n",
      "(3000,)\n"
     ]
    }
   ],
   "source": [
    "print(Xtrain.shape)\n",
    "print(Ytrain.shape)"
   ]
  },
  {
   "cell_type": "markdown",
   "metadata": {},
   "source": [
    "The images depict clothing, shoes, purses. The classification rule is not clear for me."
   ]
  },
  {
   "cell_type": "code",
   "execution_count": 203,
   "metadata": {},
   "outputs": [
    {
     "data": {
      "image/png": "[encoded data removed]",
      "text/plain": [
       "<Figure size 288x288 with 1 Axes>"
      ]
     },
     "metadata": {
      "needs_background": "light"
     },
     "output_type": "display_data"
    },
    {
     "data": {
      "image/png": "[encoded data removed]",
      "text/plain": [
       "<Figure size 288x288 with 1 Axes>"
      ]
     },
     "metadata": {
      "needs_background": "light"
     },
     "output_type": "display_data"
    },
    {
     "data": {
      "image/png": "[encoded data removed]",
      "text/plain": [
       "<Figure size 288x288 with 1 Axes>"
      ]
     },
     "metadata": {
      "needs_background": "light"
     },
     "output_type": "display_data"
    },
    {
     "data": {
      "image/png": "[encoded data removed]",
      "text/plain": [
       "<Figure size 288x288 with 1 Axes>"
      ]
     },
     "metadata": {
      "needs_background": "light"
     },
     "output_type": "display_data"
    },
    {
     "data": {
      "image/png": "[encoded data removed]",
      "text/plain": [
       "<Figure size 288x288 with 1 Axes>"
      ]
     },
     "metadata": {
      "needs_background": "light"
     },
     "output_type": "display_data"
    },
    {
     "data": {
      "image/png": "[encoded data removed]",
      "text/plain": [
       "<Figure size 288x288 with 1 Axes>"
      ]
     },
     "metadata": {
      "needs_background": "light"
     },
     "output_type": "display_data"
    },
    {
     "data": {
      "image/png": "[encoded data removed]",
      "text/plain": [
       "<Figure size 288x288 with 1 Axes>"
      ]
     },
     "metadata": {
      "needs_background": "light"
     },
     "output_type": "display_data"
    },
    {
     "data": {
      "image/png": "[encoded data removed]",
      "text/plain": [
       "<Figure size 288x288 with 1 Axes>"
      ]
     },
     "metadata": {
      "needs_background": "light"
     },
     "output_type": "display_data"
    }
   ],
   "source": [
    "pos = Xnormalized[Ytrain == 1]\n",
    "neg = Xnormalized[Ytrain == -1]\n",
    "for i in range(10,14): \n",
    "    image_pos = np.reshape(pos[i], (28,28))\n",
    "    image_neg = np.reshape(neg[i], (28,28))\n",
    "    plt.matshow(image_pos)\n",
    "    plt.matshow(image_neg)"
   ]
  },
  {
   "cell_type": "markdown",
   "metadata": {},
   "source": [
    "### ii) \n",
    "\n",
    "There are 1821 negatives and 1179 positive labels. Thus, the data is moderately imbalanced with a rough 60/40 split (dominated by negatives)."
   ]
  },
  {
   "cell_type": "code",
   "execution_count": 16,
   "metadata": {},
   "outputs": [
    {
     "data": {
      "text/plain": [
       "(array([-1.,  1.]), array([1821, 1179]))"
      ]
     },
     "execution_count": 16,
     "metadata": {},
     "output_type": "execute_result"
    }
   ],
   "source": [
    "np.unique(Ytrain, return_counts=True)"
   ]
  },
  {
   "cell_type": "markdown",
   "metadata": {},
   "source": [
    "### iii)\n",
    "\n",
    "\n",
    "Due to the imbalance of the data, accuracy seems to be not the most appropriate performace evaluation tool owing to its bias toward the dominant category. Thus, AUC-ROC or AUC-PR are prefered options. The choice among these two metrics depends on the severity of the imbalance and the weight we put on correctly predicting the positive class (and thus precision). Since (1) the skew of the data is not severe (60/40), (2) no information is given about the goals of prediction and the fact that (3) the nature of the data (clothing) does not suggest that False Positives or False Negatives are more costly, I decided to use AUC-ROC as the performace evaluation metric. "
   ]
  },
  {
   "cell_type": "markdown",
   "metadata": {},
   "source": [
    "### iv)\n",
    "\n",
    "In general, a random classifier is expected to predict 50% of the labels correctly, yet we could derive a slightly more sphisticated expectation of the random classifier which would allow to incorporate different rates of predicting a certain group (predicting everything is of one class is as random as predicting 50/50 split). Accuracy is defined as a ratio of correctly labeled instances (True positives + True negetives) to the total population. To calculate expected confussion matrix terms, let's define $q$ as a probability that a random classifier assigns a positive label to a random input. In addition, recall that our traiingn data has 60% of negative and 40% of positive indtances. Then the expected proportions of all the confussion matrix terms are:\n",
    "\n",
    "$TP = 0.4q \\\\\n",
    "TN = (1-q)0.6 \\\\\n",
    "FP = 0.6q\\\\\n",
    "FN = (1-q)0.4$\n",
    "\n",
    "Hence the expected accuracy of a random classifier is $TP+TN = 0.6-0.2q$, which for $q=0.5$ results in accuracy being 50%. "
   ]
  },
  {
   "cell_type": "markdown",
   "metadata": {},
   "source": [
    "### v)\n",
    "\n",
    "AUC-ROC curve is defined as the are under the true positive rate (TPR) against the false positive rate (FPR) curve. \n",
    "\n",
    "$TPR = \\frac{TP}{FN+TP}= \\frac{0.4q}{(1-q)0.4+0.4}=q \\\\\n",
    "FPR = \\frac{FP}{FP+TN}= \\frac{0.6q}{(1-q)0.6+0.6}=q$\n",
    "\n",
    "Hence the expectation of TPR over the range of FPR is:\n",
    "\n",
    "$\\int_0^1qdq=\\frac{q^2}{2}|_0^1=1/2$\n",
    "\n",
    "And since the expected AUC-ROC does not depend on the proportion of the data, the same result holds for the testing data.\n",
    "\n",
    "AUC-PR, on the other hand is defined as the are under the precisiona against TPR curve. For the testing data is follows that:\n",
    "\n",
    "$Precision = \\frac{TP}{TP+FP}=\\frac{0.4q}{0.4q+0.6q}=0.4$\n",
    "\n",
    "Hence the expected training AUC-PR is\n",
    "\n",
    "$\\int_0^10.4qd=0.4q|_0^1 = 0.4$\n",
    "\n",
    "By the same reasoning, it follows that expected random classifier AUC-PR for the testing data would be equal to the proportion of positive items in a data."
   ]
  },
  {
   "cell_type": "markdown",
   "metadata": {},
   "source": [
    "## Question 2\n",
    "### i)"
   ]
  },
  {
   "cell_type": "code",
   "execution_count": 4,
   "metadata": {},
   "outputs": [],
   "source": [
    "sknn = KNeighborsClassifier(n_neighbors=1)\n",
    "\n",
    "skf = StratifiedKFold(n_splits=5)\n",
    "\n",
    "# function that gives accuracy after fitting the model via cross validation\n",
    "scores = cross_val_score(sknn, Xtrain, Ytrain, cv=skf)"
   ]
  },
  {
   "cell_type": "code",
   "execution_count": 211,
   "metadata": {},
   "outputs": [
    {
     "name": "stdout",
     "output_type": "stream",
     "text": [
      "[0.77703827 0.75333333 0.74166667 0.75833333 0.73789649]\n"
     ]
    }
   ],
   "source": [
    "# Accuracy summary\n",
    "print(scores)"
   ]
  },
  {
   "cell_type": "code",
   "execution_count": 210,
   "metadata": {},
   "outputs": [
    {
     "data": {
      "image/png": "[encoded data removed]",
      "text/plain": [
       "<Figure size 432x288 with 1 Axes>"
      ]
     },
     "metadata": {
      "needs_background": "light"
     },
     "output_type": "display_data"
    }
   ],
   "source": [
    "# AUC-ROC for each fold sklearn 22.1 only\n",
    "aucs = []\n",
    "\n",
    "fig, ax = plt.subplots()\n",
    "for i, (train, test) in enumerate(skf.split(Xtrain, Ytrain)):\n",
    "    sknn.fit(Xtrain[train], Ytrain[train])\n",
    "    # requires sklearn 22.1\n",
    "    viz = plot_roc_curve(sknn, Xtrain[test], Ytrain[test],\n",
    "                         name='ROC fold {}'.format(i),\n",
    "                         alpha=0.3, lw=1, ax=ax)\n",
    "    aucs.append(viz.roc_auc) "
   ]
  },
  {
   "cell_type": "code",
   "execution_count": 209,
   "metadata": {},
   "outputs": [
    {
     "name": "stdout",
     "output_type": "stream",
     "text": [
      "Fold  0 AUC ROC: 0.7696265598807971\n",
      "Fold  1 AUC ROC: 0.7400819519463588\n",
      "Fold  2 AUC ROC: 0.7380331532873905\n",
      "Fold  3 AUC ROC: 0.7576131495623021\n",
      "Fold  4 AUC ROC: 0.730224424366074\n",
      "Fold-Wise AUC [0.7696265598807971, 0.7400819519463588, 0.7380331532873905, 0.7576131495623021, 0.730224424366074]\n",
      "Mean AUC 0.7471158478085845\n",
      "Stdev AUC 0.014382049358744492\n"
     ]
    },
    {
     "data": {
      "image/png": "[encoded data removed]",
      "text/plain": [
       "<Figure size 432x288 with 1 Axes>"
      ]
     },
     "metadata": {
      "needs_background": "light"
     },
     "output_type": "display_data"
    },
    {
     "data": {
      "image/png": "[encoded data removed]",
      "text/plain": [
       "<Figure size 432x288 with 1 Axes>"
      ]
     },
     "metadata": {
      "needs_background": "light"
     },
     "output_type": "display_data"
    },
    {
     "data": {
      "image/png": "[encoded data removed]",
      "text/plain": [
       "<Figure size 432x288 with 1 Axes>"
      ]
     },
     "metadata": {
      "needs_background": "light"
     },
     "output_type": "display_data"
    },
    {
     "data": {
      "image/png": "[encoded data removed]",
      "text/plain": [
       "<Figure size 432x288 with 1 Axes>"
      ]
     },
     "metadata": {
      "needs_background": "light"
     },
     "output_type": "display_data"
    },
    {
     "data": {
      "image/png": "[encoded data removed]",
      "text/plain": [
       "<Figure size 432x288 with 1 Axes>"
      ]
     },
     "metadata": {
      "needs_background": "light"
     },
     "output_type": "display_data"
    },
    {
     "data": {
      "image/png": "[encoded data removed]",
      "text/plain": [
       "<Figure size 432x288 with 1 Axes>"
      ]
     },
     "metadata": {
      "needs_background": "light"
     },
     "output_type": "display_data"
    },
    {
     "data": {
      "image/png": "[encoded data removed]",
      "text/plain": [
       "<Figure size 432x288 with 1 Axes>"
      ]
     },
     "metadata": {
      "needs_background": "light"
     },
     "output_type": "display_data"
    },
    {
     "data": {
      "image/png": "[encoded data removed]",
      "text/plain": [
       "<Figure size 432x288 with 1 Axes>"
      ]
     },
     "metadata": {
      "needs_background": "light"
     },
     "output_type": "display_data"
    },
    {
     "data": {
      "image/png": "[encoded data removed]",
      "text/plain": [
       "<Figure size 432x288 with 1 Axes>"
      ]
     },
     "metadata": {
      "needs_background": "light"
     },
     "output_type": "display_data"
    },
    {
     "data": {
      "image/png": "[encoded data removed]",
      "text/plain": [
       "<Figure size 432x288 with 1 Axes>"
      ]
     },
     "metadata": {
      "needs_background": "light"
     },
     "output_type": "display_data"
    }
   ],
   "source": [
    "# alternative for lower sklearn versions\n",
    "\n",
    "A = []\n",
    "for i,(tr_idx, v_idx) in enumerate(skf.split(Xtrain, Ytrain)):\n",
    "    Xtr, Xv = Xtrain[tr_idx], Xtrain[v_idx]\n",
    "    ytr, yv = Ytrain[tr_idx], Ytrain[v_idx] \n",
    "    sknn.fit(Xtr,ytr)\n",
    "    z = sknn.predict_proba(Xv)[:,1]\n",
    "    roc_auc = plotROC(yv,z,pstr = 'Validation Fold: '+str(i))\n",
    "    A.append(roc_auc)\n",
    "    print('Fold ',i,'AUC ROC:',roc_auc)\n",
    "\n",
    "print('Fold-Wise AUC',A)\n",
    "print('Mean AUC',np.mean(A))\n",
    "print('Stdev AUC',np.std(A))"
   ]
  },
  {
   "cell_type": "code",
   "execution_count": 200,
   "metadata": {},
   "outputs": [
    {
     "data": {
      "image/png": "[encoded data removed]",
      "text/plain": [
       "<Figure size 432x288 with 1 Axes>"
      ]
     },
     "metadata": {
      "needs_background": "light"
     },
     "output_type": "display_data"
    }
   ],
   "source": [
    "# AUC-PR curve\n",
    "# requires sklearn 22.1\n",
    "fig, ax = plt.subplots()\n",
    "for i, (train, test) in enumerate(skf.split(Xtrain, Ytrain)):\n",
    "    sknn.fit(Xtrain[train], Ytrain[train])\n",
    "    viz = plot_precision_recall_curve(sknn, Xtrain[test], Ytrain[test],\n",
    "                         name='PR fold {}'.format(i),\n",
    "                         alpha=0.3, lw=1, ax=ax)"
   ]
  },
  {
   "cell_type": "code",
   "execution_count": 213,
   "metadata": {},
   "outputs": [
    {
     "name": "stdout",
     "output_type": "stream",
     "text": [
      "Fold  0 AUC ROC: 0.6268157629462925\n",
      "Fold  1 AUC ROC: 0.5942294954217806\n",
      "Fold  2 AUC ROC: 0.5814997431946585\n",
      "Fold  3 AUC ROC: 0.6032864300181217\n",
      "Fold  4 AUC ROC: 0.5772515541546274\n",
      "Fold-Wise AUC [0.6268157629462925, 0.5942294954217806, 0.5814997431946585, 0.6032864300181217, 0.5772515541546274]\n",
      "Mean AUC 0.5966165971470961\n",
      "Stdev AUC 0.017695754878847423\n"
     ]
    },
    {
     "data": {
      "image/png": "[encoded data removed]",
      "text/plain": [
       "<Figure size 432x288 with 1 Axes>"
      ]
     },
     "metadata": {
      "needs_background": "light"
     },
     "output_type": "display_data"
    },
    {
     "data": {
      "image/png": "[encoded data removed]",
      "text/plain": [
       "<Figure size 432x288 with 1 Axes>"
      ]
     },
     "metadata": {
      "needs_background": "light"
     },
     "output_type": "display_data"
    },
    {
     "data": {
      "image/png": "[encoded data removed]",
      "text/plain": [
       "<Figure size 432x288 with 1 Axes>"
      ]
     },
     "metadata": {
      "needs_background": "light"
     },
     "output_type": "display_data"
    },
    {
     "data": {
      "image/png": "[encoded data removed]",
      "text/plain": [
       "<Figure size 432x288 with 1 Axes>"
      ]
     },
     "metadata": {
      "needs_background": "light"
     },
     "output_type": "display_data"
    },
    {
     "data": {
      "image/png": "[encoded data removed]",
      "text/plain": [
       "<Figure size 432x288 with 1 Axes>"
      ]
     },
     "metadata": {
      "needs_background": "light"
     },
     "output_type": "display_data"
    },
    {
     "data": {
      "image/png": "[encoded data removed]",
      "text/plain": [
       "<Figure size 432x288 with 1 Axes>"
      ]
     },
     "metadata": {
      "needs_background": "light"
     },
     "output_type": "display_data"
    },
    {
     "data": {
      "image/png": "[encoded data removed]",
      "text/plain": [
       "<Figure size 432x288 with 1 Axes>"
      ]
     },
     "metadata": {
      "needs_background": "light"
     },
     "output_type": "display_data"
    },
    {
     "data": {
      "image/png": "[encoded data removed]",
      "text/plain": [
       "<Figure size 432x288 with 1 Axes>"
      ]
     },
     "metadata": {
      "needs_background": "light"
     },
     "output_type": "display_data"
    },
    {
     "data": {
      "image/png": "[encoded data removed]",
      "text/plain": [
       "<Figure size 432x288 with 1 Axes>"
      ]
     },
     "metadata": {
      "needs_background": "light"
     },
     "output_type": "display_data"
    },
    {
     "data": {
      "image/png": "[encoded data removed]",
      "text/plain": [
       "<Figure size 432x288 with 1 Axes>"
      ]
     },
     "metadata": {
      "needs_background": "light"
     },
     "output_type": "display_data"
    }
   ],
   "source": [
    "# alternative for lower sklearn versions\n",
    "\n",
    "A = []\n",
    "for i,(tr_idx, v_idx) in enumerate(skf.split(Xtrain, Ytrain)):\n",
    "    Xtr, Xv = Xtrain[tr_idx], Xtrain[v_idx]\n",
    "    ytr, yv = Ytrain[tr_idx], Ytrain[v_idx] \n",
    "    sknn.fit(Xtr,ytr)\n",
    "    z = sknn.predict_proba(Xv)[:,1]\n",
    "    roc_auc = plotPRC(yv,z,pstr = 'Validation Fold: '+str(i))\n",
    "    A.append(roc_auc)\n",
    "    print('Fold ',i,'AUC ROC:',roc_auc)\n",
    "\n",
    "print('Fold-Wise AUC',A)\n",
    "print('Mean AUC',np.mean(A))\n",
    "print('Stdev AUC',np.std(A))"
   ]
  },
  {
   "cell_type": "code",
   "execution_count": 198,
   "metadata": {},
   "outputs": [
    {
     "data": {
      "text/plain": [
       "array([[1., 0.],\n",
       "       [1., 0.],\n",
       "       [1., 0.],\n",
       "       ...,\n",
       "       [1., 0.],\n",
       "       [0., 1.],\n",
       "       [0., 1.]])"
      ]
     },
     "execution_count": 198,
     "metadata": {},
     "output_type": "execute_result"
    }
   ],
   "source": [
    "base_score, base_stds = evaluation_metrics(Xtrain, sknn)"
   ]
  },
  {
   "cell_type": "markdown",
   "metadata": {},
   "source": [
    "### ii)"
   ]
  },
  {
   "cell_type": "code",
   "execution_count": 67,
   "metadata": {},
   "outputs": [
    {
     "data": {
      "text/plain": [
       "{'roc': 0.7471158478085845,\n",
       " 'pr': 0.5966165971470961,\n",
       " 'accuracy': 0.7539999999999999}"
      ]
     },
     "execution_count": 67,
     "metadata": {},
     "output_type": "execute_result"
    }
   ],
   "source": [
    "# Mean of the evaluation metrics\n",
    "base_score"
   ]
  },
  {
   "cell_type": "code",
   "execution_count": 14,
   "metadata": {},
   "outputs": [
    {
     "data": {
      "text/plain": [
       "roc         0.011321\n",
       "pr          0.013926\n",
       "accuracy    0.011265\n",
       "dtype: float64"
      ]
     },
     "execution_count": 14,
     "metadata": {},
     "output_type": "execute_result"
    }
   ],
   "source": [
    "# Standard deviation for the k = 1 5 Stratified folds\n",
    "base_stds"
   ]
  },
  {
   "cell_type": "markdown",
   "metadata": {},
   "source": [
    "### iii)"
   ]
  },
  {
   "cell_type": "markdown",
   "metadata": {},
   "source": [
    "I will implement the following transformations: scaling, scaling to a range (between 0:1 and -1:1), mapping to uniform and Gaussian distributions and normalization. Sparse data transformations will not be applied because the data is not sparse - all needed values are present. Robust scaling, albeit not neccesary due to the the abscence of strong outliers, will still be conducted to deduce the importance of extreme values."
   ]
  },
  {
   "cell_type": "code",
   "execution_count": 69,
   "metadata": {},
   "outputs": [
    {
     "name": "stdout",
     "output_type": "stream",
     "text": [
      "[0.7318401937046004, 0.7423170050288695, 0.764993481095176, 0.7763317191283293, 0.7461964441853688]\n",
      "AUC-ROC: 0.75 (+/- 0.03)\n",
      "[0.5824421972178703, 0.5946940131984997, 0.6166148775894539, 0.6276427153545798, 0.5972080773910206]\n",
      "AUC-PR: 0.60 (+/- 0.03)\n",
      "[0.7433333333333333, 0.7533333333333333, 0.77, 0.7783333333333333, 0.7566666666666667]\n",
      "Accuracy: 0.76 (+/- 0.02)\n"
     ]
    }
   ],
   "source": [
    "# Scaling\n",
    "scaling = preprocessing.StandardScaler().fit(Xtrain)\n",
    "Xscaled = scaling.transform(Xtrain)\n",
    "\n",
    "scaled_scores, _ = evaluation_metrics(Xscaled, sknn)"
   ]
  },
  {
   "cell_type": "code",
   "execution_count": 72,
   "metadata": {},
   "outputs": [
    {
     "data": {
      "text/plain": [
       "{'roc': 0.7523357686284688,\n",
       " 'pr': 0.6037203761502848,\n",
       " 'accuracy': 0.7603333333333333}"
      ]
     },
     "execution_count": 72,
     "metadata": {},
     "output_type": "execute_result"
    }
   ],
   "source": [
    "scaled_scores"
   ]
  },
  {
   "cell_type": "code",
   "execution_count": 74,
   "metadata": {},
   "outputs": [
    {
     "name": "stdout",
     "output_type": "stream",
     "text": [
      "[0.7626420189979511, 0.7387083255727324, 0.7387781709815608, 0.7589867759359284, 0.7294666278053046]\n",
      "AUC-ROC: 0.75 (+/- 0.03)\n",
      "[0.6181229341022575, 0.5922227880022308, 0.5817586338728176, 0.6052054442732409, 0.5770173037874106]\n",
      "AUC-PR: 0.59 (+/- 0.03)\n",
      "[0.7716666666666666, 0.7516666666666667, 0.74, 0.76, 0.74]\n",
      "Accuracy: 0.75 (+/- 0.02)\n"
     ]
    }
   ],
   "source": [
    "# MinMax Scaler\n",
    "min_max_scaler = preprocessing.MinMaxScaler()\n",
    "Xtrain_minmax = min_max_scaler.fit_transform(Xtrain)\n",
    "\n",
    "minmax_scores, _ = evaluation_metrics(Xtrain_minmax, sknn)\n",
    "# AUC-ROC same as scaled, AUC-PR worse, accuracy -worse. Prefer scaled"
   ]
  },
  {
   "cell_type": "code",
   "execution_count": 75,
   "metadata": {},
   "outputs": [
    {
     "data": {
      "text/plain": [
       "{'roc': 0.7457163838586955,\n",
       " 'pr': 0.5948654208075914,\n",
       " 'accuracy': 0.7526666666666667}"
      ]
     },
     "execution_count": 75,
     "metadata": {},
     "output_type": "execute_result"
    }
   ],
   "source": [
    "minmax_scores"
   ]
  },
  {
   "cell_type": "code",
   "execution_count": 76,
   "metadata": {},
   "outputs": [
    {
     "name": "stdout",
     "output_type": "stream",
     "text": [
      "[0.7481607375675173, 0.7394533432669027, 0.7415254237288136, 0.7589867759359284, 0.7255027688720489]\n",
      "AUC-ROC: 0.74 (+/- 0.02)\n",
      "[0.5976955278742087, 0.5923818968626036, 0.5853704417051875, 0.6052054442732409, 0.5701670511834572]\n",
      "AUC-PR: 0.59 (+/- 0.02)\n",
      "[0.755, 0.7516666666666667, 0.7433333333333333, 0.76, 0.7333333333333333]\n",
      "Accuracy: 0.75 (+/- 0.02)\n"
     ]
    }
   ],
   "source": [
    "# MaxAbs Scaler - must be centered at zero a priori\n",
    "\n",
    "demeaning = preprocessing.StandardScaler(with_std=False).fit(Xtrain)\n",
    "Xdemeaned = scaling.transform(Xtrain)\n",
    "max_abs_scaler = preprocessing.MaxAbsScaler()\n",
    "Xtrain_maxabs = max_abs_scaler.fit_transform(Xdemeaned)\n",
    "\n",
    "maxabs_scores, _ = evaluation_metrics(Xtrain_maxabs, sknn)\n",
    "# worse than scaled in all the measures"
   ]
  },
  {
   "cell_type": "code",
   "execution_count": 77,
   "metadata": {},
   "outputs": [
    {
     "data": {
      "text/plain": [
       "{'roc': 0.7427258098742422,\n",
       " 'pr': 0.5901640723797396,\n",
       " 'accuracy': 0.7486666666666666}"
      ]
     },
     "execution_count": 77,
     "metadata": {},
     "output_type": "execute_result"
    }
   ],
   "source": [
    "maxabs_scores"
   ]
  },
  {
   "cell_type": "code",
   "execution_count": 79,
   "metadata": {},
   "outputs": [
    {
     "name": "stdout",
     "output_type": "stream",
     "text": [
      "[0.7101415533618924, 0.7540510337120506, 0.7304665673309741, 0.726462097224809, 0.7413290585835033]\n",
      "AUC-ROC: 0.73 (+/- 0.03)\n",
      "[0.558632816240544, 0.6112331969608416, 0.5805351866297899, 0.5735494864932866, 0.591081560283688]\n",
      "AUC-PR: 0.58 (+/- 0.04)\n",
      "[0.7233333333333334, 0.7666666666666667, 0.7416666666666667, 0.735, 0.7516666666666667]\n",
      "Accuracy: 0.74 (+/- 0.03)\n"
     ]
    }
   ],
   "source": [
    "# Robust Scaling\n",
    "robust_scaling = preprocessing.RobustScaler().fit(Xtrain)\n",
    "Xrobust = robust_scaling.transform(Xtrain)\n",
    "\n",
    "robust_scores, _ = evaluation_metrics(Xrobust, sknn)\n",
    "# worse in every measure than the scaled version"
   ]
  },
  {
   "cell_type": "code",
   "execution_count": 80,
   "metadata": {},
   "outputs": [
    {
     "data": {
      "text/plain": [
       "{'roc': 0.7324900620426459,\n",
       " 'pr': 0.58300644932163,\n",
       " 'accuracy': 0.7436666666666667}"
      ]
     },
     "execution_count": 80,
     "metadata": {},
     "output_type": "execute_result"
    }
   ],
   "source": [
    "robust_scores"
   ]
  },
  {
   "cell_type": "code",
   "execution_count": 81,
   "metadata": {},
   "outputs": [
    {
     "name": "stdout",
     "output_type": "stream",
     "text": [
      "[0.7772397094430993, 0.7458092754702924, 0.7461585025144347, 0.7496507729558578, 0.7589332556106092]\n",
      "AUC-ROC: 0.76 (+/- 0.02)\n",
      "[0.6378478849166785, 0.5988491667853582, 0.5940222415756683, 0.5980667023961055, 0.602082142479094]\n",
      "AUC-PR: 0.61 (+/- 0.03)\n",
      "[0.7866666666666666, 0.7566666666666667, 0.7516666666666667, 0.755, 0.7583333333333333]\n",
      "Accuracy: 0.76 (+/- 0.03)\n"
     ]
    }
   ],
   "source": [
    "# Uniform distribution transformation\n",
    "\n",
    "quantile_transformer = preprocessing.QuantileTransformer(random_state=0)\n",
    "Xuniform = quantile_transformer.fit_transform(Xtrain)\n",
    "\n",
    "uniform_scores, _ = evaluation_metrics(Xuniform, sknn)\n",
    "# same or slightly better than scaled. "
   ]
  },
  {
   "cell_type": "code",
   "execution_count": 82,
   "metadata": {},
   "outputs": [
    {
     "data": {
      "text/plain": [
       "{'roc': 0.7555583031988586,\n",
       " 'pr': 0.6061736276305809,\n",
       " 'accuracy': 0.7616666666666666}"
      ]
     },
     "execution_count": 82,
     "metadata": {},
     "output_type": "execute_result"
    }
   ],
   "source": [
    "uniform_scores"
   ]
  },
  {
   "cell_type": "code",
   "execution_count": 83,
   "metadata": {},
   "outputs": [
    {
     "name": "stdout",
     "output_type": "stream",
     "text": [
      "[0.7273002421307506, 0.7206183646861613, 0.7334932017135407, 0.7296051406220898, 0.7633925969105216]\n",
      "AUC-ROC: 0.73 (+/- 0.03)\n",
      "[0.554144388990463, 0.5424317203828928, 0.5560993982821185, 0.5508592894962582, 0.5863306508971936]\n",
      "AUC-PR: 0.56 (+/- 0.03)\n",
      "[0.7016666666666667, 0.68, 0.6983333333333334, 0.69, 0.7333333333333333]\n",
      "Accuracy: 0.70 (+/- 0.04)\n"
     ]
    }
   ],
   "source": [
    "normal_transformer = preprocessing.QuantileTransformer(output_distribution='normal', random_state=0)\n",
    "Xnormal = normal_transformer.fit_transform(Xtrain)\n",
    "\n",
    "normal_scores, _ = evaluation_metrics(Xnormal, knn)\n",
    "# worse than scaled or uniform "
   ]
  },
  {
   "cell_type": "code",
   "execution_count": 84,
   "metadata": {},
   "outputs": [
    {
     "data": {
      "text/plain": [
       "{'roc': 0.7348819092126128,\n",
       " 'pr': 0.5579730896097852,\n",
       " 'accuracy': 0.7006666666666667}"
      ]
     },
     "execution_count": 84,
     "metadata": {},
     "output_type": "execute_result"
    }
   ],
   "source": [
    "normal_scores"
   ]
  },
  {
   "cell_type": "code",
   "execution_count": 86,
   "metadata": {},
   "outputs": [
    {
     "name": "stdout",
     "output_type": "stream",
     "text": [
      "[0.7849227044142297, 0.7641320543862917, 0.7537250884708513, 0.7497671819705717, 0.7209268434858642]\n",
      "AUC-ROC: 0.75 (+/- 0.04)\n",
      "[0.6345537144784551, 0.6183235328029516, 0.5948774539690282, 0.5965418473262383, 0.5622476813966175]\n",
      "AUC-PR: 0.60 (+/- 0.05)\n",
      "[0.7833333333333333, 0.7716666666666666, 0.75, 0.7533333333333333, 0.725]\n",
      "Accuracy: 0.76 (+/- 0.04)\n"
     ]
    }
   ],
   "source": [
    "Xnormalized = preprocessing.normalize(Xtrain, norm='l2')\n",
    "\n",
    "normalized_scores,_ = evaluation_metrics(Xnormalized, sknn)\n",
    "# highest AUC-ROC, slightly lower accuracy than that of uniform."
   ]
  },
  {
   "cell_type": "code",
   "execution_count": 87,
   "metadata": {},
   "outputs": [
    {
     "data": {
      "text/plain": [
       "{'roc': 0.7546947745455618,\n",
       " 'pr': 0.6013088459946582,\n",
       " 'accuracy': 0.7566666666666666}"
      ]
     },
     "execution_count": 87,
     "metadata": {},
     "output_type": "execute_result"
    }
   ],
   "source": [
    "normalized_scores"
   ]
  },
  {
   "cell_type": "code",
   "execution_count": 17,
   "metadata": {},
   "outputs": [],
   "source": [
    "Xnormalized = preprocessing.normalize(Xtrain, norm='l2')"
   ]
  },
  {
   "cell_type": "code",
   "execution_count": 102,
   "metadata": {},
   "outputs": [
    {
     "data": {
      "text/plain": [
       "array([[0.00076317, 0.        , 0.00686855, ..., 0.        , 0.        ,\n",
       "        0.        ],\n",
       "       [0.00121765, 0.00267883, 0.00024353, ..., 0.00073059, 0.        ,\n",
       "        0.00073059],\n",
       "       [0.        , 0.00187817, 0.        , ..., 0.        , 0.00037563,\n",
       "        0.00037563],\n",
       "       ...,\n",
       "       [0.        , 0.        , 0.        , ..., 0.        , 0.00121983,\n",
       "        0.        ],\n",
       "       [0.        , 0.        , 0.        , ..., 0.        , 0.        ,\n",
       "        0.        ],\n",
       "       [0.        , 0.        , 0.00134678, ..., 0.02397266, 0.01292908,\n",
       "        0.00107742]])"
      ]
     },
     "execution_count": 102,
     "metadata": {},
     "output_type": "execute_result"
    }
   ],
   "source": []
  },
  {
   "cell_type": "code",
   "execution_count": 104,
   "metadata": {},
   "outputs": [
    {
     "data": {
      "text/plain": [
       "array([[ 1.,  0.,  9., ...,  0.,  0.,  0.],\n",
       "       [ 5., 11.,  1., ...,  3.,  0.,  3.],\n",
       "       [ 0.,  5.,  0., ...,  0.,  1.,  1.],\n",
       "       ...,\n",
       "       [ 0.,  0.,  0., ...,  0.,  4.,  0.],\n",
       "       [ 0.,  0.,  0., ...,  0.,  0.,  0.],\n",
       "       [ 0.,  0.,  5., ..., 89., 48.,  4.]])"
      ]
     },
     "execution_count": 104,
     "metadata": {},
     "output_type": "execute_result"
    }
   ],
   "source": []
  },
  {
   "cell_type": "markdown",
   "metadata": {},
   "source": [
    "NOrmalisarion to have unit norm, scaling and mapping the data to uniform distribution seems to have led to the highest AUC-ROC score. However, only normalised training data managed to improve AUC-ROC score, which I hold to be the most approporiate measure. Thus, I will will focus on normalisation."
   ]
  },
  {
   "cell_type": "code",
   "execution_count": 289,
   "metadata": {},
   "outputs": [],
   "source": [
    "# creating odd list of K for KNN\n",
    "neighbors = list(range(1, 50, 2))\n",
    "\n",
    "# empty list that will hold cv scores\n",
    "cv_scores = []\n",
    "cv_std = []\n",
    "\n",
    "for k in neighbors:\n",
    "    knn = KNeighborsClassifier(n_neighbors=k)\n",
    "    means, stds = evaluation_metrics(X = Xnormalized, classifier = knn, print_summary = False)\n",
    "    means['k'] = k\n",
    "    stds['k'] = k\n",
    "    cv_scores.append(means)\n",
    "    cv_std.append(stds)"
   ]
  },
  {
   "cell_type": "code",
   "execution_count": 290,
   "metadata": {},
   "outputs": [],
   "source": [
    "normalized_k = pd.DataFrame(cv_scores)\n",
    "normalized_k_stds = pd.DataFrame(cv_std)"
   ]
  },
  {
   "cell_type": "code",
   "execution_count": 291,
   "metadata": {},
   "outputs": [
    {
     "data": {
      "text/plain": [
       "<matplotlib.axes._subplots.AxesSubplot at 0x1a43b93710>"
      ]
     },
     "execution_count": 291,
     "metadata": {},
     "output_type": "execute_result"
    },
    {
     "data": {
      "image/png": "[encoded data removed]",
      "text/plain": [
       "<Figure size 432x288 with 1 Axes>"
      ]
     },
     "metadata": {
      "needs_background": "light"
     },
     "output_type": "display_data"
    }
   ],
   "source": [
    "normalized_k.plot.scatter(y='roc', x = 'k')"
   ]
  },
  {
   "cell_type": "code",
   "execution_count": 292,
   "metadata": {},
   "outputs": [
    {
     "data": {
      "text/plain": [
       "11    23\n",
       "Name: k, dtype: int64"
      ]
     },
     "execution_count": 292,
     "metadata": {},
     "output_type": "execute_result"
    }
   ],
   "source": [
    "# finding the best k according to roc\n",
    "normalized_k.loc[normalized_k['roc'] == normalized_k['roc'].max(), 'k']"
   ]
  },
  {
   "cell_type": "code",
   "execution_count": 293,
   "metadata": {},
   "outputs": [
    {
     "data": {
      "text/plain": [
       "<matplotlib.axes._subplots.AxesSubplot at 0x1a43da5990>"
      ]
     },
     "execution_count": 293,
     "metadata": {},
     "output_type": "execute_result"
    },
    {
     "data": {
      "image/png": "[encoded data removed]",
      "text/plain": [
       "<Figure size 432x288 with 1 Axes>"
      ]
     },
     "metadata": {
      "needs_background": "light"
     },
     "output_type": "display_data"
    }
   ],
   "source": [
    "# checking its standard deviation\n",
    "normalized_k_stds.plot.scatter(y='roc', x = 'k')"
   ]
  },
  {
   "cell_type": "code",
   "execution_count": 294,
   "metadata": {},
   "outputs": [
    {
     "data": {
      "text/plain": [
       "<matplotlib.axes._subplots.AxesSubplot at 0x1a3f5a0850>"
      ]
     },
     "execution_count": 294,
     "metadata": {},
     "output_type": "execute_result"
    },
    {
     "data": {
      "image/png": "[encoded data removed]",
      "text/plain": [
       "<Figure size 432x288 with 1 Axes>"
      ]
     },
     "metadata": {
      "needs_background": "light"
     },
     "output_type": "display_data"
    }
   ],
   "source": [
    "normalized_k.plot.scatter(y='pr', x = 'k')\n",
    "\n",
    "# follows ROC_AUC, as it should"
   ]
  },
  {
   "cell_type": "code",
   "execution_count": 295,
   "metadata": {},
   "outputs": [
    {
     "data": {
      "text/plain": [
       "13    27\n",
       "Name: k, dtype: int64"
      ]
     },
     "execution_count": 295,
     "metadata": {},
     "output_type": "execute_result"
    }
   ],
   "source": []
  },
  {
   "cell_type": "code",
   "execution_count": 296,
   "metadata": {},
   "outputs": [
    {
     "data": {
      "text/plain": [
       "2    5\n",
       "Name: k, dtype: int64"
      ]
     },
     "execution_count": 296,
     "metadata": {},
     "output_type": "execute_result"
    }
   ],
   "source": []
  },
  {
   "cell_type": "code",
   "execution_count": 297,
   "metadata": {},
   "outputs": [
    {
     "data": {
      "text/plain": [
       "0.8440297074991264"
      ]
     },
     "execution_count": 297,
     "metadata": {},
     "output_type": "execute_result"
    }
   ],
   "source": [
    "# Choosing k=23 with ROC-AUC score of\n",
    "\n",
    "normalized_k['roc'].max()"
   ]
  },
  {
   "cell_type": "code",
   "execution_count": 298,
   "metadata": {},
   "outputs": [],
   "source": [
    "# creating odd list of K for KNN\n",
    "neighbors = list(range(10, 26, 1))\n",
    "\n",
    "# empty list that will hold cv scores\n",
    "cv_scores_zoom = []\n",
    "cv_std_zoom = []\n",
    "\n",
    "for k in neighbors:\n",
    "    knn = KNeighborsClassifier(n_neighbors=k)\n",
    "    means, stds = evaluation_metrics(X = Xnormalized, classifier = knn, print_summary = False)\n",
    "    means['k'] = k\n",
    "    stds['k'] = k\n",
    "    cv_scores_zoom.append(means)\n",
    "    cv_std_zoom.append(stds)"
   ]
  },
  {
   "cell_type": "code",
   "execution_count": 299,
   "metadata": {},
   "outputs": [],
   "source": [
    "normalized_k_zoom = pd.DataFrame(cv_scores_zoom)\n",
    "normalized_k_zoom_std = pd.DataFrame(cv_std_zoom)"
   ]
  },
  {
   "cell_type": "code",
   "execution_count": 300,
   "metadata": {},
   "outputs": [
    {
     "data": {
      "text/plain": [
       "<matplotlib.axes._subplots.AxesSubplot at 0x1a45061cd0>"
      ]
     },
     "execution_count": 300,
     "metadata": {},
     "output_type": "execute_result"
    },
    {
     "data": {
      "image/png": "[encoded data removed]",
      "text/plain": [
       "<Figure size 432x288 with 1 Axes>"
      ]
     },
     "metadata": {
      "needs_background": "light"
     },
     "output_type": "display_data"
    }
   ],
   "source": [
    "normalized_k_zoom.plot.scatter(y='roc', x ='k')\n",
    "# 14 is the highest"
   ]
  },
  {
   "cell_type": "code",
   "execution_count": 301,
   "metadata": {},
   "outputs": [
    {
     "data": {
      "text/plain": [
       "<matplotlib.axes._subplots.AxesSubplot at 0x1a28979250>"
      ]
     },
     "execution_count": 301,
     "metadata": {},
     "output_type": "execute_result"
    },
    {
     "data": {
      "image/png": "[encoded data removed]",
      "text/plain": [
       "<Figure size 432x288 with 1 Axes>"
      ]
     },
     "metadata": {
      "needs_background": "light"
     },
     "output_type": "display_data"
    }
   ],
   "source": [
    "normalized_k_zoom_std.plot.scatter(y='roc', x ='k')\n",
    "# even visually k=14 seen that k=14 has lower variance than the closest contenders k=21, k=23"
   ]
  },
  {
   "cell_type": "code",
   "execution_count": 302,
   "metadata": {},
   "outputs": [
    {
     "data": {
      "text/plain": [
       "4    14\n",
       "Name: k, dtype: int64"
      ]
     },
     "execution_count": 302,
     "metadata": {},
     "output_type": "execute_result"
    }
   ],
   "source": [
    "normalized_k_zoom.loc[normalized_k_zoom['roc'] == normalized_k_zoom['roc'].max(), 'k']"
   ]
  },
  {
   "cell_type": "code",
   "execution_count": 303,
   "metadata": {},
   "outputs": [
    {
     "data": {
      "text/plain": [
       "5    15\n",
       "Name: k, dtype: int64"
      ]
     },
     "execution_count": 303,
     "metadata": {},
     "output_type": "execute_result"
    }
   ],
   "source": [
    "normalized_k_zoom_std.loc[normalized_k_zoom_std['roc'] == normalized_k_zoom_std['roc'].min(), 'k']"
   ]
  },
  {
   "cell_type": "code",
   "execution_count": 304,
   "metadata": {},
   "outputs": [
    {
     "data": {
      "text/html": [
       "<div>\n",
       "<style scoped>\n",
       "    .dataframe tbody tr th:only-of-type {\n",
       "        vertical-align: middle;\n",
       "    }\n",
       "\n",
       "    .dataframe tbody tr th {\n",
       "        vertical-align: top;\n",
       "    }\n",
       "\n",
       "    .dataframe thead th {\n",
       "        text-align: right;\n",
       "    }\n",
       "</style>\n",
       "<table border=\"1\" class=\"dataframe\">\n",
       "  <thead>\n",
       "    <tr style=\"text-align: right;\">\n",
       "      <th></th>\n",
       "      <th>roc</th>\n",
       "      <th>pr</th>\n",
       "      <th>accuracy</th>\n",
       "      <th>k</th>\n",
       "    </tr>\n",
       "  </thead>\n",
       "  <tbody>\n",
       "    <tr>\n",
       "      <th>4</th>\n",
       "      <td>0.844895</td>\n",
       "      <td>0.733108</td>\n",
       "      <td>0.754</td>\n",
       "      <td>14</td>\n",
       "    </tr>\n",
       "  </tbody>\n",
       "</table>\n",
       "</div>"
      ],
      "text/plain": [
       "        roc        pr  accuracy   k\n",
       "4  0.844895  0.733108     0.754  14"
      ]
     },
     "execution_count": 304,
     "metadata": {},
     "output_type": "execute_result"
    }
   ],
   "source": [
    "# accuracy, AUC-ROC and AUC-PR for k=14\n",
    "normalized_k_zoom.loc[normalized_k_zoom['k'] == 14]"
   ]
  },
  {
   "cell_type": "markdown",
   "metadata": {},
   "source": [
    "## Question 3"
   ]
  },
  {
   "cell_type": "markdown",
   "metadata": {},
   "source": [
    "### Perceptron"
   ]
  },
  {
   "cell_type": "code",
   "execution_count": 249,
   "metadata": {},
   "outputs": [
    {
     "name": "stdout",
     "output_type": "stream",
     "text": [
      "[0.7613149562302104, 0.7516180853045259, 0.7532594524119948, 0.7882170795306388, 0.7876420868551444]\n",
      "AUC-ROC: 0.77 (+/- 0.03)\n",
      "[0.5991893633708482, 0.586648163900361, 0.5922122548156856, 0.6419288500014452, 0.6151927769188795]\n",
      "AUC-PR: 0.61 (+/- 0.04)\n",
      "[0.66, 0.65, 0.6633333333333333, 0.71, 0.6516666666666666]\n",
      "Accuracy: 0.67 (+/- 0.04)\n"
     ]
    }
   ],
   "source": [
    "perceptron = Perceptron(random_state = 10)\n",
    "\n",
    "perceptron_scores, perceptron_stds = evaluation_metrics(X=Xnormalized, classifier = perceptron, \n",
    "                                                        has_decision_function = True)\n",
    "# pretty horrible"
   ]
  },
  {
   "cell_type": "code",
   "execution_count": 250,
   "metadata": {},
   "outputs": [
    {
     "name": "stdout",
     "output_type": "stream",
     "text": [
      "[0.7799753212888805, 0.7341916558018253, 0.7346805736636244, 0.7655406034643323, 0.7932148061789567]\n",
      "AUC-ROC: 0.76 (+/- 0.05)\n",
      "[0.6431515802503611, 0.5795536158671164, 0.5920116545380093, 0.6053094029613515, 0.6348150502047467]\n",
      "AUC-PR: 0.61 (+/- 0.05)\n",
      "[0.6383333333333333, 0.6383333333333333, 0.6366666666666667, 0.6916666666666667, 0.6416666666666667]\n",
      "Accuracy: 0.65 (+/- 0.04)\n"
     ]
    }
   ],
   "source": [
    "perceptron = Perceptron(random_state = 10)\n",
    "\n",
    "perceptron_scores, perceptron_stds = evaluation_metrics(X=Xuniform, classifier = perceptron,\n",
    "                                                       has_decision_function = True)\n",
    "# pretty horrible"
   ]
  },
  {
   "cell_type": "code",
   "execution_count": 251,
   "metadata": {},
   "outputs": [
    {
     "name": "stdout",
     "output_type": "stream",
     "text": [
      "[0.5705322220152729, 0.7453319985099647, 0.7317703482957719, 0.78211724715962, 0.7814398134654621]\n",
      "AUC-ROC: 0.72 (+/- 0.16)\n",
      "[0.45265810628608094, 0.6054872331026796, 0.595570755751029, 0.6408373482817213, 0.6354019768352962]\n",
      "AUC-PR: 0.59 (+/- 0.14)\n",
      "[0.575, 0.6783333333333333, 0.6583333333333333, 0.7016666666666667, 0.7116666666666667]\n",
      "Accuracy: 0.67 (+/- 0.10)\n"
     ]
    }
   ],
   "source": [
    "perceptron = Perceptron(random_state = 10)\n",
    "\n",
    "perceptron_scores, perceptron_stds = evaluation_metrics(X=Xscaled, classifier = perceptron,\n",
    "                                                       has_decision_function = True)\n",
    "# pretty horrible"
   ]
  },
  {
   "cell_type": "markdown",
   "metadata": {},
   "source": [
    "## Linear Support Vector Machine"
   ]
  },
  {
   "cell_type": "code",
   "execution_count": 125,
   "metadata": {},
   "outputs": [
    {
     "name": "stdout",
     "output_type": "stream",
     "text": [
      "[0.7584978580741293, 0.7373812628049916, 0.7289066865338051, 0.7319333209163719, 0.7717575051005537]\n",
      "AUC-ROC: 0.75 (+/- 0.03)\n",
      "[0.5864175192141293, 0.5616162000888719, 0.5542963533641501, 0.5603160098019195, 0.5949902176571289]\n",
      "AUC-PR: 0.57 (+/- 0.03)\n",
      "[0.735, 0.7066666666666667, 0.7, 0.71, 0.7416666666666667]\n",
      "Accuracy: 0.72 (+/- 0.03)\n"
     ]
    }
   ],
   "source": [
    "# Looking for C and the right kernel\n",
    "\n",
    "parameters = [{'kernel': ['poly'], 'degree': [2, 3, 4, 5], 'C': [0.01, 0.1, 1, 10, 100]},\n",
    "              {'kernel': ['rbf'], 'gamma': [1e-2, 1e-4, 1, 10], 'C': [0.01, 0.1, 1, 10, 100]},\n",
    "            {'kernel': ['linear'], 'C': [0.01, 0.1, 1, 10, 100]}]\n",
    "\n",
    "svc = SVC(class_weight = 'balanced')\n",
    "clf = GridSearchCV(svc, parameters, scoring = 'roc_auc')\n",
    "clf.fit(Xnormalized, Ytrain)"
   ]
  },
  {
   "cell_type": "code",
   "execution_count": 274,
   "metadata": {},
   "outputs": [],
   "source": [
    "res = pd.DataFrame(clf.cv_results_)"
   ]
  },
  {
   "cell_type": "code",
   "execution_count": 275,
   "metadata": {},
   "outputs": [
    {
     "data": {
      "text/html": [
       "<div>\n",
       "<style scoped>\n",
       "    .dataframe tbody tr th:only-of-type {\n",
       "        vertical-align: middle;\n",
       "    }\n",
       "\n",
       "    .dataframe tbody tr th {\n",
       "        vertical-align: top;\n",
       "    }\n",
       "\n",
       "    .dataframe thead th {\n",
       "        text-align: right;\n",
       "    }\n",
       "</style>\n",
       "<table border=\"1\" class=\"dataframe\">\n",
       "  <thead>\n",
       "    <tr style=\"text-align: right;\">\n",
       "      <th></th>\n",
       "      <th>mean_fit_time</th>\n",
       "      <th>std_fit_time</th>\n",
       "      <th>mean_score_time</th>\n",
       "      <th>std_score_time</th>\n",
       "      <th>param_C</th>\n",
       "      <th>param_degree</th>\n",
       "      <th>param_kernel</th>\n",
       "      <th>param_gamma</th>\n",
       "      <th>params</th>\n",
       "      <th>split0_test_score</th>\n",
       "      <th>split1_test_score</th>\n",
       "      <th>split2_test_score</th>\n",
       "      <th>split3_test_score</th>\n",
       "      <th>split4_test_score</th>\n",
       "      <th>mean_test_score</th>\n",
       "      <th>std_test_score</th>\n",
       "      <th>rank_test_score</th>\n",
       "    </tr>\n",
       "  </thead>\n",
       "  <tbody>\n",
       "    <tr>\n",
       "      <th>0</th>\n",
       "      <td>5.039074</td>\n",
       "      <td>0.539932</td>\n",
       "      <td>1.084443</td>\n",
       "      <td>0.137824</td>\n",
       "      <td>0.01</td>\n",
       "      <td>2</td>\n",
       "      <td>poly</td>\n",
       "      <td>NaN</td>\n",
       "      <td>{'C': 0.01, 'degree': 2, 'kernel': 'poly'}</td>\n",
       "      <td>0.794189</td>\n",
       "      <td>0.786937</td>\n",
       "      <td>0.784608</td>\n",
       "      <td>0.809078</td>\n",
       "      <td>0.800874</td>\n",
       "      <td>0.795137</td>\n",
       "      <td>0.009014</td>\n",
       "      <td>30</td>\n",
       "    </tr>\n",
       "    <tr>\n",
       "      <th>1</th>\n",
       "      <td>5.215988</td>\n",
       "      <td>0.705980</td>\n",
       "      <td>1.322391</td>\n",
       "      <td>0.175880</td>\n",
       "      <td>0.01</td>\n",
       "      <td>3</td>\n",
       "      <td>poly</td>\n",
       "      <td>NaN</td>\n",
       "      <td>{'C': 0.01, 'degree': 3, 'kernel': 'poly'}</td>\n",
       "      <td>0.825037</td>\n",
       "      <td>0.813606</td>\n",
       "      <td>0.817948</td>\n",
       "      <td>0.840322</td>\n",
       "      <td>0.824926</td>\n",
       "      <td>0.824368</td>\n",
       "      <td>0.009081</td>\n",
       "      <td>24</td>\n",
       "    </tr>\n",
       "    <tr>\n",
       "      <th>2</th>\n",
       "      <td>4.445880</td>\n",
       "      <td>0.304706</td>\n",
       "      <td>1.029146</td>\n",
       "      <td>0.195053</td>\n",
       "      <td>0.01</td>\n",
       "      <td>4</td>\n",
       "      <td>poly</td>\n",
       "      <td>NaN</td>\n",
       "      <td>{'C': 0.01, 'degree': 4, 'kernel': 'poly'}</td>\n",
       "      <td>0.841754</td>\n",
       "      <td>0.838366</td>\n",
       "      <td>0.840974</td>\n",
       "      <td>0.861054</td>\n",
       "      <td>0.844360</td>\n",
       "      <td>0.845302</td>\n",
       "      <td>0.008105</td>\n",
       "      <td>18</td>\n",
       "    </tr>\n",
       "    <tr>\n",
       "      <th>3</th>\n",
       "      <td>3.967206</td>\n",
       "      <td>0.421596</td>\n",
       "      <td>0.909293</td>\n",
       "      <td>0.283934</td>\n",
       "      <td>0.01</td>\n",
       "      <td>5</td>\n",
       "      <td>poly</td>\n",
       "      <td>NaN</td>\n",
       "      <td>{'C': 0.01, 'degree': 5, 'kernel': 'poly'}</td>\n",
       "      <td>0.849576</td>\n",
       "      <td>0.854931</td>\n",
       "      <td>0.855339</td>\n",
       "      <td>0.870833</td>\n",
       "      <td>0.856543</td>\n",
       "      <td>0.857444</td>\n",
       "      <td>0.007109</td>\n",
       "      <td>12</td>\n",
       "    </tr>\n",
       "    <tr>\n",
       "      <th>4</th>\n",
       "      <td>3.526559</td>\n",
       "      <td>0.047837</td>\n",
       "      <td>0.746694</td>\n",
       "      <td>0.035812</td>\n",
       "      <td>0.1</td>\n",
       "      <td>2</td>\n",
       "      <td>poly</td>\n",
       "      <td>NaN</td>\n",
       "      <td>{'C': 0.1, 'degree': 2, 'kernel': 'poly'}</td>\n",
       "      <td>0.839297</td>\n",
       "      <td>0.840508</td>\n",
       "      <td>0.837144</td>\n",
       "      <td>0.861392</td>\n",
       "      <td>0.848173</td>\n",
       "      <td>0.845303</td>\n",
       "      <td>0.008862</td>\n",
       "      <td>17</td>\n",
       "    </tr>\n",
       "    <tr>\n",
       "      <th>5</th>\n",
       "      <td>4.216654</td>\n",
       "      <td>0.803135</td>\n",
       "      <td>0.864650</td>\n",
       "      <td>0.236323</td>\n",
       "      <td>0.1</td>\n",
       "      <td>3</td>\n",
       "      <td>poly</td>\n",
       "      <td>NaN</td>\n",
       "      <td>{'C': 0.1, 'degree': 3, 'kernel': 'poly'}</td>\n",
       "      <td>0.851474</td>\n",
       "      <td>0.860100</td>\n",
       "      <td>0.860379</td>\n",
       "      <td>0.875675</td>\n",
       "      <td>0.866185</td>\n",
       "      <td>0.862762</td>\n",
       "      <td>0.007983</td>\n",
       "      <td>9</td>\n",
       "    </tr>\n",
       "    <tr>\n",
       "      <th>6</th>\n",
       "      <td>3.320361</td>\n",
       "      <td>0.124268</td>\n",
       "      <td>0.753972</td>\n",
       "      <td>0.125440</td>\n",
       "      <td>0.1</td>\n",
       "      <td>4</td>\n",
       "      <td>poly</td>\n",
       "      <td>NaN</td>\n",
       "      <td>{'C': 0.1, 'degree': 4, 'kernel': 'poly'}</td>\n",
       "      <td>0.855921</td>\n",
       "      <td>0.868632</td>\n",
       "      <td>0.871426</td>\n",
       "      <td>0.880227</td>\n",
       "      <td>0.873483</td>\n",
       "      <td>0.869938</td>\n",
       "      <td>0.007985</td>\n",
       "      <td>5</td>\n",
       "    </tr>\n",
       "    <tr>\n",
       "      <th>7</th>\n",
       "      <td>3.337753</td>\n",
       "      <td>0.297393</td>\n",
       "      <td>0.709501</td>\n",
       "      <td>0.021365</td>\n",
       "      <td>0.1</td>\n",
       "      <td>5</td>\n",
       "      <td>poly</td>\n",
       "      <td>NaN</td>\n",
       "      <td>{'C': 0.1, 'degree': 5, 'kernel': 'poly'}</td>\n",
       "      <td>0.855723</td>\n",
       "      <td>0.872765</td>\n",
       "      <td>0.872590</td>\n",
       "      <td>0.881333</td>\n",
       "      <td>0.874777</td>\n",
       "      <td>0.871438</td>\n",
       "      <td>0.008475</td>\n",
       "      <td>4</td>\n",
       "    </tr>\n",
       "    <tr>\n",
       "      <th>8</th>\n",
       "      <td>3.015586</td>\n",
       "      <td>0.064736</td>\n",
       "      <td>0.629329</td>\n",
       "      <td>0.006944</td>\n",
       "      <td>1</td>\n",
       "      <td>2</td>\n",
       "      <td>poly</td>\n",
       "      <td>NaN</td>\n",
       "      <td>{'C': 1, 'degree': 2, 'kernel': 'poly'}</td>\n",
       "      <td>0.850112</td>\n",
       "      <td>0.859401</td>\n",
       "      <td>0.864267</td>\n",
       "      <td>0.877375</td>\n",
       "      <td>0.870475</td>\n",
       "      <td>0.864326</td>\n",
       "      <td>0.009321</td>\n",
       "      <td>8</td>\n",
       "    </tr>\n",
       "    <tr>\n",
       "      <th>9</th>\n",
       "      <td>2.966673</td>\n",
       "      <td>0.046392</td>\n",
       "      <td>0.632719</td>\n",
       "      <td>0.011793</td>\n",
       "      <td>1</td>\n",
       "      <td>3</td>\n",
       "      <td>poly</td>\n",
       "      <td>NaN</td>\n",
       "      <td>{'C': 1, 'degree': 3, 'kernel': 'poly'}</td>\n",
       "      <td>0.846550</td>\n",
       "      <td>0.864092</td>\n",
       "      <td>0.864558</td>\n",
       "      <td>0.877922</td>\n",
       "      <td>0.872201</td>\n",
       "      <td>0.865065</td>\n",
       "      <td>0.010585</td>\n",
       "      <td>6</td>\n",
       "    </tr>\n",
       "    <tr>\n",
       "      <th>10</th>\n",
       "      <td>3.024519</td>\n",
       "      <td>0.042157</td>\n",
       "      <td>0.666901</td>\n",
       "      <td>0.032785</td>\n",
       "      <td>1</td>\n",
       "      <td>4</td>\n",
       "      <td>poly</td>\n",
       "      <td>NaN</td>\n",
       "      <td>{'C': 1, 'degree': 4, 'kernel': 'poly'}</td>\n",
       "      <td>0.848203</td>\n",
       "      <td>0.863219</td>\n",
       "      <td>0.861217</td>\n",
       "      <td>0.863510</td>\n",
       "      <td>0.867969</td>\n",
       "      <td>0.860824</td>\n",
       "      <td>0.006685</td>\n",
       "      <td>11</td>\n",
       "    </tr>\n",
       "    <tr>\n",
       "      <th>11</th>\n",
       "      <td>4.350833</td>\n",
       "      <td>0.262338</td>\n",
       "      <td>0.746236</td>\n",
       "      <td>0.096923</td>\n",
       "      <td>1</td>\n",
       "      <td>5</td>\n",
       "      <td>poly</td>\n",
       "      <td>NaN</td>\n",
       "      <td>{'C': 1, 'degree': 5, 'kernel': 'poly'}</td>\n",
       "      <td>0.848156</td>\n",
       "      <td>0.859448</td>\n",
       "      <td>0.856479</td>\n",
       "      <td>0.854850</td>\n",
       "      <td>0.861160</td>\n",
       "      <td>0.856019</td>\n",
       "      <td>0.004508</td>\n",
       "      <td>13</td>\n",
       "    </tr>\n",
       "    <tr>\n",
       "      <th>12</th>\n",
       "      <td>2.953889</td>\n",
       "      <td>0.056245</td>\n",
       "      <td>0.606752</td>\n",
       "      <td>0.019736</td>\n",
       "      <td>10</td>\n",
       "      <td>2</td>\n",
       "      <td>poly</td>\n",
       "      <td>NaN</td>\n",
       "      <td>{'C': 10, 'degree': 2, 'kernel': 'poly'}</td>\n",
       "      <td>0.832057</td>\n",
       "      <td>0.850566</td>\n",
       "      <td>0.848866</td>\n",
       "      <td>0.854791</td>\n",
       "      <td>0.860087</td>\n",
       "      <td>0.849273</td>\n",
       "      <td>0.009441</td>\n",
       "      <td>14</td>\n",
       "    </tr>\n",
       "    <tr>\n",
       "      <th>13</th>\n",
       "      <td>4.297134</td>\n",
       "      <td>0.744790</td>\n",
       "      <td>0.660979</td>\n",
       "      <td>0.098635</td>\n",
       "      <td>10</td>\n",
       "      <td>3</td>\n",
       "      <td>poly</td>\n",
       "      <td>NaN</td>\n",
       "      <td>{'C': 10, 'degree': 3, 'kernel': 'poly'}</td>\n",
       "      <td>0.834862</td>\n",
       "      <td>0.840636</td>\n",
       "      <td>0.840264</td>\n",
       "      <td>0.838320</td>\n",
       "      <td>0.852323</td>\n",
       "      <td>0.841281</td>\n",
       "      <td>0.005888</td>\n",
       "      <td>22</td>\n",
       "    </tr>\n",
       "    <tr>\n",
       "      <th>14</th>\n",
       "      <td>4.265828</td>\n",
       "      <td>0.055733</td>\n",
       "      <td>0.652250</td>\n",
       "      <td>0.009234</td>\n",
       "      <td>10</td>\n",
       "      <td>4</td>\n",
       "      <td>poly</td>\n",
       "      <td>NaN</td>\n",
       "      <td>{'C': 10, 'degree': 4, 'kernel': 'poly'}</td>\n",
       "      <td>0.835968</td>\n",
       "      <td>0.843663</td>\n",
       "      <td>0.842068</td>\n",
       "      <td>0.840764</td>\n",
       "      <td>0.853629</td>\n",
       "      <td>0.843218</td>\n",
       "      <td>0.005805</td>\n",
       "      <td>19</td>\n",
       "    </tr>\n",
       "    <tr>\n",
       "      <th>15</th>\n",
       "      <td>4.323724</td>\n",
       "      <td>0.064465</td>\n",
       "      <td>0.688815</td>\n",
       "      <td>0.005854</td>\n",
       "      <td>10</td>\n",
       "      <td>5</td>\n",
       "      <td>poly</td>\n",
       "      <td>NaN</td>\n",
       "      <td>{'C': 10, 'degree': 5, 'kernel': 'poly'}</td>\n",
       "      <td>0.841905</td>\n",
       "      <td>0.851357</td>\n",
       "      <td>0.849541</td>\n",
       "      <td>0.846608</td>\n",
       "      <td>0.856951</td>\n",
       "      <td>0.849273</td>\n",
       "      <td>0.004995</td>\n",
       "      <td>15</td>\n",
       "    </tr>\n",
       "    <tr>\n",
       "      <th>16</th>\n",
       "      <td>3.601414</td>\n",
       "      <td>0.597237</td>\n",
       "      <td>0.578432</td>\n",
       "      <td>0.011047</td>\n",
       "      <td>100</td>\n",
       "      <td>2</td>\n",
       "      <td>poly</td>\n",
       "      <td>NaN</td>\n",
       "      <td>{'C': 100, 'degree': 2, 'kernel': 'poly'}</td>\n",
       "      <td>0.820032</td>\n",
       "      <td>0.821685</td>\n",
       "      <td>0.818449</td>\n",
       "      <td>0.811161</td>\n",
       "      <td>0.842716</td>\n",
       "      <td>0.822809</td>\n",
       "      <td>0.010583</td>\n",
       "      <td>25</td>\n",
       "    </tr>\n",
       "    <tr>\n",
       "      <th>17</th>\n",
       "      <td>4.212325</td>\n",
       "      <td>0.065585</td>\n",
       "      <td>0.638055</td>\n",
       "      <td>0.025338</td>\n",
       "      <td>100</td>\n",
       "      <td>3</td>\n",
       "      <td>poly</td>\n",
       "      <td>NaN</td>\n",
       "      <td>{'C': 100, 'degree': 3, 'kernel': 'poly'}</td>\n",
       "      <td>0.828506</td>\n",
       "      <td>0.832359</td>\n",
       "      <td>0.831836</td>\n",
       "      <td>0.830415</td>\n",
       "      <td>0.849467</td>\n",
       "      <td>0.834517</td>\n",
       "      <td>0.007593</td>\n",
       "      <td>23</td>\n",
       "    </tr>\n",
       "    <tr>\n",
       "      <th>18</th>\n",
       "      <td>4.179946</td>\n",
       "      <td>0.012002</td>\n",
       "      <td>0.646275</td>\n",
       "      <td>0.003402</td>\n",
       "      <td>100</td>\n",
       "      <td>4</td>\n",
       "      <td>poly</td>\n",
       "      <td>NaN</td>\n",
       "      <td>{'C': 100, 'degree': 4, 'kernel': 'poly'}</td>\n",
       "      <td>0.835968</td>\n",
       "      <td>0.843663</td>\n",
       "      <td>0.842068</td>\n",
       "      <td>0.840764</td>\n",
       "      <td>0.853629</td>\n",
       "      <td>0.843218</td>\n",
       "      <td>0.005805</td>\n",
       "      <td>19</td>\n",
       "    </tr>\n",
       "    <tr>\n",
       "      <th>19</th>\n",
       "      <td>4.265499</td>\n",
       "      <td>0.026338</td>\n",
       "      <td>0.681446</td>\n",
       "      <td>0.001867</td>\n",
       "      <td>100</td>\n",
       "      <td>5</td>\n",
       "      <td>poly</td>\n",
       "      <td>NaN</td>\n",
       "      <td>{'C': 100, 'degree': 5, 'kernel': 'poly'}</td>\n",
       "      <td>0.841905</td>\n",
       "      <td>0.851357</td>\n",
       "      <td>0.849541</td>\n",
       "      <td>0.846608</td>\n",
       "      <td>0.856951</td>\n",
       "      <td>0.849273</td>\n",
       "      <td>0.004995</td>\n",
       "      <td>15</td>\n",
       "    </tr>\n",
       "    <tr>\n",
       "      <th>20</th>\n",
       "      <td>5.458152</td>\n",
       "      <td>0.379907</td>\n",
       "      <td>1.202195</td>\n",
       "      <td>0.010859</td>\n",
       "      <td>0.01</td>\n",
       "      <td>NaN</td>\n",
       "      <td>rbf</td>\n",
       "      <td>0.01</td>\n",
       "      <td>{'C': 0.01, 'gamma': 0.01, 'kernel': 'rbf'}</td>\n",
       "      <td>0.765482</td>\n",
       "      <td>0.751793</td>\n",
       "      <td>0.738464</td>\n",
       "      <td>0.767205</td>\n",
       "      <td>0.775424</td>\n",
       "      <td>0.759674</td>\n",
       "      <td>0.013042</td>\n",
       "      <td>38</td>\n",
       "    </tr>\n",
       "    <tr>\n",
       "      <th>21</th>\n",
       "      <td>5.296148</td>\n",
       "      <td>0.042895</td>\n",
       "      <td>1.206062</td>\n",
       "      <td>0.013830</td>\n",
       "      <td>0.01</td>\n",
       "      <td>NaN</td>\n",
       "      <td>rbf</td>\n",
       "      <td>0.0001</td>\n",
       "      <td>{'C': 0.01, 'gamma': 0.0001, 'kernel': 'rbf'}</td>\n",
       "      <td>0.765215</td>\n",
       "      <td>0.751502</td>\n",
       "      <td>0.737847</td>\n",
       "      <td>0.766588</td>\n",
       "      <td>0.775133</td>\n",
       "      <td>0.759257</td>\n",
       "      <td>0.013113</td>\n",
       "      <td>41</td>\n",
       "    </tr>\n",
       "    <tr>\n",
       "      <th>22</th>\n",
       "      <td>5.285720</td>\n",
       "      <td>0.020995</td>\n",
       "      <td>1.194243</td>\n",
       "      <td>0.008777</td>\n",
       "      <td>0.01</td>\n",
       "      <td>NaN</td>\n",
       "      <td>rbf</td>\n",
       "      <td>1</td>\n",
       "      <td>{'C': 0.01, 'gamma': 1, 'kernel': 'rbf'}</td>\n",
       "      <td>0.779626</td>\n",
       "      <td>0.771524</td>\n",
       "      <td>0.765133</td>\n",
       "      <td>0.794794</td>\n",
       "      <td>0.787957</td>\n",
       "      <td>0.779807</td>\n",
       "      <td>0.010724</td>\n",
       "      <td>34</td>\n",
       "    </tr>\n",
       "    <tr>\n",
       "      <th>23</th>\n",
       "      <td>5.254705</td>\n",
       "      <td>0.019875</td>\n",
       "      <td>1.216841</td>\n",
       "      <td>0.047942</td>\n",
       "      <td>0.01</td>\n",
       "      <td>NaN</td>\n",
       "      <td>rbf</td>\n",
       "      <td>10</td>\n",
       "      <td>{'C': 0.01, 'gamma': 10, 'kernel': 'rbf'}</td>\n",
       "      <td>0.788531</td>\n",
       "      <td>0.789579</td>\n",
       "      <td>0.788555</td>\n",
       "      <td>0.814863</td>\n",
       "      <td>0.799813</td>\n",
       "      <td>0.796268</td>\n",
       "      <td>0.010222</td>\n",
       "      <td>29</td>\n",
       "    </tr>\n",
       "    <tr>\n",
       "      <th>24</th>\n",
       "      <td>5.284798</td>\n",
       "      <td>0.041087</td>\n",
       "      <td>1.194330</td>\n",
       "      <td>0.011050</td>\n",
       "      <td>0.1</td>\n",
       "      <td>NaN</td>\n",
       "      <td>rbf</td>\n",
       "      <td>0.01</td>\n",
       "      <td>{'C': 0.1, 'gamma': 0.01, 'kernel': 'rbf'}</td>\n",
       "      <td>0.765482</td>\n",
       "      <td>0.751793</td>\n",
       "      <td>0.738464</td>\n",
       "      <td>0.767205</td>\n",
       "      <td>0.775424</td>\n",
       "      <td>0.759674</td>\n",
       "      <td>0.013042</td>\n",
       "      <td>38</td>\n",
       "    </tr>\n",
       "    <tr>\n",
       "      <th>25</th>\n",
       "      <td>5.257853</td>\n",
       "      <td>0.015414</td>\n",
       "      <td>1.201370</td>\n",
       "      <td>0.016712</td>\n",
       "      <td>0.1</td>\n",
       "      <td>NaN</td>\n",
       "      <td>rbf</td>\n",
       "      <td>0.0001</td>\n",
       "      <td>{'C': 0.1, 'gamma': 0.0001, 'kernel': 'rbf'}</td>\n",
       "      <td>0.765215</td>\n",
       "      <td>0.751502</td>\n",
       "      <td>0.737847</td>\n",
       "      <td>0.766588</td>\n",
       "      <td>0.775133</td>\n",
       "      <td>0.759257</td>\n",
       "      <td>0.013113</td>\n",
       "      <td>41</td>\n",
       "    </tr>\n",
       "    <tr>\n",
       "      <th>26</th>\n",
       "      <td>4.274784</td>\n",
       "      <td>0.023146</td>\n",
       "      <td>0.900817</td>\n",
       "      <td>0.006349</td>\n",
       "      <td>0.1</td>\n",
       "      <td>NaN</td>\n",
       "      <td>rbf</td>\n",
       "      <td>1</td>\n",
       "      <td>{'C': 0.1, 'gamma': 1, 'kernel': 'rbf'}</td>\n",
       "      <td>0.820742</td>\n",
       "      <td>0.809508</td>\n",
       "      <td>0.813280</td>\n",
       "      <td>0.835537</td>\n",
       "      <td>0.823119</td>\n",
       "      <td>0.820437</td>\n",
       "      <td>0.009011</td>\n",
       "      <td>26</td>\n",
       "    </tr>\n",
       "    <tr>\n",
       "      <th>27</th>\n",
       "      <td>4.978092</td>\n",
       "      <td>0.027805</td>\n",
       "      <td>1.129751</td>\n",
       "      <td>0.008799</td>\n",
       "      <td>0.1</td>\n",
       "      <td>NaN</td>\n",
       "      <td>rbf</td>\n",
       "      <td>10</td>\n",
       "      <td>{'C': 0.1, 'gamma': 10, 'kernel': 'rbf'}</td>\n",
       "      <td>0.801767</td>\n",
       "      <td>0.805318</td>\n",
       "      <td>0.806342</td>\n",
       "      <td>0.830089</td>\n",
       "      <td>0.813314</td>\n",
       "      <td>0.811366</td>\n",
       "      <td>0.010083</td>\n",
       "      <td>27</td>\n",
       "    </tr>\n",
       "    <tr>\n",
       "      <th>28</th>\n",
       "      <td>5.235480</td>\n",
       "      <td>0.035877</td>\n",
       "      <td>1.187557</td>\n",
       "      <td>0.007212</td>\n",
       "      <td>1</td>\n",
       "      <td>NaN</td>\n",
       "      <td>rbf</td>\n",
       "      <td>0.01</td>\n",
       "      <td>{'C': 1, 'gamma': 0.01, 'kernel': 'rbf'}</td>\n",
       "      <td>0.765913</td>\n",
       "      <td>0.752619</td>\n",
       "      <td>0.739290</td>\n",
       "      <td>0.768334</td>\n",
       "      <td>0.775529</td>\n",
       "      <td>0.760337</td>\n",
       "      <td>0.012871</td>\n",
       "      <td>36</td>\n",
       "    </tr>\n",
       "    <tr>\n",
       "      <th>29</th>\n",
       "      <td>5.269587</td>\n",
       "      <td>0.025407</td>\n",
       "      <td>1.202053</td>\n",
       "      <td>0.022049</td>\n",
       "      <td>1</td>\n",
       "      <td>NaN</td>\n",
       "      <td>rbf</td>\n",
       "      <td>0.0001</td>\n",
       "      <td>{'C': 1, 'gamma': 0.0001, 'kernel': 'rbf'}</td>\n",
       "      <td>0.765215</td>\n",
       "      <td>0.751502</td>\n",
       "      <td>0.737847</td>\n",
       "      <td>0.766588</td>\n",
       "      <td>0.775133</td>\n",
       "      <td>0.759257</td>\n",
       "      <td>0.013113</td>\n",
       "      <td>41</td>\n",
       "    </tr>\n",
       "    <tr>\n",
       "      <th>30</th>\n",
       "      <td>3.319111</td>\n",
       "      <td>0.037459</td>\n",
       "      <td>0.694866</td>\n",
       "      <td>0.006747</td>\n",
       "      <td>1</td>\n",
       "      <td>NaN</td>\n",
       "      <td>rbf</td>\n",
       "      <td>1</td>\n",
       "      <td>{'C': 1, 'gamma': 1, 'kernel': 'rbf'}</td>\n",
       "      <td>0.852009</td>\n",
       "      <td>0.858342</td>\n",
       "      <td>0.858051</td>\n",
       "      <td>0.875570</td>\n",
       "      <td>0.866803</td>\n",
       "      <td>0.862155</td>\n",
       "      <td>0.008196</td>\n",
       "      <td>10</td>\n",
       "    </tr>\n",
       "    <tr>\n",
       "      <th>31</th>\n",
       "      <td>4.861923</td>\n",
       "      <td>0.030268</td>\n",
       "      <td>1.077564</td>\n",
       "      <td>0.014812</td>\n",
       "      <td>1</td>\n",
       "      <td>NaN</td>\n",
       "      <td>rbf</td>\n",
       "      <td>10</td>\n",
       "      <td>{'C': 1, 'gamma': 10, 'kernel': 'rbf'}</td>\n",
       "      <td>0.864092</td>\n",
       "      <td>0.871845</td>\n",
       "      <td>0.869238</td>\n",
       "      <td>0.879982</td>\n",
       "      <td>0.876176</td>\n",
       "      <td>0.872267</td>\n",
       "      <td>0.005495</td>\n",
       "      <td>3</td>\n",
       "    </tr>\n",
       "    <tr>\n",
       "      <th>32</th>\n",
       "      <td>4.204879</td>\n",
       "      <td>0.035506</td>\n",
       "      <td>0.882360</td>\n",
       "      <td>0.015170</td>\n",
       "      <td>10</td>\n",
       "      <td>NaN</td>\n",
       "      <td>rbf</td>\n",
       "      <td>0.01</td>\n",
       "      <td>{'C': 10, 'gamma': 0.01, 'kernel': 'rbf'}</td>\n",
       "      <td>0.785796</td>\n",
       "      <td>0.770651</td>\n",
       "      <td>0.763899</td>\n",
       "      <td>0.799299</td>\n",
       "      <td>0.793483</td>\n",
       "      <td>0.782626</td>\n",
       "      <td>0.013416</td>\n",
       "      <td>33</td>\n",
       "    </tr>\n",
       "    <tr>\n",
       "      <th>33</th>\n",
       "      <td>5.304426</td>\n",
       "      <td>0.066832</td>\n",
       "      <td>1.222597</td>\n",
       "      <td>0.052725</td>\n",
       "      <td>10</td>\n",
       "      <td>NaN</td>\n",
       "      <td>rbf</td>\n",
       "      <td>0.0001</td>\n",
       "      <td>{'C': 10, 'gamma': 0.0001, 'kernel': 'rbf'}</td>\n",
       "      <td>0.765215</td>\n",
       "      <td>0.751502</td>\n",
       "      <td>0.737847</td>\n",
       "      <td>0.766588</td>\n",
       "      <td>0.775133</td>\n",
       "      <td>0.759257</td>\n",
       "      <td>0.013113</td>\n",
       "      <td>41</td>\n",
       "    </tr>\n",
       "    <tr>\n",
       "      <th>34</th>\n",
       "      <td>3.012858</td>\n",
       "      <td>0.028477</td>\n",
       "      <td>0.662362</td>\n",
       "      <td>0.025415</td>\n",
       "      <td>10</td>\n",
       "      <td>NaN</td>\n",
       "      <td>rbf</td>\n",
       "      <td>1</td>\n",
       "      <td>{'C': 10, 'gamma': 1, 'kernel': 'rbf'}</td>\n",
       "      <td>0.846864</td>\n",
       "      <td>0.864837</td>\n",
       "      <td>0.863417</td>\n",
       "      <td>0.876152</td>\n",
       "      <td>0.873763</td>\n",
       "      <td>0.865007</td>\n",
       "      <td>0.010321</td>\n",
       "      <td>7</td>\n",
       "    </tr>\n",
       "    <tr>\n",
       "      <th>35</th>\n",
       "      <td>5.083494</td>\n",
       "      <td>0.050730</td>\n",
       "      <td>1.095987</td>\n",
       "      <td>0.007992</td>\n",
       "      <td>10</td>\n",
       "      <td>NaN</td>\n",
       "      <td>rbf</td>\n",
       "      <td>10</td>\n",
       "      <td>{'C': 10, 'gamma': 10, 'kernel': 'rbf'}</td>\n",
       "      <td>0.871077</td>\n",
       "      <td>0.878970</td>\n",
       "      <td>0.877887</td>\n",
       "      <td>0.878492</td>\n",
       "      <td>0.873495</td>\n",
       "      <td>0.875984</td>\n",
       "      <td>0.003134</td>\n",
       "      <td>1</td>\n",
       "    </tr>\n",
       "    <tr>\n",
       "      <th>36</th>\n",
       "      <td>3.736061</td>\n",
       "      <td>0.070628</td>\n",
       "      <td>0.761327</td>\n",
       "      <td>0.009828</td>\n",
       "      <td>100</td>\n",
       "      <td>NaN</td>\n",
       "      <td>rbf</td>\n",
       "      <td>0.01</td>\n",
       "      <td>{'C': 100, 'gamma': 0.01, 'kernel': 'rbf'}</td>\n",
       "      <td>0.806167</td>\n",
       "      <td>0.787018</td>\n",
       "      <td>0.780336</td>\n",
       "      <td>0.817820</td>\n",
       "      <td>0.801504</td>\n",
       "      <td>0.798569</td>\n",
       "      <td>0.013437</td>\n",
       "      <td>28</td>\n",
       "    </tr>\n",
       "    <tr>\n",
       "      <th>37</th>\n",
       "      <td>5.240755</td>\n",
       "      <td>0.030446</td>\n",
       "      <td>1.185978</td>\n",
       "      <td>0.005385</td>\n",
       "      <td>100</td>\n",
       "      <td>NaN</td>\n",
       "      <td>rbf</td>\n",
       "      <td>0.0001</td>\n",
       "      <td>{'C': 100, 'gamma': 0.0001, 'kernel': 'rbf'}</td>\n",
       "      <td>0.765704</td>\n",
       "      <td>0.752154</td>\n",
       "      <td>0.738732</td>\n",
       "      <td>0.767822</td>\n",
       "      <td>0.775331</td>\n",
       "      <td>0.759948</td>\n",
       "      <td>0.012982</td>\n",
       "      <td>37</td>\n",
       "    </tr>\n",
       "    <tr>\n",
       "      <th>38</th>\n",
       "      <td>4.721265</td>\n",
       "      <td>0.586447</td>\n",
       "      <td>0.635489</td>\n",
       "      <td>0.004782</td>\n",
       "      <td>100</td>\n",
       "      <td>NaN</td>\n",
       "      <td>rbf</td>\n",
       "      <td>1</td>\n",
       "      <td>{'C': 100, 'gamma': 1, 'kernel': 'rbf'}</td>\n",
       "      <td>0.838634</td>\n",
       "      <td>0.841684</td>\n",
       "      <td>0.839670</td>\n",
       "      <td>0.839379</td>\n",
       "      <td>0.854911</td>\n",
       "      <td>0.842855</td>\n",
       "      <td>0.006112</td>\n",
       "      <td>21</td>\n",
       "    </tr>\n",
       "    <tr>\n",
       "      <th>39</th>\n",
       "      <td>5.063542</td>\n",
       "      <td>0.011715</td>\n",
       "      <td>1.094405</td>\n",
       "      <td>0.004585</td>\n",
       "      <td>100</td>\n",
       "      <td>NaN</td>\n",
       "      <td>rbf</td>\n",
       "      <td>10</td>\n",
       "      <td>{'C': 100, 'gamma': 10, 'kernel': 'rbf'}</td>\n",
       "      <td>0.871077</td>\n",
       "      <td>0.878970</td>\n",
       "      <td>0.877852</td>\n",
       "      <td>0.878492</td>\n",
       "      <td>0.873495</td>\n",
       "      <td>0.875977</td>\n",
       "      <td>0.003130</td>\n",
       "      <td>2</td>\n",
       "    </tr>\n",
       "    <tr>\n",
       "      <th>40</th>\n",
       "      <td>5.092362</td>\n",
       "      <td>0.021636</td>\n",
       "      <td>1.157266</td>\n",
       "      <td>0.008777</td>\n",
       "      <td>0.01</td>\n",
       "      <td>NaN</td>\n",
       "      <td>linear</td>\n",
       "      <td>NaN</td>\n",
       "      <td>{'C': 0.01, 'kernel': 'linear'}</td>\n",
       "      <td>0.765215</td>\n",
       "      <td>0.751513</td>\n",
       "      <td>0.737847</td>\n",
       "      <td>0.766577</td>\n",
       "      <td>0.775121</td>\n",
       "      <td>0.759254</td>\n",
       "      <td>0.013108</td>\n",
       "      <td>45</td>\n",
       "    </tr>\n",
       "    <tr>\n",
       "      <th>41</th>\n",
       "      <td>4.322761</td>\n",
       "      <td>0.025680</td>\n",
       "      <td>0.914648</td>\n",
       "      <td>0.008108</td>\n",
       "      <td>0.1</td>\n",
       "      <td>NaN</td>\n",
       "      <td>linear</td>\n",
       "      <td>NaN</td>\n",
       "      <td>{'C': 0.1, 'kernel': 'linear'}</td>\n",
       "      <td>0.779009</td>\n",
       "      <td>0.765354</td>\n",
       "      <td>0.757415</td>\n",
       "      <td>0.791651</td>\n",
       "      <td>0.789309</td>\n",
       "      <td>0.776548</td>\n",
       "      <td>0.013329</td>\n",
       "      <td>35</td>\n",
       "    </tr>\n",
       "    <tr>\n",
       "      <th>42</th>\n",
       "      <td>3.719150</td>\n",
       "      <td>0.016950</td>\n",
       "      <td>0.762088</td>\n",
       "      <td>0.006712</td>\n",
       "      <td>1</td>\n",
       "      <td>NaN</td>\n",
       "      <td>linear</td>\n",
       "      <td>NaN</td>\n",
       "      <td>{'C': 1, 'kernel': 'linear'}</td>\n",
       "      <td>0.794515</td>\n",
       "      <td>0.777740</td>\n",
       "      <td>0.769207</td>\n",
       "      <td>0.806866</td>\n",
       "      <td>0.794987</td>\n",
       "      <td>0.788663</td>\n",
       "      <td>0.013442</td>\n",
       "      <td>31</td>\n",
       "    </tr>\n",
       "    <tr>\n",
       "      <th>43</th>\n",
       "      <td>3.443801</td>\n",
       "      <td>0.054520</td>\n",
       "      <td>0.694034</td>\n",
       "      <td>0.010213</td>\n",
       "      <td>10</td>\n",
       "      <td>NaN</td>\n",
       "      <td>linear</td>\n",
       "      <td>NaN</td>\n",
       "      <td>{'C': 10, 'kernel': 'linear'}</td>\n",
       "      <td>0.796098</td>\n",
       "      <td>0.778043</td>\n",
       "      <td>0.761443</td>\n",
       "      <td>0.797961</td>\n",
       "      <td>0.801038</td>\n",
       "      <td>0.786916</td>\n",
       "      <td>0.015055</td>\n",
       "      <td>32</td>\n",
       "    </tr>\n",
       "    <tr>\n",
       "      <th>44</th>\n",
       "      <td>4.101634</td>\n",
       "      <td>0.064998</td>\n",
       "      <td>0.637148</td>\n",
       "      <td>0.008322</td>\n",
       "      <td>100</td>\n",
       "      <td>NaN</td>\n",
       "      <td>linear</td>\n",
       "      <td>NaN</td>\n",
       "      <td>{'C': 100, 'kernel': 'linear'}</td>\n",
       "      <td>0.761327</td>\n",
       "      <td>0.766577</td>\n",
       "      <td>0.727067</td>\n",
       "      <td>0.757101</td>\n",
       "      <td>0.784413</td>\n",
       "      <td>0.759297</td>\n",
       "      <td>0.018609</td>\n",
       "      <td>40</td>\n",
       "    </tr>\n",
       "  </tbody>\n",
       "</table>\n",
       "</div>"
      ],
      "text/plain": [
       "    mean_fit_time  std_fit_time  mean_score_time  std_score_time param_C  \\\n",
       "0        5.039074      0.539932         1.084443        0.137824    0.01   \n",
       "1        5.215988      0.705980         1.322391        0.175880    0.01   \n",
       "2        4.445880      0.304706         1.029146        0.195053    0.01   \n",
       "3        3.967206      0.421596         0.909293        0.283934    0.01   \n",
       "4        3.526559      0.047837         0.746694        0.035812     0.1   \n",
       "5        4.216654      0.803135         0.864650        0.236323     0.1   \n",
       "6        3.320361      0.124268         0.753972        0.125440     0.1   \n",
       "7        3.337753      0.297393         0.709501        0.021365     0.1   \n",
       "8        3.015586      0.064736         0.629329        0.006944       1   \n",
       "9        2.966673      0.046392         0.632719        0.011793       1   \n",
       "10       3.024519      0.042157         0.666901        0.032785       1   \n",
       "11       4.350833      0.262338         0.746236        0.096923       1   \n",
       "12       2.953889      0.056245         0.606752        0.019736      10   \n",
       "13       4.297134      0.744790         0.660979        0.098635      10   \n",
       "14       4.265828      0.055733         0.652250        0.009234      10   \n",
       "15       4.323724      0.064465         0.688815        0.005854      10   \n",
       "16       3.601414      0.597237         0.578432        0.011047     100   \n",
       "17       4.212325      0.065585         0.638055        0.025338     100   \n",
       "18       4.179946      0.012002         0.646275        0.003402     100   \n",
       "19       4.265499      0.026338         0.681446        0.001867     100   \n",
       "20       5.458152      0.379907         1.202195        0.010859    0.01   \n",
       "21       5.296148      0.042895         1.206062        0.013830    0.01   \n",
       "22       5.285720      0.020995         1.194243        0.008777    0.01   \n",
       "23       5.254705      0.019875         1.216841        0.047942    0.01   \n",
       "24       5.284798      0.041087         1.194330        0.011050     0.1   \n",
       "25       5.257853      0.015414         1.201370        0.016712     0.1   \n",
       "26       4.274784      0.023146         0.900817        0.006349     0.1   \n",
       "27       4.978092      0.027805         1.129751        0.008799     0.1   \n",
       "28       5.235480      0.035877         1.187557        0.007212       1   \n",
       "29       5.269587      0.025407         1.202053        0.022049       1   \n",
       "30       3.319111      0.037459         0.694866        0.006747       1   \n",
       "31       4.861923      0.030268         1.077564        0.014812       1   \n",
       "32       4.204879      0.035506         0.882360        0.015170      10   \n",
       "33       5.304426      0.066832         1.222597        0.052725      10   \n",
       "34       3.012858      0.028477         0.662362        0.025415      10   \n",
       "35       5.083494      0.050730         1.095987        0.007992      10   \n",
       "36       3.736061      0.070628         0.761327        0.009828     100   \n",
       "37       5.240755      0.030446         1.185978        0.005385     100   \n",
       "38       4.721265      0.586447         0.635489        0.004782     100   \n",
       "39       5.063542      0.011715         1.094405        0.004585     100   \n",
       "40       5.092362      0.021636         1.157266        0.008777    0.01   \n",
       "41       4.322761      0.025680         0.914648        0.008108     0.1   \n",
       "42       3.719150      0.016950         0.762088        0.006712       1   \n",
       "43       3.443801      0.054520         0.694034        0.010213      10   \n",
       "44       4.101634      0.064998         0.637148        0.008322     100   \n",
       "\n",
       "   param_degree param_kernel param_gamma  \\\n",
       "0             2         poly         NaN   \n",
       "1             3         poly         NaN   \n",
       "2             4         poly         NaN   \n",
       "3             5         poly         NaN   \n",
       "4             2         poly         NaN   \n",
       "5             3         poly         NaN   \n",
       "6             4         poly         NaN   \n",
       "7             5         poly         NaN   \n",
       "8             2         poly         NaN   \n",
       "9             3         poly         NaN   \n",
       "10            4         poly         NaN   \n",
       "11            5         poly         NaN   \n",
       "12            2         poly         NaN   \n",
       "13            3         poly         NaN   \n",
       "14            4         poly         NaN   \n",
       "15            5         poly         NaN   \n",
       "16            2         poly         NaN   \n",
       "17            3         poly         NaN   \n",
       "18            4         poly         NaN   \n",
       "19            5         poly         NaN   \n",
       "20          NaN          rbf        0.01   \n",
       "21          NaN          rbf      0.0001   \n",
       "22          NaN          rbf           1   \n",
       "23          NaN          rbf          10   \n",
       "24          NaN          rbf        0.01   \n",
       "25          NaN          rbf      0.0001   \n",
       "26          NaN          rbf           1   \n",
       "27          NaN          rbf          10   \n",
       "28          NaN          rbf        0.01   \n",
       "29          NaN          rbf      0.0001   \n",
       "30          NaN          rbf           1   \n",
       "31          NaN          rbf          10   \n",
       "32          NaN          rbf        0.01   \n",
       "33          NaN          rbf      0.0001   \n",
       "34          NaN          rbf           1   \n",
       "35          NaN          rbf          10   \n",
       "36          NaN          rbf        0.01   \n",
       "37          NaN          rbf      0.0001   \n",
       "38          NaN          rbf           1   \n",
       "39          NaN          rbf          10   \n",
       "40          NaN       linear         NaN   \n",
       "41          NaN       linear         NaN   \n",
       "42          NaN       linear         NaN   \n",
       "43          NaN       linear         NaN   \n",
       "44          NaN       linear         NaN   \n",
       "\n",
       "                                           params  split0_test_score  \\\n",
       "0      {'C': 0.01, 'degree': 2, 'kernel': 'poly'}           0.794189   \n",
       "1      {'C': 0.01, 'degree': 3, 'kernel': 'poly'}           0.825037   \n",
       "2      {'C': 0.01, 'degree': 4, 'kernel': 'poly'}           0.841754   \n",
       "3      {'C': 0.01, 'degree': 5, 'kernel': 'poly'}           0.849576   \n",
       "4       {'C': 0.1, 'degree': 2, 'kernel': 'poly'}           0.839297   \n",
       "5       {'C': 0.1, 'degree': 3, 'kernel': 'poly'}           0.851474   \n",
       "6       {'C': 0.1, 'degree': 4, 'kernel': 'poly'}           0.855921   \n",
       "7       {'C': 0.1, 'degree': 5, 'kernel': 'poly'}           0.855723   \n",
       "8         {'C': 1, 'degree': 2, 'kernel': 'poly'}           0.850112   \n",
       "9         {'C': 1, 'degree': 3, 'kernel': 'poly'}           0.846550   \n",
       "10        {'C': 1, 'degree': 4, 'kernel': 'poly'}           0.848203   \n",
       "11        {'C': 1, 'degree': 5, 'kernel': 'poly'}           0.848156   \n",
       "12       {'C': 10, 'degree': 2, 'kernel': 'poly'}           0.832057   \n",
       "13       {'C': 10, 'degree': 3, 'kernel': 'poly'}           0.834862   \n",
       "14       {'C': 10, 'degree': 4, 'kernel': 'poly'}           0.835968   \n",
       "15       {'C': 10, 'degree': 5, 'kernel': 'poly'}           0.841905   \n",
       "16      {'C': 100, 'degree': 2, 'kernel': 'poly'}           0.820032   \n",
       "17      {'C': 100, 'degree': 3, 'kernel': 'poly'}           0.828506   \n",
       "18      {'C': 100, 'degree': 4, 'kernel': 'poly'}           0.835968   \n",
       "19      {'C': 100, 'degree': 5, 'kernel': 'poly'}           0.841905   \n",
       "20    {'C': 0.01, 'gamma': 0.01, 'kernel': 'rbf'}           0.765482   \n",
       "21  {'C': 0.01, 'gamma': 0.0001, 'kernel': 'rbf'}           0.765215   \n",
       "22       {'C': 0.01, 'gamma': 1, 'kernel': 'rbf'}           0.779626   \n",
       "23      {'C': 0.01, 'gamma': 10, 'kernel': 'rbf'}           0.788531   \n",
       "24     {'C': 0.1, 'gamma': 0.01, 'kernel': 'rbf'}           0.765482   \n",
       "25   {'C': 0.1, 'gamma': 0.0001, 'kernel': 'rbf'}           0.765215   \n",
       "26        {'C': 0.1, 'gamma': 1, 'kernel': 'rbf'}           0.820742   \n",
       "27       {'C': 0.1, 'gamma': 10, 'kernel': 'rbf'}           0.801767   \n",
       "28       {'C': 1, 'gamma': 0.01, 'kernel': 'rbf'}           0.765913   \n",
       "29     {'C': 1, 'gamma': 0.0001, 'kernel': 'rbf'}           0.765215   \n",
       "30          {'C': 1, 'gamma': 1, 'kernel': 'rbf'}           0.852009   \n",
       "31         {'C': 1, 'gamma': 10, 'kernel': 'rbf'}           0.864092   \n",
       "32      {'C': 10, 'gamma': 0.01, 'kernel': 'rbf'}           0.785796   \n",
       "33    {'C': 10, 'gamma': 0.0001, 'kernel': 'rbf'}           0.765215   \n",
       "34         {'C': 10, 'gamma': 1, 'kernel': 'rbf'}           0.846864   \n",
       "35        {'C': 10, 'gamma': 10, 'kernel': 'rbf'}           0.871077   \n",
       "36     {'C': 100, 'gamma': 0.01, 'kernel': 'rbf'}           0.806167   \n",
       "37   {'C': 100, 'gamma': 0.0001, 'kernel': 'rbf'}           0.765704   \n",
       "38        {'C': 100, 'gamma': 1, 'kernel': 'rbf'}           0.838634   \n",
       "39       {'C': 100, 'gamma': 10, 'kernel': 'rbf'}           0.871077   \n",
       "40                {'C': 0.01, 'kernel': 'linear'}           0.765215   \n",
       "41                 {'C': 0.1, 'kernel': 'linear'}           0.779009   \n",
       "42                   {'C': 1, 'kernel': 'linear'}           0.794515   \n",
       "43                  {'C': 10, 'kernel': 'linear'}           0.796098   \n",
       "44                 {'C': 100, 'kernel': 'linear'}           0.761327   \n",
       "\n",
       "    split1_test_score  split2_test_score  split3_test_score  \\\n",
       "0            0.786937           0.784608           0.809078   \n",
       "1            0.813606           0.817948           0.840322   \n",
       "2            0.838366           0.840974           0.861054   \n",
       "3            0.854931           0.855339           0.870833   \n",
       "4            0.840508           0.837144           0.861392   \n",
       "5            0.860100           0.860379           0.875675   \n",
       "6            0.868632           0.871426           0.880227   \n",
       "7            0.872765           0.872590           0.881333   \n",
       "8            0.859401           0.864267           0.877375   \n",
       "9            0.864092           0.864558           0.877922   \n",
       "10           0.863219           0.861217           0.863510   \n",
       "11           0.859448           0.856479           0.854850   \n",
       "12           0.850566           0.848866           0.854791   \n",
       "13           0.840636           0.840264           0.838320   \n",
       "14           0.843663           0.842068           0.840764   \n",
       "15           0.851357           0.849541           0.846608   \n",
       "16           0.821685           0.818449           0.811161   \n",
       "17           0.832359           0.831836           0.830415   \n",
       "18           0.843663           0.842068           0.840764   \n",
       "19           0.851357           0.849541           0.846608   \n",
       "20           0.751793           0.738464           0.767205   \n",
       "21           0.751502           0.737847           0.766588   \n",
       "22           0.771524           0.765133           0.794794   \n",
       "23           0.789579           0.788555           0.814863   \n",
       "24           0.751793           0.738464           0.767205   \n",
       "25           0.751502           0.737847           0.766588   \n",
       "26           0.809508           0.813280           0.835537   \n",
       "27           0.805318           0.806342           0.830089   \n",
       "28           0.752619           0.739290           0.768334   \n",
       "29           0.751502           0.737847           0.766588   \n",
       "30           0.858342           0.858051           0.875570   \n",
       "31           0.871845           0.869238           0.879982   \n",
       "32           0.770651           0.763899           0.799299   \n",
       "33           0.751502           0.737847           0.766588   \n",
       "34           0.864837           0.863417           0.876152   \n",
       "35           0.878970           0.877887           0.878492   \n",
       "36           0.787018           0.780336           0.817820   \n",
       "37           0.752154           0.738732           0.767822   \n",
       "38           0.841684           0.839670           0.839379   \n",
       "39           0.878970           0.877852           0.878492   \n",
       "40           0.751513           0.737847           0.766577   \n",
       "41           0.765354           0.757415           0.791651   \n",
       "42           0.777740           0.769207           0.806866   \n",
       "43           0.778043           0.761443           0.797961   \n",
       "44           0.766577           0.727067           0.757101   \n",
       "\n",
       "    split4_test_score  mean_test_score  std_test_score  rank_test_score  \n",
       "0            0.800874         0.795137        0.009014               30  \n",
       "1            0.824926         0.824368        0.009081               24  \n",
       "2            0.844360         0.845302        0.008105               18  \n",
       "3            0.856543         0.857444        0.007109               12  \n",
       "4            0.848173         0.845303        0.008862               17  \n",
       "5            0.866185         0.862762        0.007983                9  \n",
       "6            0.873483         0.869938        0.007985                5  \n",
       "7            0.874777         0.871438        0.008475                4  \n",
       "8            0.870475         0.864326        0.009321                8  \n",
       "9            0.872201         0.865065        0.010585                6  \n",
       "10           0.867969         0.860824        0.006685               11  \n",
       "11           0.861160         0.856019        0.004508               13  \n",
       "12           0.860087         0.849273        0.009441               14  \n",
       "13           0.852323         0.841281        0.005888               22  \n",
       "14           0.853629         0.843218        0.005805               19  \n",
       "15           0.856951         0.849273        0.004995               15  \n",
       "16           0.842716         0.822809        0.010583               25  \n",
       "17           0.849467         0.834517        0.007593               23  \n",
       "18           0.853629         0.843218        0.005805               19  \n",
       "19           0.856951         0.849273        0.004995               15  \n",
       "20           0.775424         0.759674        0.013042               38  \n",
       "21           0.775133         0.759257        0.013113               41  \n",
       "22           0.787957         0.779807        0.010724               34  \n",
       "23           0.799813         0.796268        0.010222               29  \n",
       "24           0.775424         0.759674        0.013042               38  \n",
       "25           0.775133         0.759257        0.013113               41  \n",
       "26           0.823119         0.820437        0.009011               26  \n",
       "27           0.813314         0.811366        0.010083               27  \n",
       "28           0.775529         0.760337        0.012871               36  \n",
       "29           0.775133         0.759257        0.013113               41  \n",
       "30           0.866803         0.862155        0.008196               10  \n",
       "31           0.876176         0.872267        0.005495                3  \n",
       "32           0.793483         0.782626        0.013416               33  \n",
       "33           0.775133         0.759257        0.013113               41  \n",
       "34           0.873763         0.865007        0.010321                7  \n",
       "35           0.873495         0.875984        0.003134                1  \n",
       "36           0.801504         0.798569        0.013437               28  \n",
       "37           0.775331         0.759948        0.012982               37  \n",
       "38           0.854911         0.842855        0.006112               21  \n",
       "39           0.873495         0.875977        0.003130                2  \n",
       "40           0.775121         0.759254        0.013108               45  \n",
       "41           0.789309         0.776548        0.013329               35  \n",
       "42           0.794987         0.788663        0.013442               31  \n",
       "43           0.801038         0.786916        0.015055               32  \n",
       "44           0.784413         0.759297        0.018609               40  "
      ]
     },
     "execution_count": 275,
     "metadata": {},
     "output_type": "execute_result"
    }
   ],
   "source": [
    "res"
   ]
  },
  {
   "cell_type": "code",
   "execution_count": 311,
   "metadata": {},
   "outputs": [
    {
     "name": "stdout",
     "output_type": "stream",
     "text": [
      "{'C': 10, 'gamma': 10, 'kernel': 'rbf'} ROC-AUC: 0.8759840771196457\n"
     ]
    }
   ],
   "source": [
    "print(clf.best_params_, \"ROC-AUC:\", clf.best_score_)"
   ]
  },
  {
   "cell_type": "code",
   "execution_count": 276,
   "metadata": {},
   "outputs": [
    {
     "data": {
      "text/plain": [
       "GridSearchCV(cv=None, error_score=nan,\n",
       "             estimator=SVC(C=1.0, break_ties=False, cache_size=200,\n",
       "                           class_weight='balanced', coef0=0.0,\n",
       "                           decision_function_shape='ovr', degree=3,\n",
       "                           gamma='scale', kernel='rbf', max_iter=-1,\n",
       "                           probability=False, random_state=None, shrinking=True,\n",
       "                           tol=0.001, verbose=False),\n",
       "             iid='deprecated', n_jobs=None,\n",
       "             param_grid=[{'C': [0.01, 0.1, 1, 10, 100],\n",
       "                          'gamma': [10, 100, 1000], 'kernel': ['rbf']}],\n",
       "             pre_dispatch='2*n_jobs', refit=True, return_train_score=False,\n",
       "             scoring='roc_auc', verbose=0)"
      ]
     },
     "execution_count": 276,
     "metadata": {},
     "output_type": "execute_result"
    }
   ],
   "source": [
    "parameters_rbf = [{'kernel': ['rbf'], 'gamma': [10, 100, 1000], 'C': [0.01, 0.1, 1, 10, 100]}]\n",
    "\n",
    "clf_rbf = GridSearchCV(svc, parameters_rbf, scoring = 'roc_auc')\n",
    "clf_rbf.fit(Xnormalized, Ytrain)"
   ]
  },
  {
   "cell_type": "code",
   "execution_count": 277,
   "metadata": {},
   "outputs": [],
   "source": [
    "res_rbf = pd.DataFrame(clf_rbf.cv_results_)"
   ]
  },
  {
   "cell_type": "code",
   "execution_count": 278,
   "metadata": {},
   "outputs": [
    {
     "data": {
      "text/html": [
       "<div>\n",
       "<style scoped>\n",
       "    .dataframe tbody tr th:only-of-type {\n",
       "        vertical-align: middle;\n",
       "    }\n",
       "\n",
       "    .dataframe tbody tr th {\n",
       "        vertical-align: top;\n",
       "    }\n",
       "\n",
       "    .dataframe thead th {\n",
       "        text-align: right;\n",
       "    }\n",
       "</style>\n",
       "<table border=\"1\" class=\"dataframe\">\n",
       "  <thead>\n",
       "    <tr style=\"text-align: right;\">\n",
       "      <th></th>\n",
       "      <th>mean_fit_time</th>\n",
       "      <th>std_fit_time</th>\n",
       "      <th>mean_score_time</th>\n",
       "      <th>std_score_time</th>\n",
       "      <th>param_C</th>\n",
       "      <th>param_gamma</th>\n",
       "      <th>param_kernel</th>\n",
       "      <th>params</th>\n",
       "      <th>split0_test_score</th>\n",
       "      <th>split1_test_score</th>\n",
       "      <th>split2_test_score</th>\n",
       "      <th>split3_test_score</th>\n",
       "      <th>split4_test_score</th>\n",
       "      <th>mean_test_score</th>\n",
       "      <th>std_test_score</th>\n",
       "      <th>rank_test_score</th>\n",
       "    </tr>\n",
       "  </thead>\n",
       "  <tbody>\n",
       "    <tr>\n",
       "      <th>0</th>\n",
       "      <td>5.910848</td>\n",
       "      <td>0.657235</td>\n",
       "      <td>1.240100</td>\n",
       "      <td>0.023355</td>\n",
       "      <td>0.01</td>\n",
       "      <td>10</td>\n",
       "      <td>rbf</td>\n",
       "      <td>{'C': 0.01, 'gamma': 10, 'kernel': 'rbf'}</td>\n",
       "      <td>0.788531</td>\n",
       "      <td>0.789579</td>\n",
       "      <td>0.788555</td>\n",
       "      <td>0.814863</td>\n",
       "      <td>0.799813</td>\n",
       "      <td>0.796268</td>\n",
       "      <td>0.010222</td>\n",
       "      <td>5</td>\n",
       "    </tr>\n",
       "    <tr>\n",
       "      <th>1</th>\n",
       "      <td>5.381814</td>\n",
       "      <td>0.042042</td>\n",
       "      <td>1.217248</td>\n",
       "      <td>0.009867</td>\n",
       "      <td>0.01</td>\n",
       "      <td>100</td>\n",
       "      <td>rbf</td>\n",
       "      <td>{'C': 0.01, 'gamma': 100, 'kernel': 'rbf'}</td>\n",
       "      <td>0.811627</td>\n",
       "      <td>0.779940</td>\n",
       "      <td>0.785115</td>\n",
       "      <td>0.778561</td>\n",
       "      <td>0.739539</td>\n",
       "      <td>0.778957</td>\n",
       "      <td>0.023066</td>\n",
       "      <td>10</td>\n",
       "    </tr>\n",
       "    <tr>\n",
       "      <th>2</th>\n",
       "      <td>6.983186</td>\n",
       "      <td>1.390937</td>\n",
       "      <td>2.157558</td>\n",
       "      <td>1.006919</td>\n",
       "      <td>0.01</td>\n",
       "      <td>1000</td>\n",
       "      <td>rbf</td>\n",
       "      <td>{'C': 0.01, 'gamma': 1000, 'kernel': 'rbf'}</td>\n",
       "      <td>0.530220</td>\n",
       "      <td>0.533491</td>\n",
       "      <td>0.540825</td>\n",
       "      <td>0.530802</td>\n",
       "      <td>0.531758</td>\n",
       "      <td>0.533419</td>\n",
       "      <td>0.003865</td>\n",
       "      <td>15</td>\n",
       "    </tr>\n",
       "    <tr>\n",
       "      <th>3</th>\n",
       "      <td>6.282929</td>\n",
       "      <td>0.781535</td>\n",
       "      <td>1.277291</td>\n",
       "      <td>0.142581</td>\n",
       "      <td>0.1</td>\n",
       "      <td>10</td>\n",
       "      <td>rbf</td>\n",
       "      <td>{'C': 0.1, 'gamma': 10, 'kernel': 'rbf'}</td>\n",
       "      <td>0.801767</td>\n",
       "      <td>0.805318</td>\n",
       "      <td>0.806342</td>\n",
       "      <td>0.830089</td>\n",
       "      <td>0.813314</td>\n",
       "      <td>0.811366</td>\n",
       "      <td>0.010083</td>\n",
       "      <td>4</td>\n",
       "    </tr>\n",
       "    <tr>\n",
       "      <th>4</th>\n",
       "      <td>6.006784</td>\n",
       "      <td>0.408645</td>\n",
       "      <td>1.395301</td>\n",
       "      <td>0.105911</td>\n",
       "      <td>0.1</td>\n",
       "      <td>100</td>\n",
       "      <td>rbf</td>\n",
       "      <td>{'C': 0.1, 'gamma': 100, 'kernel': 'rbf'}</td>\n",
       "      <td>0.812488</td>\n",
       "      <td>0.779999</td>\n",
       "      <td>0.785202</td>\n",
       "      <td>0.778340</td>\n",
       "      <td>0.739539</td>\n",
       "      <td>0.779114</td>\n",
       "      <td>0.023317</td>\n",
       "      <td>9</td>\n",
       "    </tr>\n",
       "    <tr>\n",
       "      <th>5</th>\n",
       "      <td>5.497036</td>\n",
       "      <td>0.390978</td>\n",
       "      <td>1.371293</td>\n",
       "      <td>0.121710</td>\n",
       "      <td>0.1</td>\n",
       "      <td>1000</td>\n",
       "      <td>rbf</td>\n",
       "      <td>{'C': 0.1, 'gamma': 1000, 'kernel': 'rbf'}</td>\n",
       "      <td>0.532280</td>\n",
       "      <td>0.536855</td>\n",
       "      <td>0.544148</td>\n",
       "      <td>0.536087</td>\n",
       "      <td>0.538496</td>\n",
       "      <td>0.537573</td>\n",
       "      <td>0.003868</td>\n",
       "      <td>14</td>\n",
       "    </tr>\n",
       "    <tr>\n",
       "      <th>6</th>\n",
       "      <td>6.708677</td>\n",
       "      <td>2.322383</td>\n",
       "      <td>1.415333</td>\n",
       "      <td>0.319692</td>\n",
       "      <td>1</td>\n",
       "      <td>10</td>\n",
       "      <td>rbf</td>\n",
       "      <td>{'C': 1, 'gamma': 10, 'kernel': 'rbf'}</td>\n",
       "      <td>0.864092</td>\n",
       "      <td>0.871845</td>\n",
       "      <td>0.869238</td>\n",
       "      <td>0.879982</td>\n",
       "      <td>0.876176</td>\n",
       "      <td>0.872267</td>\n",
       "      <td>0.005495</td>\n",
       "      <td>3</td>\n",
       "    </tr>\n",
       "    <tr>\n",
       "      <th>7</th>\n",
       "      <td>7.288317</td>\n",
       "      <td>1.933161</td>\n",
       "      <td>1.405328</td>\n",
       "      <td>0.124197</td>\n",
       "      <td>1</td>\n",
       "      <td>100</td>\n",
       "      <td>rbf</td>\n",
       "      <td>{'C': 1, 'gamma': 100, 'kernel': 'rbf'}</td>\n",
       "      <td>0.812098</td>\n",
       "      <td>0.778474</td>\n",
       "      <td>0.787059</td>\n",
       "      <td>0.780895</td>\n",
       "      <td>0.740006</td>\n",
       "      <td>0.779706</td>\n",
       "      <td>0.023162</td>\n",
       "      <td>8</td>\n",
       "    </tr>\n",
       "    <tr>\n",
       "      <th>8</th>\n",
       "      <td>6.949640</td>\n",
       "      <td>2.395789</td>\n",
       "      <td>1.322160</td>\n",
       "      <td>0.037066</td>\n",
       "      <td>1</td>\n",
       "      <td>1000</td>\n",
       "      <td>rbf</td>\n",
       "      <td>{'C': 1, 'gamma': 1000, 'kernel': 'rbf'}</td>\n",
       "      <td>0.533601</td>\n",
       "      <td>0.540190</td>\n",
       "      <td>0.553467</td>\n",
       "      <td>0.545440</td>\n",
       "      <td>0.538496</td>\n",
       "      <td>0.542239</td>\n",
       "      <td>0.006769</td>\n",
       "      <td>11</td>\n",
       "    </tr>\n",
       "    <tr>\n",
       "      <th>9</th>\n",
       "      <td>6.297954</td>\n",
       "      <td>0.664606</td>\n",
       "      <td>1.397069</td>\n",
       "      <td>0.237845</td>\n",
       "      <td>10</td>\n",
       "      <td>10</td>\n",
       "      <td>rbf</td>\n",
       "      <td>{'C': 10, 'gamma': 10, 'kernel': 'rbf'}</td>\n",
       "      <td>0.871077</td>\n",
       "      <td>0.878970</td>\n",
       "      <td>0.877887</td>\n",
       "      <td>0.878492</td>\n",
       "      <td>0.873495</td>\n",
       "      <td>0.875984</td>\n",
       "      <td>0.003134</td>\n",
       "      <td>1</td>\n",
       "    </tr>\n",
       "    <tr>\n",
       "      <th>10</th>\n",
       "      <td>6.319961</td>\n",
       "      <td>0.797007</td>\n",
       "      <td>1.287857</td>\n",
       "      <td>0.069191</td>\n",
       "      <td>10</td>\n",
       "      <td>100</td>\n",
       "      <td>rbf</td>\n",
       "      <td>{'C': 10, 'gamma': 100, 'kernel': 'rbf'}</td>\n",
       "      <td>0.812832</td>\n",
       "      <td>0.778381</td>\n",
       "      <td>0.787047</td>\n",
       "      <td>0.780883</td>\n",
       "      <td>0.739924</td>\n",
       "      <td>0.779813</td>\n",
       "      <td>0.023396</td>\n",
       "      <td>6</td>\n",
       "    </tr>\n",
       "    <tr>\n",
       "      <th>11</th>\n",
       "      <td>5.558198</td>\n",
       "      <td>0.044332</td>\n",
       "      <td>1.302245</td>\n",
       "      <td>0.027359</td>\n",
       "      <td>10</td>\n",
       "      <td>1000</td>\n",
       "      <td>rbf</td>\n",
       "      <td>{'C': 10, 'gamma': 1000, 'kernel': 'rbf'}</td>\n",
       "      <td>0.533601</td>\n",
       "      <td>0.540190</td>\n",
       "      <td>0.553467</td>\n",
       "      <td>0.545440</td>\n",
       "      <td>0.538496</td>\n",
       "      <td>0.542239</td>\n",
       "      <td>0.006769</td>\n",
       "      <td>11</td>\n",
       "    </tr>\n",
       "    <tr>\n",
       "      <th>12</th>\n",
       "      <td>5.458111</td>\n",
       "      <td>0.047509</td>\n",
       "      <td>1.178176</td>\n",
       "      <td>0.016851</td>\n",
       "      <td>100</td>\n",
       "      <td>10</td>\n",
       "      <td>rbf</td>\n",
       "      <td>{'C': 100, 'gamma': 10, 'kernel': 'rbf'}</td>\n",
       "      <td>0.871077</td>\n",
       "      <td>0.878970</td>\n",
       "      <td>0.877852</td>\n",
       "      <td>0.878492</td>\n",
       "      <td>0.873495</td>\n",
       "      <td>0.875977</td>\n",
       "      <td>0.003130</td>\n",
       "      <td>2</td>\n",
       "    </tr>\n",
       "    <tr>\n",
       "      <th>13</th>\n",
       "      <td>5.889350</td>\n",
       "      <td>0.038383</td>\n",
       "      <td>1.261165</td>\n",
       "      <td>0.013463</td>\n",
       "      <td>100</td>\n",
       "      <td>100</td>\n",
       "      <td>rbf</td>\n",
       "      <td>{'C': 100, 'gamma': 100, 'kernel': 'rbf'}</td>\n",
       "      <td>0.812832</td>\n",
       "      <td>0.778381</td>\n",
       "      <td>0.787047</td>\n",
       "      <td>0.780883</td>\n",
       "      <td>0.739924</td>\n",
       "      <td>0.779813</td>\n",
       "      <td>0.023396</td>\n",
       "      <td>6</td>\n",
       "    </tr>\n",
       "    <tr>\n",
       "      <th>14</th>\n",
       "      <td>5.545138</td>\n",
       "      <td>0.033347</td>\n",
       "      <td>1.294463</td>\n",
       "      <td>0.039997</td>\n",
       "      <td>100</td>\n",
       "      <td>1000</td>\n",
       "      <td>rbf</td>\n",
       "      <td>{'C': 100, 'gamma': 1000, 'kernel': 'rbf'}</td>\n",
       "      <td>0.533601</td>\n",
       "      <td>0.540190</td>\n",
       "      <td>0.553467</td>\n",
       "      <td>0.545440</td>\n",
       "      <td>0.538496</td>\n",
       "      <td>0.542239</td>\n",
       "      <td>0.006769</td>\n",
       "      <td>11</td>\n",
       "    </tr>\n",
       "  </tbody>\n",
       "</table>\n",
       "</div>"
      ],
      "text/plain": [
       "    mean_fit_time  std_fit_time  mean_score_time  std_score_time param_C  \\\n",
       "0        5.910848      0.657235         1.240100        0.023355    0.01   \n",
       "1        5.381814      0.042042         1.217248        0.009867    0.01   \n",
       "2        6.983186      1.390937         2.157558        1.006919    0.01   \n",
       "3        6.282929      0.781535         1.277291        0.142581     0.1   \n",
       "4        6.006784      0.408645         1.395301        0.105911     0.1   \n",
       "5        5.497036      0.390978         1.371293        0.121710     0.1   \n",
       "6        6.708677      2.322383         1.415333        0.319692       1   \n",
       "7        7.288317      1.933161         1.405328        0.124197       1   \n",
       "8        6.949640      2.395789         1.322160        0.037066       1   \n",
       "9        6.297954      0.664606         1.397069        0.237845      10   \n",
       "10       6.319961      0.797007         1.287857        0.069191      10   \n",
       "11       5.558198      0.044332         1.302245        0.027359      10   \n",
       "12       5.458111      0.047509         1.178176        0.016851     100   \n",
       "13       5.889350      0.038383         1.261165        0.013463     100   \n",
       "14       5.545138      0.033347         1.294463        0.039997     100   \n",
       "\n",
       "   param_gamma param_kernel                                       params  \\\n",
       "0           10          rbf    {'C': 0.01, 'gamma': 10, 'kernel': 'rbf'}   \n",
       "1          100          rbf   {'C': 0.01, 'gamma': 100, 'kernel': 'rbf'}   \n",
       "2         1000          rbf  {'C': 0.01, 'gamma': 1000, 'kernel': 'rbf'}   \n",
       "3           10          rbf     {'C': 0.1, 'gamma': 10, 'kernel': 'rbf'}   \n",
       "4          100          rbf    {'C': 0.1, 'gamma': 100, 'kernel': 'rbf'}   \n",
       "5         1000          rbf   {'C': 0.1, 'gamma': 1000, 'kernel': 'rbf'}   \n",
       "6           10          rbf       {'C': 1, 'gamma': 10, 'kernel': 'rbf'}   \n",
       "7          100          rbf      {'C': 1, 'gamma': 100, 'kernel': 'rbf'}   \n",
       "8         1000          rbf     {'C': 1, 'gamma': 1000, 'kernel': 'rbf'}   \n",
       "9           10          rbf      {'C': 10, 'gamma': 10, 'kernel': 'rbf'}   \n",
       "10         100          rbf     {'C': 10, 'gamma': 100, 'kernel': 'rbf'}   \n",
       "11        1000          rbf    {'C': 10, 'gamma': 1000, 'kernel': 'rbf'}   \n",
       "12          10          rbf     {'C': 100, 'gamma': 10, 'kernel': 'rbf'}   \n",
       "13         100          rbf    {'C': 100, 'gamma': 100, 'kernel': 'rbf'}   \n",
       "14        1000          rbf   {'C': 100, 'gamma': 1000, 'kernel': 'rbf'}   \n",
       "\n",
       "    split0_test_score  split1_test_score  split2_test_score  \\\n",
       "0            0.788531           0.789579           0.788555   \n",
       "1            0.811627           0.779940           0.785115   \n",
       "2            0.530220           0.533491           0.540825   \n",
       "3            0.801767           0.805318           0.806342   \n",
       "4            0.812488           0.779999           0.785202   \n",
       "5            0.532280           0.536855           0.544148   \n",
       "6            0.864092           0.871845           0.869238   \n",
       "7            0.812098           0.778474           0.787059   \n",
       "8            0.533601           0.540190           0.553467   \n",
       "9            0.871077           0.878970           0.877887   \n",
       "10           0.812832           0.778381           0.787047   \n",
       "11           0.533601           0.540190           0.553467   \n",
       "12           0.871077           0.878970           0.877852   \n",
       "13           0.812832           0.778381           0.787047   \n",
       "14           0.533601           0.540190           0.553467   \n",
       "\n",
       "    split3_test_score  split4_test_score  mean_test_score  std_test_score  \\\n",
       "0            0.814863           0.799813         0.796268        0.010222   \n",
       "1            0.778561           0.739539         0.778957        0.023066   \n",
       "2            0.530802           0.531758         0.533419        0.003865   \n",
       "3            0.830089           0.813314         0.811366        0.010083   \n",
       "4            0.778340           0.739539         0.779114        0.023317   \n",
       "5            0.536087           0.538496         0.537573        0.003868   \n",
       "6            0.879982           0.876176         0.872267        0.005495   \n",
       "7            0.780895           0.740006         0.779706        0.023162   \n",
       "8            0.545440           0.538496         0.542239        0.006769   \n",
       "9            0.878492           0.873495         0.875984        0.003134   \n",
       "10           0.780883           0.739924         0.779813        0.023396   \n",
       "11           0.545440           0.538496         0.542239        0.006769   \n",
       "12           0.878492           0.873495         0.875977        0.003130   \n",
       "13           0.780883           0.739924         0.779813        0.023396   \n",
       "14           0.545440           0.538496         0.542239        0.006769   \n",
       "\n",
       "    rank_test_score  \n",
       "0                 5  \n",
       "1                10  \n",
       "2                15  \n",
       "3                 4  \n",
       "4                 9  \n",
       "5                14  \n",
       "6                 3  \n",
       "7                 8  \n",
       "8                11  \n",
       "9                 1  \n",
       "10                6  \n",
       "11               11  \n",
       "12                2  \n",
       "13                6  \n",
       "14               11  "
      ]
     },
     "execution_count": 278,
     "metadata": {},
     "output_type": "execute_result"
    }
   ],
   "source": [
    "res_rbf\n",
    "# RBF gamma = 10, C=10 is still the best followed by gamma = 10, C=100"
   ]
  },
  {
   "cell_type": "code",
   "execution_count": 365,
   "metadata": {},
   "outputs": [
    {
     "name": "stdout",
     "output_type": "stream",
     "text": [
      "[0.5234214937604768, 0.5294165580182529, 0.5348237567517228, 0.5267275097783573, 0.5289303410084524]\n",
      "AUC-ROC: 0.53 (+/- 0.01)\n",
      "[0.41393724232707285, 0.41538439289639617, 0.42111400840214397, 0.414043583535109, 0.4181373078446196]\n",
      "AUC-PR: 0.42 (+/- 0.01)\n",
      "[0.6166666666666667, 0.615, 0.6183333333333333, 0.615, 0.6216666666666667]\n",
      "Accuracy: 0.62 (+/- 0.00)\n"
     ]
    }
   ],
   "source": [
    "# setting RBF, gamma = 10, C=10 to get full score breakdown\n",
    "\n",
    "RBF_SVM = SVC(C = 10 , class_weight = 'balanced', kernel = 'rbf', gamma = 10)\n",
    "\n",
    "RBF_scores, RBF_stds = evaluation_metrics(Xnormalized, classifier = RBF_SVM, has_decision_function = True)"
   ]
  },
  {
   "cell_type": "code",
   "execution_count": 287,
   "metadata": {},
   "outputs": [
    {
     "data": {
      "text/plain": [
       "{'roc': 0.8759840771196457,\n",
       " 'pr': 0.7950268358072782,\n",
       " 'accuracy': 0.7963333333333333}"
      ]
     },
     "execution_count": 287,
     "metadata": {},
     "output_type": "execute_result"
    }
   ],
   "source": [
    "RBF_scores"
   ]
  },
  {
   "cell_type": "code",
   "execution_count": 288,
   "metadata": {},
   "outputs": [
    {
     "data": {
      "text/plain": [
       "{'roc': 0.003133741235300407,\n",
       " 'pr': 0.008070402959498362,\n",
       " 'accuracy': 0.009510228411791397}"
      ]
     },
     "execution_count": 288,
     "metadata": {},
     "output_type": "execute_result"
    }
   ],
   "source": [
    "RBF_stds"
   ]
  },
  {
   "cell_type": "markdown",
   "metadata": {},
   "source": [
    "### Logistic Regression"
   ]
  },
  {
   "cell_type": "code",
   "execution_count": 339,
   "metadata": {},
   "outputs": [],
   "source": [
    "logistic = LogisticRegression(max_iter=1000)\n",
    "\n",
    "#logistic_scores, logistic_stds = evaluation_metrics(Xnormalized, classifier = logistic, has_decision_function = True)"
   ]
  },
  {
   "cell_type": "code",
   "execution_count": 363,
   "metadata": {},
   "outputs": [
    {
     "name": "stderr",
     "output_type": "stream",
     "text": [
      "/Users/MacBook_Retina_2015_256Gb/anaconda3/lib/python3.7/site-packages/sklearn/linear_model/_logistic.py:940: ConvergenceWarning: lbfgs failed to converge (status=1):\n",
      "STOP: TOTAL NO. of ITERATIONS REACHED LIMIT.\n",
      "\n",
      "Increase the number of iterations (max_iter) or scale the data as shown in:\n",
      "    https://scikit-learn.org/stable/modules/preprocessing.html\n",
      "Please also refer to the documentation for alternative solver options:\n",
      "    https://scikit-learn.org/stable/modules/linear_model.html#logistic-regression\n",
      "  extra_warning_msg=_LOGISTIC_SOLVER_CONVERGENCE_MSG)\n"
     ]
    },
    {
     "data": {
      "text/plain": [
       "GridSearchCV(cv=None, error_score=nan,\n",
       "             estimator=LogisticRegression(C=1.0, class_weight=None, dual=False,\n",
       "                                          fit_intercept=True,\n",
       "                                          intercept_scaling=1, l1_ratio=None,\n",
       "                                          max_iter=1000, multi_class='auto',\n",
       "                                          n_jobs=None, penalty='l2',\n",
       "                                          random_state=None, solver='lbfgs',\n",
       "                                          tol=0.0001, verbose=0,\n",
       "                                          warm_start=False),\n",
       "             iid='deprecated', n_jobs=None,\n",
       "             param_grid=[{'C': [0.01, 0.1, 1, 10, 100]}],\n",
       "             pre_dispatch='2*n_jobs', refit=True, return_train_score=False,\n",
       "             scoring='roc_auc', verbose=0)"
      ]
     },
     "execution_count": 363,
     "metadata": {},
     "output_type": "execute_result"
    }
   ],
   "source": [
    "# Grid search for C\n",
    "\n",
    "parameters_logistic = [{'C': [0.01, 0.1, 1, 10, 100]}]\n",
    "\n",
    "clf_logistic = GridSearchCV(logistic, parameters_logistic, scoring = 'roc_auc')\n",
    "clf_logistic.fit(Xnormalized, Ytrain)"
   ]
  },
  {
   "cell_type": "code",
   "execution_count": 334,
   "metadata": {},
   "outputs": [
    {
     "data": {
      "text/html": [
       "<div>\n",
       "<style scoped>\n",
       "    .dataframe tbody tr th:only-of-type {\n",
       "        vertical-align: middle;\n",
       "    }\n",
       "\n",
       "    .dataframe tbody tr th {\n",
       "        vertical-align: top;\n",
       "    }\n",
       "\n",
       "    .dataframe thead th {\n",
       "        text-align: right;\n",
       "    }\n",
       "</style>\n",
       "<table border=\"1\" class=\"dataframe\">\n",
       "  <thead>\n",
       "    <tr style=\"text-align: right;\">\n",
       "      <th></th>\n",
       "      <th>mean_fit_time</th>\n",
       "      <th>std_fit_time</th>\n",
       "      <th>mean_score_time</th>\n",
       "      <th>std_score_time</th>\n",
       "      <th>param_C</th>\n",
       "      <th>params</th>\n",
       "      <th>split0_test_score</th>\n",
       "      <th>split1_test_score</th>\n",
       "      <th>split2_test_score</th>\n",
       "      <th>split3_test_score</th>\n",
       "      <th>split4_test_score</th>\n",
       "      <th>mean_test_score</th>\n",
       "      <th>std_test_score</th>\n",
       "      <th>rank_test_score</th>\n",
       "    </tr>\n",
       "  </thead>\n",
       "  <tbody>\n",
       "    <tr>\n",
       "      <th>0</th>\n",
       "      <td>0.049309</td>\n",
       "      <td>0.014367</td>\n",
       "      <td>0.003867</td>\n",
       "      <td>0.001460</td>\n",
       "      <td>0.01</td>\n",
       "      <td>{'C': 0.01}</td>\n",
       "      <td>0.766612</td>\n",
       "      <td>0.753062</td>\n",
       "      <td>0.740617</td>\n",
       "      <td>0.769871</td>\n",
       "      <td>0.776240</td>\n",
       "      <td>0.761280</td>\n",
       "      <td>0.012810</td>\n",
       "      <td>5</td>\n",
       "    </tr>\n",
       "    <tr>\n",
       "      <th>1</th>\n",
       "      <td>0.047800</td>\n",
       "      <td>0.002849</td>\n",
       "      <td>0.002099</td>\n",
       "      <td>0.000071</td>\n",
       "      <td>0.1</td>\n",
       "      <td>{'C': 0.1}</td>\n",
       "      <td>0.774213</td>\n",
       "      <td>0.759359</td>\n",
       "      <td>0.750210</td>\n",
       "      <td>0.783246</td>\n",
       "      <td>0.783352</td>\n",
       "      <td>0.770076</td>\n",
       "      <td>0.013239</td>\n",
       "      <td>4</td>\n",
       "    </tr>\n",
       "    <tr>\n",
       "      <th>2</th>\n",
       "      <td>0.149180</td>\n",
       "      <td>0.070593</td>\n",
       "      <td>0.002799</td>\n",
       "      <td>0.000934</td>\n",
       "      <td>1</td>\n",
       "      <td>{'C': 1}</td>\n",
       "      <td>0.789183</td>\n",
       "      <td>0.773107</td>\n",
       "      <td>0.765343</td>\n",
       "      <td>0.803653</td>\n",
       "      <td>0.792585</td>\n",
       "      <td>0.784774</td>\n",
       "      <td>0.013788</td>\n",
       "      <td>2</td>\n",
       "    </tr>\n",
       "    <tr>\n",
       "      <th>3</th>\n",
       "      <td>0.384418</td>\n",
       "      <td>0.082043</td>\n",
       "      <td>0.002687</td>\n",
       "      <td>0.000731</td>\n",
       "      <td>10</td>\n",
       "      <td>{'C': 10}</td>\n",
       "      <td>0.799031</td>\n",
       "      <td>0.778252</td>\n",
       "      <td>0.772711</td>\n",
       "      <td>0.804456</td>\n",
       "      <td>0.799021</td>\n",
       "      <td>0.790694</td>\n",
       "      <td>0.012700</td>\n",
       "      <td>1</td>\n",
       "    </tr>\n",
       "    <tr>\n",
       "      <th>4</th>\n",
       "      <td>1.122653</td>\n",
       "      <td>0.041315</td>\n",
       "      <td>0.002517</td>\n",
       "      <td>0.000872</td>\n",
       "      <td>100</td>\n",
       "      <td>{'C': 100}</td>\n",
       "      <td>0.779801</td>\n",
       "      <td>0.772071</td>\n",
       "      <td>0.745635</td>\n",
       "      <td>0.773701</td>\n",
       "      <td>0.800816</td>\n",
       "      <td>0.774405</td>\n",
       "      <td>0.017665</td>\n",
       "      <td>3</td>\n",
       "    </tr>\n",
       "  </tbody>\n",
       "</table>\n",
       "</div>"
      ],
      "text/plain": [
       "   mean_fit_time  std_fit_time  mean_score_time  std_score_time param_C  \\\n",
       "0       0.049309      0.014367         0.003867        0.001460    0.01   \n",
       "1       0.047800      0.002849         0.002099        0.000071     0.1   \n",
       "2       0.149180      0.070593         0.002799        0.000934       1   \n",
       "3       0.384418      0.082043         0.002687        0.000731      10   \n",
       "4       1.122653      0.041315         0.002517        0.000872     100   \n",
       "\n",
       "        params  split0_test_score  split1_test_score  split2_test_score  \\\n",
       "0  {'C': 0.01}           0.766612           0.753062           0.740617   \n",
       "1   {'C': 0.1}           0.774213           0.759359           0.750210   \n",
       "2     {'C': 1}           0.789183           0.773107           0.765343   \n",
       "3    {'C': 10}           0.799031           0.778252           0.772711   \n",
       "4   {'C': 100}           0.779801           0.772071           0.745635   \n",
       "\n",
       "   split3_test_score  split4_test_score  mean_test_score  std_test_score  \\\n",
       "0           0.769871           0.776240         0.761280        0.012810   \n",
       "1           0.783246           0.783352         0.770076        0.013239   \n",
       "2           0.803653           0.792585         0.784774        0.013788   \n",
       "3           0.804456           0.799021         0.790694        0.012700   \n",
       "4           0.773701           0.800816         0.774405        0.017665   \n",
       "\n",
       "   rank_test_score  \n",
       "0                5  \n",
       "1                4  \n",
       "2                2  \n",
       "3                1  \n",
       "4                3  "
      ]
     },
     "execution_count": 334,
     "metadata": {},
     "output_type": "execute_result"
    }
   ],
   "source": [
    "res_logistic = pd.DataFrame(clf_logistic.cv_results_)\n",
    "res_logistic"
   ]
  },
  {
   "cell_type": "code",
   "execution_count": 364,
   "metadata": {},
   "outputs": [
    {
     "name": "stdout",
     "output_type": "stream",
     "text": [
      "{'C': 0.01} ROC-AUC: 0.7855951980504466\n"
     ]
    }
   ],
   "source": [
    "print(clf_logistic.best_params_, \"ROC-AUC:\", clf_logistic.best_score_)"
   ]
  },
  {
   "cell_type": "markdown",
   "metadata": {},
   "source": [
    "### Naive Bayes"
   ]
  },
  {
   "cell_type": "code",
   "execution_count": 352,
   "metadata": {
    "scrolled": true
   },
   "outputs": [],
   "source": [
    "prior = np.array([1821/3000, 1179/3000] )"
   ]
  },
  {
   "cell_type": "code",
   "execution_count": 353,
   "metadata": {},
   "outputs": [
    {
     "name": "stdout",
     "output_type": "stream",
     "text": [
      "[0.7339355559694543, 0.7229058018252934, 0.7167419444961819, 0.7401052337493015, 0.7372602739726027]\n",
      "AUC-ROC: 0.73 (+/- 0.02)\n",
      "[0.5506431666247389, 0.5451873351132425, 0.5399641615031079, 0.5641490235298481, 0.5605619026678912]\n",
      "AUC-PR: 0.55 (+/- 0.02)\n",
      "[0.6533333333333333, 0.6516666666666666, 0.6316666666666667, 0.6633333333333333, 0.66]\n",
      "Accuracy: 0.65 (+/- 0.02)\n"
     ]
    }
   ],
   "source": [
    "gaus_bayes = GaussianNB(priors = prior)\n",
    "\n",
    "gaus_bayes_score, gaus_bayes_stds = evaluation_metrics(Xnormalized, classifier = gaus_bayes)"
   ]
  },
  {
   "cell_type": "code",
   "execution_count": 355,
   "metadata": {},
   "outputs": [
    {
     "name": "stdout",
     "output_type": "stream",
     "text": [
      "[0.7462865524306201, 0.7308157943751163, 0.7215030731979885, 0.7170795306388528, 0.7545205479452054]\n",
      "AUC-ROC: 0.73 (+/- 0.03)\n",
      "[0.5726752031074744, 0.5310549942627283, 0.5216143369035231, 0.517331673223913, 0.5761232677320136]\n",
      "AUC-PR: 0.54 (+/- 0.05)\n",
      "[0.6733333333333333, 0.6883333333333334, 0.6733333333333333, 0.675, 0.6866666666666666]\n",
      "Accuracy: 0.68 (+/- 0.01)\n"
     ]
    }
   ],
   "source": [
    "comp_bayes = ComplementNB()\n",
    "\n",
    "comp_bayes_score, comp_bayes_stds = evaluation_metrics(Xnormalized, classifier = comp_bayes)"
   ]
  },
  {
   "cell_type": "code",
   "execution_count": 357,
   "metadata": {},
   "outputs": [
    {
     "name": "stdout",
     "output_type": "stream",
     "text": [
      "[0.7447033898305084, 0.7274864965542931, 0.7275563419631216, 0.7535737567517228, 0.7560361410667443]\n",
      "AUC-ROC: 0.74 (+/- 0.02)\n",
      "[0.5809688106894698, 0.5431688451750721, 0.5532249011336461, 0.5988707197669176, 0.5910271651020911]\n",
      "AUC-PR: 0.57 (+/- 0.04)\n",
      "[0.6616666666666666, 0.65, 0.63, 0.6566666666666666, 0.6683333333333333]\n",
      "Accuracy: 0.65 (+/- 0.03)\n"
     ]
    }
   ],
   "source": [
    "ber_bayes = BernoulliNB()\n",
    "\n",
    "ber_bayes_score, ber_bayes_stds = evaluation_metrics(Xnormalized, classifier = ber_bayes)"
   ]
  },
  {
   "cell_type": "code",
   "execution_count": 360,
   "metadata": {},
   "outputs": [
    {
     "name": "stdout",
     "output_type": "stream",
     "text": [
      "[0.7462865524306201, 0.7308157943751163, 0.7215030731979885, 0.7170795306388528, 0.7545205479452054]\n",
      "AUC-ROC: 0.73 (+/- 0.03)\n",
      "[0.5726752031074744, 0.5310549942627283, 0.5216143369035231, 0.517331673223913, 0.5761232677320136]\n",
      "AUC-PR: 0.54 (+/- 0.05)\n",
      "[0.6733333333333333, 0.6883333333333334, 0.6733333333333333, 0.675, 0.6866666666666666]\n",
      "Accuracy: 0.68 (+/- 0.01)\n"
     ]
    }
   ],
   "source": [
    "multi_bayes = MultinomialNB()\n",
    "\n",
    "multi_bayes_score, multi_bayes_stds = evaluation_metrics(Xnormalized, classifier = multi_bayes)"
   ]
  },
  {
   "cell_type": "markdown",
   "metadata": {},
   "source": []
  },
  {
   "cell_type": "code",
   "execution_count": 61,
   "metadata": {},
   "outputs": [
    {
     "name": "stdout",
     "output_type": "stream",
     "text": [
      "[0.72333333 0.76666667 0.74166667 0.735      0.75166667]\n",
      "Accuracy: 0.74 (+/- 0.03)\n",
      "0.7436666666666667 0.014734690736866903\n"
     ]
    }
   ],
   "source": []
  },
  {
   "cell_type": "code",
   "execution_count": 63,
   "metadata": {},
   "outputs": [
    {
     "name": "stdout",
     "output_type": "stream",
     "text": [
      "[0.78666667 0.75666667 0.75166667 0.755      0.75833333]\n",
      "Accuracy: 0.76 (+/- 0.03)\n",
      "0.7616666666666666 0.012692955176439823\n"
     ]
    }
   ],
   "source": []
  },
  {
   "cell_type": "code",
   "execution_count": 70,
   "metadata": {
    "scrolled": true
   },
   "outputs": [
    {
     "name": "stdout",
     "output_type": "stream",
     "text": [
      "[0.64333333 0.66833333 0.65666667 0.67166667 0.665     ]\n",
      "Accuracy: 0.66 (+/- 0.02)\n",
      "0.6609999999999999 0.010143416036468634\n"
     ]
    }
   ],
   "source": []
  },
  {
   "cell_type": "code",
   "execution_count": 76,
   "metadata": {},
   "outputs": [
    {
     "name": "stdout",
     "output_type": "stream",
     "text": [
      "[0.77833333 0.75333333 0.74       0.75833333 0.74      ]\n",
      "Accuracy: 0.75 (+/- 0.03)\n",
      "0.7539999999999999 0.01416568624058385\n"
     ]
    }
   ],
   "source": []
  },
  {
   "cell_type": "code",
   "execution_count": 92,
   "metadata": {
    "scrolled": true
   },
   "outputs": [
    {
     "name": "stdout",
     "output_type": "stream",
     "text": [
      "[0.78333333 0.77166667 0.75       0.75333333 0.725     ]\n"
     ]
    }
   ],
   "source": []
  },
  {
   "cell_type": "code",
   "execution_count": 99,
   "metadata": {},
   "outputs": [
    {
     "data": {
      "image/png": "[encoded data removed]",
      "text/plain": [
       "<Figure size 432x288 with 1 Axes>"
      ]
     },
     "metadata": {
      "needs_background": "light"
     },
     "output_type": "display_data"
    }
   ],
   "source": [
    "zip(*cv_scores_next)\n",
    "plt.scatter(*zip(*cv_scores_next))\n",
    "plt.show()"
   ]
  },
  {
   "cell_type": "code",
   "execution_count": 100,
   "metadata": {},
   "outputs": [
    {
     "data": {
      "image/png": "[encoded data removed]",
      "text/plain": [
       "<Figure size 432x288 with 1 Axes>"
      ]
     },
     "metadata": {
      "needs_background": "light"
     },
     "output_type": "display_data"
    }
   ],
   "source": [
    "zip(*cv_std_next)\n",
    "plt.scatter(*zip(*cv_std_next))\n",
    "plt.show()"
   ]
  },
  {
   "cell_type": "code",
   "execution_count": 106,
   "metadata": {},
   "outputs": [
    {
     "name": "stdout",
     "output_type": "stream",
     "text": [
      "[(1, 0.7603333333333333), (3, 0.7516666666666667), (5, 0.7619999999999999), (7, 0.7699999999999999), (9, 0.7656666666666666), (11, 0.7676666666666667), (13, 0.772), (15, 0.7683333333333333), (17, 0.7653333333333332), (19, 0.764), (21, 0.765), (23, 0.7673333333333334), (25, 0.7673333333333334), (27, 0.7633333333333334), (29, 0.7633333333333333), (31, 0.7656666666666666), (33, 0.7623333333333333), (35, 0.7606666666666666), (37, 0.7643333333333333), (39, 0.767), (41, 0.7653333333333333), (43, 0.764), (45, 0.7596666666666666), (47, 0.7586666666666666), (49, 0.7596666666666667)]\n"
     ]
    }
   ],
   "source": [
    "print(cv_scores)"
   ]
  },
  {
   "cell_type": "markdown",
   "metadata": {},
   "source": [
    "Test 12 and 14 now. k=3 seems to be the best"
   ]
  },
  {
   "cell_type": "code",
   "execution_count": 107,
   "metadata": {},
   "outputs": [],
   "source": [
    "# creating odd list of K for KNN\n",
    "neighbors = list(range(12, 15, 1))\n",
    "\n",
    "# empty list that will hold cv scores\n",
    "cv_scores_mid = []\n",
    "cv_std_mid = []\n",
    "\n",
    "for k in neighbors:\n",
    "    knn = KNeighborsClassifier(n_neighbors=k)\n",
    "    scores = cross_val_score(knn, Xtrain, Ytrain, cv=skf, scoring='accuracy')\n",
    "    cv_scores_mid.append((k,scores.mean()))\n",
    "    cv_std_mid.append((k,scores.std()))"
   ]
  },
  {
   "cell_type": "code",
   "execution_count": 109,
   "metadata": {},
   "outputs": [
    {
     "data": {
      "image/png": "[encoded data removed]",
      "text/plain": [
       "<Figure size 432x288 with 1 Axes>"
      ]
     },
     "metadata": {
      "needs_background": "light"
     },
     "output_type": "display_data"
    },
    {
     "name": "stdout",
     "output_type": "stream",
     "text": [
      "[(12, 0.7713333333333333), (13, 0.772), (14, 0.774)]\n"
     ]
    }
   ],
   "source": [
    "zip(*cv_scores_mid)\n",
    "plt.scatter(*zip(*cv_scores_mid))\n",
    "plt.show()\n",
    "print(cv_scores_mid)"
   ]
  },
  {
   "cell_type": "markdown",
   "metadata": {},
   "source": [
    "so choose k=14"
   ]
  },
  {
   "cell_type": "code",
   "execution_count": 13,
   "metadata": {},
   "outputs": [],
   "source": [
    "# creating odd list of K for KNN\n",
    "neighbors = list(range(1, 50, 2))\n",
    "\n",
    "# empty list that will hold cv scores\n",
    "cv_scores_def = []\n",
    "cv_std_def = []\n",
    "\n",
    "for k in neighbors:\n",
    "    knn = KNeighborsClassifier(n_neighbors=k)\n",
    "    scores = cross_val_score(knn, Xtrain, Ytrain, cv=skf, scoring='accuracy')\n",
    "    cv_scores_def.append((k,scores.mean()))\n",
    "    cv_std_def.append((k,scores.std()))"
   ]
  },
  {
   "cell_type": "code",
   "execution_count": 14,
   "metadata": {},
   "outputs": [
    {
     "data": {
      "image/png": "[encoded data removed]",
      "text/plain": [
       "<Figure size 432x288 with 1 Axes>"
      ]
     },
     "metadata": {
      "needs_background": "light"
     },
     "output_type": "display_data"
    },
    {
     "name": "stdout",
     "output_type": "stream",
     "text": [
      "[(1, 0.7536536194082021), (3, 0.7573208314467539), (5, 0.7583297314714763), (7, 0.7623291823958771), (9, 0.7659947435039172), (11, 0.7649952907276595), (13, 0.7683319666628704), (15, 0.7636652944406327), (17, 0.7686630833233796), (19, 0.7643314175872711), (21, 0.7703303064730735), (23, 0.7699941981320318), (25, 0.7716569749730786), (27, 0.767329193507019), (29, 0.7636664074066872), (31, 0.767663630547122), (33, 0.7689964092492849), (35, 0.7673330777770679), (37, 0.7683314064761292), (39, 0.7659969620285982), (41, 0.762996401841857), (43, 0.7636641759190071), (45, 0.760996398138143), (47, 0.7633319574035854), (49, 0.7660008500023612)]\n"
     ]
    }
   ],
   "source": [
    "zip(*cv_scores_def)\n",
    "plt.scatter(*zip(*cv_scores_def))\n",
    "plt.show()\n",
    "print(cv_scores_def)"
   ]
  },
  {
   "cell_type": "code",
   "execution_count": 15,
   "metadata": {},
   "outputs": [],
   "source": [
    "# creating odd list of K for KNN\n",
    "neighbors = list(range(19, 28, 1))\n",
    "\n",
    "# empty list that will hold cv scores\n",
    "cv_scores_zoom = []\n",
    "cv_std_zoom = []\n",
    "\n",
    "for k in neighbors:\n",
    "    knn = KNeighborsClassifier(n_neighbors=k)\n",
    "    scores = cross_val_score(knn, Xscale, Ytrain, cv=skf, scoring='accuracy')\n",
    "    cv_scores_zoom.append((k,scores.mean()))\n",
    "    cv_std_zoom.append((k,scores.std()))"
   ]
  },
  {
   "cell_type": "code",
   "execution_count": 21,
   "metadata": {},
   "outputs": [
    {
     "name": "stdout",
     "output_type": "stream",
     "text": [
      "[0.67387687 0.605      0.575      0.645      0.67445743]\n"
     ]
    }
   ],
   "source": [
    "print(perceptron_scores)"
   ]
  },
  {
   "cell_type": "code",
   "execution_count": 35,
   "metadata": {},
   "outputs": [
    {
     "name": "stdout",
     "output_type": "stream",
     "text": [
      "Train Accuracy 0.8663333333333333\n"
     ]
    }
   ],
   "source": [
    "LSVM.fit(Xscale,Ytrain)\n",
    "Ypredict = LSVM.predict(Xscale)\n",
    "\n",
    "print( \"Train Accuracy\", np.mean(Ypredict==Ytrain))"
   ]
  },
  {
   "cell_type": "code",
   "execution_count": 36,
   "metadata": {},
   "outputs": [
    {
     "name": "stdout",
     "output_type": "stream",
     "text": [
      "[0.65723794 0.66333333 0.64166667 0.67       0.71452421]\n"
     ]
    }
   ],
   "source": [
    "LSVMscore = cross_val_score(LSVM, Xscale, Ytrain, cv=5)\n",
    "print(LSVMscore)"
   ]
  },
  {
   "cell_type": "code",
   "execution_count": null,
   "metadata": {},
   "outputs": [],
   "source": [
    "polySVM = SVC(C = 1, kernel = 'poly', degree = 2,  class_weight = 'balanced', coef0 = 1.0)\n",
    "\n",
    "polySVM_score = cross_val_score(polySVM, Xscale, Ytrain, cv = 5)"
   ]
  },
  {
   "cell_type": "code",
   "execution_count": 13,
   "metadata": {},
   "outputs": [
    {
     "name": "stdout",
     "output_type": "stream",
     "text": [
      "[0.78369384 0.77833333 0.79       0.77166667 0.78964942]\n"
     ]
    },
    {
     "data": {
      "text/plain": [
       "0.7826686518573662"
      ]
     },
     "execution_count": 13,
     "metadata": {},
     "output_type": "execute_result"
    }
   ],
   "source": [
    "print(polySVM_score)\n",
    "polySVM_score.mean()"
   ]
  },
  {
   "cell_type": "code",
   "execution_count": 14,
   "metadata": {},
   "outputs": [
    {
     "name": "stderr",
     "output_type": "stream",
     "text": [
      "/local/java/python-pip-packages.cs909/lib64/python3.6/site-packages/sklearn/svm/base.py:196: FutureWarning: The default value of gamma will change from 'auto' to 'scale' in version 0.22 to account better for unscaled features. Set gamma explicitly to 'auto' or 'scale' to avoid this warning.\n",
      "  \"avoid this warning.\", FutureWarning)\n",
      "/local/java/python-pip-packages.cs909/lib64/python3.6/site-packages/sklearn/svm/base.py:196: FutureWarning: The default value of gamma will change from 'auto' to 'scale' in version 0.22 to account better for unscaled features. Set gamma explicitly to 'auto' or 'scale' to avoid this warning.\n",
      "  \"avoid this warning.\", FutureWarning)\n",
      "/local/java/python-pip-packages.cs909/lib64/python3.6/site-packages/sklearn/svm/base.py:196: FutureWarning: The default value of gamma will change from 'auto' to 'scale' in version 0.22 to account better for unscaled features. Set gamma explicitly to 'auto' or 'scale' to avoid this warning.\n",
      "  \"avoid this warning.\", FutureWarning)\n",
      "/local/java/python-pip-packages.cs909/lib64/python3.6/site-packages/sklearn/svm/base.py:196: FutureWarning: The default value of gamma will change from 'auto' to 'scale' in version 0.22 to account better for unscaled features. Set gamma explicitly to 'auto' or 'scale' to avoid this warning.\n",
      "  \"avoid this warning.\", FutureWarning)\n",
      "/local/java/python-pip-packages.cs909/lib64/python3.6/site-packages/sklearn/svm/base.py:196: FutureWarning: The default value of gamma will change from 'auto' to 'scale' in version 0.22 to account better for unscaled features. Set gamma explicitly to 'auto' or 'scale' to avoid this warning.\n",
      "  \"avoid this warning.\", FutureWarning)\n"
     ]
    }
   ],
   "source": [
    "polySVM4 = SVC(C = 1, kernel = 'poly', degree = 4,  class_weight = 'balanced', coef0 = 1.0)\n",
    "\n",
    "polySVM4_score = cross_val_score(polySVM4, Xscale, Ytrain, cv = 5)"
   ]
  },
  {
   "cell_type": "code",
   "execution_count": 15,
   "metadata": {},
   "outputs": [
    {
     "name": "stdout",
     "output_type": "stream",
     "text": [
      "[0.77204659 0.77333333 0.77833333 0.77833333 0.78964942]\n"
     ]
    },
    {
     "data": {
      "text/plain": [
       "0.7783392009422248"
      ]
     },
     "execution_count": 15,
     "metadata": {},
     "output_type": "execute_result"
    }
   ],
   "source": [
    "print(polySVM4_score)\n",
    "polySVM4_score.mean()"
   ]
  },
  {
   "cell_type": "code",
   "execution_count": null,
   "metadata": {},
   "outputs": [],
   "source": []
  }
 ],
 "metadata": {
  "kernelspec": {
   "display_name": "Python 3",
   "language": "python",
   "name": "python3"
  },
  "language_info": {
   "codemirror_mode": {
    "name": "ipython",
    "version": 3
   },
   "file_extension": ".py",
   "mimetype": "text/x-python",
   "name": "python",
   "nbconvert_exporter": "python",
   "pygments_lexer": "ipython3",
   "version": "3.7.4"
  }
 },
 "nbformat": 4,
 "nbformat_minor": 2
}
